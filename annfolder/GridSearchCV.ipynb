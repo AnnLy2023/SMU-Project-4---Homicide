{
 "cells": [
  {
   "cell_type": "code",
   "execution_count": 48,
   "id": "dc9f9c5e",
   "metadata": {},
   "outputs": [],
   "source": [
    "# Import modules\n",
    "from warnings import simplefilter\n",
    "simplefilter(action='ignore', category=FutureWarning)\n",
    "\n",
    "# data science\n",
    "import pandas as pd\n",
    "import numpy as np\n",
    "\n",
    "# visualization imports\n",
    "import matplotlib.pyplot as plt\n",
    "import seaborn as sns\n",
    "from sklearn.model_selection import train_test_split, GridSearchCV\n",
    "from sklearn.metrics import confusion_matrix, classification_report, roc_auc_score, roc_curve\n",
    "\n",
    "# Algorithms\n",
    "from sklearn.linear_model import LogisticRegression\n",
    "from sklearn.svm import SVC\n",
    "from sklearn.neighbors import KNeighborsClassifier\n",
    "from sklearn.metrics import accuracy_score\n",
    "\n",
    "from sklearn.datasets import make_classification\n",
    "\n",
    "# fun ones\n",
    "from xgboost import XGBClassifier\n",
    "from lightgbm import LGBMClassifier\n",
    "from sklearn.ensemble import AdaBoostClassifier, GradientBoostingClassifier\n",
    "\n",
    "seed = 0"
   ]
  },
  {
   "cell_type": "code",
   "execution_count": 49,
   "id": "e7d70d2f",
   "metadata": {},
   "outputs": [
    {
     "data": {
      "text/html": [
       "<div>\n",
       "<style scoped>\n",
       "    .dataframe tbody tr th:only-of-type {\n",
       "        vertical-align: middle;\n",
       "    }\n",
       "\n",
       "    .dataframe tbody tr th {\n",
       "        vertical-align: top;\n",
       "    }\n",
       "\n",
       "    .dataframe thead th {\n",
       "        text-align: right;\n",
       "    }\n",
       "</style>\n",
       "<table border=\"1\" class=\"dataframe\">\n",
       "  <thead>\n",
       "    <tr style=\"text-align: right;\">\n",
       "      <th></th>\n",
       "      <th>uid</th>\n",
       "      <th>disposition</th>\n",
       "      <th>victim_sex</th>\n",
       "      <th>victim_race</th>\n",
       "      <th>victim_age</th>\n",
       "      <th>age_range</th>\n",
       "      <th>reported_date</th>\n",
       "      <th>reported_year</th>\n",
       "      <th>reported_month</th>\n",
       "      <th>reported_weekday</th>\n",
       "      <th>season</th>\n",
       "      <th>city</th>\n",
       "      <th>state</th>\n",
       "      <th>lat</th>\n",
       "      <th>lon</th>\n",
       "      <th>LOCATION</th>\n",
       "      <th>POPULATION</th>\n",
       "    </tr>\n",
       "  </thead>\n",
       "  <tbody>\n",
       "    <tr>\n",
       "      <th>0</th>\n",
       "      <td>Alb-000001</td>\n",
       "      <td>No Arrest</td>\n",
       "      <td>Male</td>\n",
       "      <td>Hispanic</td>\n",
       "      <td>78</td>\n",
       "      <td>65+</td>\n",
       "      <td>2010-05-04</td>\n",
       "      <td>2010</td>\n",
       "      <td>May</td>\n",
       "      <td>Tuesday</td>\n",
       "      <td>Spring</td>\n",
       "      <td>Albuquerque</td>\n",
       "      <td>NM</td>\n",
       "      <td>35.095788</td>\n",
       "      <td>-106.538555</td>\n",
       "      <td>Albuquerque, NM</td>\n",
       "      <td>545852</td>\n",
       "    </tr>\n",
       "    <tr>\n",
       "      <th>1</th>\n",
       "      <td>Alb-000002</td>\n",
       "      <td>Arrest Made</td>\n",
       "      <td>Male</td>\n",
       "      <td>Hispanic</td>\n",
       "      <td>17</td>\n",
       "      <td>0-17</td>\n",
       "      <td>2010-02-16</td>\n",
       "      <td>2010</td>\n",
       "      <td>February</td>\n",
       "      <td>Tuesday</td>\n",
       "      <td>Winter</td>\n",
       "      <td>Albuquerque</td>\n",
       "      <td>NM</td>\n",
       "      <td>35.056810</td>\n",
       "      <td>-106.715321</td>\n",
       "      <td>Albuquerque, NM</td>\n",
       "      <td>545852</td>\n",
       "    </tr>\n",
       "    <tr>\n",
       "      <th>2</th>\n",
       "      <td>Alb-000003</td>\n",
       "      <td>No Arrest</td>\n",
       "      <td>Female</td>\n",
       "      <td>White</td>\n",
       "      <td>15</td>\n",
       "      <td>0-17</td>\n",
       "      <td>2010-06-01</td>\n",
       "      <td>2010</td>\n",
       "      <td>June</td>\n",
       "      <td>Tuesday</td>\n",
       "      <td>Summer</td>\n",
       "      <td>Albuquerque</td>\n",
       "      <td>NM</td>\n",
       "      <td>35.086092</td>\n",
       "      <td>-106.695568</td>\n",
       "      <td>Albuquerque, NM</td>\n",
       "      <td>545852</td>\n",
       "    </tr>\n",
       "    <tr>\n",
       "      <th>3</th>\n",
       "      <td>Alb-000004</td>\n",
       "      <td>Arrest Made</td>\n",
       "      <td>Male</td>\n",
       "      <td>Hispanic</td>\n",
       "      <td>32</td>\n",
       "      <td>30-44</td>\n",
       "      <td>2010-01-01</td>\n",
       "      <td>2010</td>\n",
       "      <td>January</td>\n",
       "      <td>Friday</td>\n",
       "      <td>Winter</td>\n",
       "      <td>Albuquerque</td>\n",
       "      <td>NM</td>\n",
       "      <td>35.078493</td>\n",
       "      <td>-106.556094</td>\n",
       "      <td>Albuquerque, NM</td>\n",
       "      <td>545852</td>\n",
       "    </tr>\n",
       "    <tr>\n",
       "      <th>4</th>\n",
       "      <td>Alb-000005</td>\n",
       "      <td>No Arrest</td>\n",
       "      <td>Female</td>\n",
       "      <td>White</td>\n",
       "      <td>72</td>\n",
       "      <td>65+</td>\n",
       "      <td>2010-01-02</td>\n",
       "      <td>2010</td>\n",
       "      <td>January</td>\n",
       "      <td>Saturday</td>\n",
       "      <td>Winter</td>\n",
       "      <td>Albuquerque</td>\n",
       "      <td>NM</td>\n",
       "      <td>35.130357</td>\n",
       "      <td>-106.580986</td>\n",
       "      <td>Albuquerque, NM</td>\n",
       "      <td>545852</td>\n",
       "    </tr>\n",
       "    <tr>\n",
       "      <th>...</th>\n",
       "      <td>...</td>\n",
       "      <td>...</td>\n",
       "      <td>...</td>\n",
       "      <td>...</td>\n",
       "      <td>...</td>\n",
       "      <td>...</td>\n",
       "      <td>...</td>\n",
       "      <td>...</td>\n",
       "      <td>...</td>\n",
       "      <td>...</td>\n",
       "      <td>...</td>\n",
       "      <td>...</td>\n",
       "      <td>...</td>\n",
       "      <td>...</td>\n",
       "      <td>...</td>\n",
       "      <td>...</td>\n",
       "      <td>...</td>\n",
       "    </tr>\n",
       "    <tr>\n",
       "      <th>47473</th>\n",
       "      <td>Was-001380</td>\n",
       "      <td>Arrest Made</td>\n",
       "      <td>Male</td>\n",
       "      <td>Black</td>\n",
       "      <td>29</td>\n",
       "      <td>18-29</td>\n",
       "      <td>2016-09-08</td>\n",
       "      <td>2016</td>\n",
       "      <td>September</td>\n",
       "      <td>Thursday</td>\n",
       "      <td>Fall</td>\n",
       "      <td>Washington</td>\n",
       "      <td>DC</td>\n",
       "      <td>38.828704</td>\n",
       "      <td>-77.002075</td>\n",
       "      <td>Washington, DC</td>\n",
       "      <td>687576</td>\n",
       "    </tr>\n",
       "    <tr>\n",
       "      <th>47474</th>\n",
       "      <td>Was-001381</td>\n",
       "      <td>No Arrest</td>\n",
       "      <td>Male</td>\n",
       "      <td>Black</td>\n",
       "      <td>19</td>\n",
       "      <td>18-29</td>\n",
       "      <td>2016-09-13</td>\n",
       "      <td>2016</td>\n",
       "      <td>September</td>\n",
       "      <td>Tuesday</td>\n",
       "      <td>Fall</td>\n",
       "      <td>Washington</td>\n",
       "      <td>DC</td>\n",
       "      <td>38.822852</td>\n",
       "      <td>-77.001725</td>\n",
       "      <td>Washington, DC</td>\n",
       "      <td>687576</td>\n",
       "    </tr>\n",
       "    <tr>\n",
       "      <th>47475</th>\n",
       "      <td>Was-001382</td>\n",
       "      <td>No Arrest</td>\n",
       "      <td>Male</td>\n",
       "      <td>Black</td>\n",
       "      <td>23</td>\n",
       "      <td>18-29</td>\n",
       "      <td>2016-11-14</td>\n",
       "      <td>2016</td>\n",
       "      <td>November</td>\n",
       "      <td>Monday</td>\n",
       "      <td>Fall</td>\n",
       "      <td>Washington</td>\n",
       "      <td>DC</td>\n",
       "      <td>38.828025</td>\n",
       "      <td>-77.002511</td>\n",
       "      <td>Washington, DC</td>\n",
       "      <td>687576</td>\n",
       "    </tr>\n",
       "    <tr>\n",
       "      <th>47476</th>\n",
       "      <td>Was-001383</td>\n",
       "      <td>No Arrest</td>\n",
       "      <td>Male</td>\n",
       "      <td>Black</td>\n",
       "      <td>24</td>\n",
       "      <td>18-29</td>\n",
       "      <td>2016-11-30</td>\n",
       "      <td>2016</td>\n",
       "      <td>November</td>\n",
       "      <td>Wednesday</td>\n",
       "      <td>Fall</td>\n",
       "      <td>Washington</td>\n",
       "      <td>DC</td>\n",
       "      <td>38.820476</td>\n",
       "      <td>-77.008640</td>\n",
       "      <td>Washington, DC</td>\n",
       "      <td>687576</td>\n",
       "    </tr>\n",
       "    <tr>\n",
       "      <th>47477</th>\n",
       "      <td>Was-001384</td>\n",
       "      <td>Arrest Made</td>\n",
       "      <td>Male</td>\n",
       "      <td>Black</td>\n",
       "      <td>17</td>\n",
       "      <td>0-17</td>\n",
       "      <td>2016-09-01</td>\n",
       "      <td>2016</td>\n",
       "      <td>September</td>\n",
       "      <td>Thursday</td>\n",
       "      <td>Fall</td>\n",
       "      <td>Washington</td>\n",
       "      <td>DC</td>\n",
       "      <td>38.866689</td>\n",
       "      <td>-76.982409</td>\n",
       "      <td>Washington, DC</td>\n",
       "      <td>687576</td>\n",
       "    </tr>\n",
       "  </tbody>\n",
       "</table>\n",
       "<p>47478 rows × 17 columns</p>\n",
       "</div>"
      ],
      "text/plain": [
       "              uid  disposition victim_sex victim_race  victim_age age_range  \\\n",
       "0      Alb-000001    No Arrest       Male    Hispanic          78       65+   \n",
       "1      Alb-000002  Arrest Made       Male    Hispanic          17      0-17   \n",
       "2      Alb-000003    No Arrest     Female       White          15      0-17   \n",
       "3      Alb-000004  Arrest Made       Male    Hispanic          32     30-44   \n",
       "4      Alb-000005    No Arrest     Female       White          72       65+   \n",
       "...           ...          ...        ...         ...         ...       ...   \n",
       "47473  Was-001380  Arrest Made       Male       Black          29     18-29   \n",
       "47474  Was-001381    No Arrest       Male       Black          19     18-29   \n",
       "47475  Was-001382    No Arrest       Male       Black          23     18-29   \n",
       "47476  Was-001383    No Arrest       Male       Black          24     18-29   \n",
       "47477  Was-001384  Arrest Made       Male       Black          17      0-17   \n",
       "\n",
       "      reported_date  reported_year reported_month reported_weekday  season  \\\n",
       "0        2010-05-04           2010            May          Tuesday  Spring   \n",
       "1        2010-02-16           2010       February          Tuesday  Winter   \n",
       "2        2010-06-01           2010           June          Tuesday  Summer   \n",
       "3        2010-01-01           2010        January           Friday  Winter   \n",
       "4        2010-01-02           2010        January         Saturday  Winter   \n",
       "...             ...            ...            ...              ...     ...   \n",
       "47473    2016-09-08           2016      September         Thursday    Fall   \n",
       "47474    2016-09-13           2016      September          Tuesday    Fall   \n",
       "47475    2016-11-14           2016       November           Monday    Fall   \n",
       "47476    2016-11-30           2016       November        Wednesday    Fall   \n",
       "47477    2016-09-01           2016      September         Thursday    Fall   \n",
       "\n",
       "              city state        lat         lon         LOCATION  POPULATION  \n",
       "0      Albuquerque    NM  35.095788 -106.538555  Albuquerque, NM      545852  \n",
       "1      Albuquerque    NM  35.056810 -106.715321  Albuquerque, NM      545852  \n",
       "2      Albuquerque    NM  35.086092 -106.695568  Albuquerque, NM      545852  \n",
       "3      Albuquerque    NM  35.078493 -106.556094  Albuquerque, NM      545852  \n",
       "4      Albuquerque    NM  35.130357 -106.580986  Albuquerque, NM      545852  \n",
       "...            ...   ...        ...         ...              ...         ...  \n",
       "47473   Washington    DC  38.828704  -77.002075   Washington, DC      687576  \n",
       "47474   Washington    DC  38.822852  -77.001725   Washington, DC      687576  \n",
       "47475   Washington    DC  38.828025  -77.002511   Washington, DC      687576  \n",
       "47476   Washington    DC  38.820476  -77.008640   Washington, DC      687576  \n",
       "47477   Washington    DC  38.866689  -76.982409   Washington, DC      687576  \n",
       "\n",
       "[47478 rows x 17 columns]"
      ]
     },
     "execution_count": 49,
     "metadata": {},
     "output_type": "execute_result"
    }
   ],
   "source": [
    "df1 = pd.read_csv(\"../data_cleaning/data/ml_clean_homicide_data.csv\", encoding = 'latin1')\n",
    "df1"
   ]
  },
  {
   "cell_type": "code",
   "execution_count": 50,
   "id": "b292215a",
   "metadata": {},
   "outputs": [
    {
     "data": {
      "text/html": [
       "<div>\n",
       "<style scoped>\n",
       "    .dataframe tbody tr th:only-of-type {\n",
       "        vertical-align: middle;\n",
       "    }\n",
       "\n",
       "    .dataframe tbody tr th {\n",
       "        vertical-align: top;\n",
       "    }\n",
       "\n",
       "    .dataframe thead th {\n",
       "        text-align: right;\n",
       "    }\n",
       "</style>\n",
       "<table border=\"1\" class=\"dataframe\">\n",
       "  <thead>\n",
       "    <tr style=\"text-align: right;\">\n",
       "      <th></th>\n",
       "      <th>victim_age</th>\n",
       "      <th>victim_sex</th>\n",
       "      <th>victim_race</th>\n",
       "      <th>reported_date</th>\n",
       "      <th>reported_year</th>\n",
       "      <th>reported_month</th>\n",
       "      <th>reported_weekday</th>\n",
       "      <th>season</th>\n",
       "      <th>city</th>\n",
       "      <th>state</th>\n",
       "      <th>POPULATION</th>\n",
       "      <th>disposition</th>\n",
       "    </tr>\n",
       "  </thead>\n",
       "  <tbody>\n",
       "    <tr>\n",
       "      <th>0</th>\n",
       "      <td>78</td>\n",
       "      <td>Male</td>\n",
       "      <td>Hispanic</td>\n",
       "      <td>2010-05-04</td>\n",
       "      <td>2010</td>\n",
       "      <td>May</td>\n",
       "      <td>Tuesday</td>\n",
       "      <td>Spring</td>\n",
       "      <td>Albuquerque</td>\n",
       "      <td>NM</td>\n",
       "      <td>545852</td>\n",
       "      <td>No Arrest</td>\n",
       "    </tr>\n",
       "    <tr>\n",
       "      <th>1</th>\n",
       "      <td>17</td>\n",
       "      <td>Male</td>\n",
       "      <td>Hispanic</td>\n",
       "      <td>2010-02-16</td>\n",
       "      <td>2010</td>\n",
       "      <td>February</td>\n",
       "      <td>Tuesday</td>\n",
       "      <td>Winter</td>\n",
       "      <td>Albuquerque</td>\n",
       "      <td>NM</td>\n",
       "      <td>545852</td>\n",
       "      <td>Arrest Made</td>\n",
       "    </tr>\n",
       "    <tr>\n",
       "      <th>2</th>\n",
       "      <td>15</td>\n",
       "      <td>Female</td>\n",
       "      <td>White</td>\n",
       "      <td>2010-06-01</td>\n",
       "      <td>2010</td>\n",
       "      <td>June</td>\n",
       "      <td>Tuesday</td>\n",
       "      <td>Summer</td>\n",
       "      <td>Albuquerque</td>\n",
       "      <td>NM</td>\n",
       "      <td>545852</td>\n",
       "      <td>No Arrest</td>\n",
       "    </tr>\n",
       "    <tr>\n",
       "      <th>3</th>\n",
       "      <td>32</td>\n",
       "      <td>Male</td>\n",
       "      <td>Hispanic</td>\n",
       "      <td>2010-01-01</td>\n",
       "      <td>2010</td>\n",
       "      <td>January</td>\n",
       "      <td>Friday</td>\n",
       "      <td>Winter</td>\n",
       "      <td>Albuquerque</td>\n",
       "      <td>NM</td>\n",
       "      <td>545852</td>\n",
       "      <td>Arrest Made</td>\n",
       "    </tr>\n",
       "    <tr>\n",
       "      <th>4</th>\n",
       "      <td>72</td>\n",
       "      <td>Female</td>\n",
       "      <td>White</td>\n",
       "      <td>2010-01-02</td>\n",
       "      <td>2010</td>\n",
       "      <td>January</td>\n",
       "      <td>Saturday</td>\n",
       "      <td>Winter</td>\n",
       "      <td>Albuquerque</td>\n",
       "      <td>NM</td>\n",
       "      <td>545852</td>\n",
       "      <td>No Arrest</td>\n",
       "    </tr>\n",
       "  </tbody>\n",
       "</table>\n",
       "</div>"
      ],
      "text/plain": [
       "   victim_age victim_sex victim_race reported_date  reported_year  \\\n",
       "0          78       Male    Hispanic    2010-05-04           2010   \n",
       "1          17       Male    Hispanic    2010-02-16           2010   \n",
       "2          15     Female       White    2010-06-01           2010   \n",
       "3          32       Male    Hispanic    2010-01-01           2010   \n",
       "4          72     Female       White    2010-01-02           2010   \n",
       "\n",
       "  reported_month reported_weekday  season         city state  POPULATION  \\\n",
       "0            May          Tuesday  Spring  Albuquerque    NM      545852   \n",
       "1       February          Tuesday  Winter  Albuquerque    NM      545852   \n",
       "2           June          Tuesday  Summer  Albuquerque    NM      545852   \n",
       "3        January           Friday  Winter  Albuquerque    NM      545852   \n",
       "4        January         Saturday  Winter  Albuquerque    NM      545852   \n",
       "\n",
       "   disposition  \n",
       "0    No Arrest  \n",
       "1  Arrest Made  \n",
       "2    No Arrest  \n",
       "3  Arrest Made  \n",
       "4    No Arrest  "
      ]
     },
     "execution_count": 50,
     "metadata": {},
     "output_type": "execute_result"
    }
   ],
   "source": [
    "# Select and retain only the desired columns\n",
    "final_columns_to_keep = ['victim_age','victim_sex','victim_race', 'reported_date', 'reported_year','reported_month', 'reported_weekday', 'season', 'city', 'state', 'POPULATION', 'disposition']\n",
    "df = df1[final_columns_to_keep]\n",
    "df.head()"
   ]
  },
  {
   "cell_type": "code",
   "execution_count": 51,
   "id": "a59b5075",
   "metadata": {},
   "outputs": [
    {
     "name": "stderr",
     "output_type": "stream",
     "text": [
      "C:\\Users\\Home\\AppData\\Local\\Temp\\ipykernel_23412\\3285981948.py:1: SettingWithCopyWarning: \n",
      "A value is trying to be set on a copy of a slice from a DataFrame.\n",
      "Try using .loc[row_indexer,col_indexer] = value instead\n",
      "\n",
      "See the caveats in the documentation: https://pandas.pydata.org/pandas-docs/stable/user_guide/indexing.html#returning-a-view-versus-a-copy\n",
      "  df[\"disposition\"] = df[\"disposition\"].apply(lambda x: 1 if x == \"Arrest Made\" else 0)\n"
     ]
    },
    {
     "data": {
      "text/html": [
       "<div>\n",
       "<style scoped>\n",
       "    .dataframe tbody tr th:only-of-type {\n",
       "        vertical-align: middle;\n",
       "    }\n",
       "\n",
       "    .dataframe tbody tr th {\n",
       "        vertical-align: top;\n",
       "    }\n",
       "\n",
       "    .dataframe thead th {\n",
       "        text-align: right;\n",
       "    }\n",
       "</style>\n",
       "<table border=\"1\" class=\"dataframe\">\n",
       "  <thead>\n",
       "    <tr style=\"text-align: right;\">\n",
       "      <th></th>\n",
       "      <th>victim_age</th>\n",
       "      <th>victim_sex</th>\n",
       "      <th>victim_race</th>\n",
       "      <th>reported_date</th>\n",
       "      <th>reported_year</th>\n",
       "      <th>reported_month</th>\n",
       "      <th>reported_weekday</th>\n",
       "      <th>season</th>\n",
       "      <th>city</th>\n",
       "      <th>state</th>\n",
       "      <th>POPULATION</th>\n",
       "      <th>disposition</th>\n",
       "    </tr>\n",
       "  </thead>\n",
       "  <tbody>\n",
       "    <tr>\n",
       "      <th>0</th>\n",
       "      <td>78</td>\n",
       "      <td>Male</td>\n",
       "      <td>Hispanic</td>\n",
       "      <td>2010-05-04</td>\n",
       "      <td>2010</td>\n",
       "      <td>May</td>\n",
       "      <td>Tuesday</td>\n",
       "      <td>Spring</td>\n",
       "      <td>Albuquerque</td>\n",
       "      <td>NM</td>\n",
       "      <td>545852</td>\n",
       "      <td>0</td>\n",
       "    </tr>\n",
       "    <tr>\n",
       "      <th>1</th>\n",
       "      <td>17</td>\n",
       "      <td>Male</td>\n",
       "      <td>Hispanic</td>\n",
       "      <td>2010-02-16</td>\n",
       "      <td>2010</td>\n",
       "      <td>February</td>\n",
       "      <td>Tuesday</td>\n",
       "      <td>Winter</td>\n",
       "      <td>Albuquerque</td>\n",
       "      <td>NM</td>\n",
       "      <td>545852</td>\n",
       "      <td>1</td>\n",
       "    </tr>\n",
       "    <tr>\n",
       "      <th>2</th>\n",
       "      <td>15</td>\n",
       "      <td>Female</td>\n",
       "      <td>White</td>\n",
       "      <td>2010-06-01</td>\n",
       "      <td>2010</td>\n",
       "      <td>June</td>\n",
       "      <td>Tuesday</td>\n",
       "      <td>Summer</td>\n",
       "      <td>Albuquerque</td>\n",
       "      <td>NM</td>\n",
       "      <td>545852</td>\n",
       "      <td>0</td>\n",
       "    </tr>\n",
       "    <tr>\n",
       "      <th>3</th>\n",
       "      <td>32</td>\n",
       "      <td>Male</td>\n",
       "      <td>Hispanic</td>\n",
       "      <td>2010-01-01</td>\n",
       "      <td>2010</td>\n",
       "      <td>January</td>\n",
       "      <td>Friday</td>\n",
       "      <td>Winter</td>\n",
       "      <td>Albuquerque</td>\n",
       "      <td>NM</td>\n",
       "      <td>545852</td>\n",
       "      <td>1</td>\n",
       "    </tr>\n",
       "    <tr>\n",
       "      <th>4</th>\n",
       "      <td>72</td>\n",
       "      <td>Female</td>\n",
       "      <td>White</td>\n",
       "      <td>2010-01-02</td>\n",
       "      <td>2010</td>\n",
       "      <td>January</td>\n",
       "      <td>Saturday</td>\n",
       "      <td>Winter</td>\n",
       "      <td>Albuquerque</td>\n",
       "      <td>NM</td>\n",
       "      <td>545852</td>\n",
       "      <td>0</td>\n",
       "    </tr>\n",
       "    <tr>\n",
       "      <th>...</th>\n",
       "      <td>...</td>\n",
       "      <td>...</td>\n",
       "      <td>...</td>\n",
       "      <td>...</td>\n",
       "      <td>...</td>\n",
       "      <td>...</td>\n",
       "      <td>...</td>\n",
       "      <td>...</td>\n",
       "      <td>...</td>\n",
       "      <td>...</td>\n",
       "      <td>...</td>\n",
       "      <td>...</td>\n",
       "    </tr>\n",
       "    <tr>\n",
       "      <th>47473</th>\n",
       "      <td>29</td>\n",
       "      <td>Male</td>\n",
       "      <td>Black</td>\n",
       "      <td>2016-09-08</td>\n",
       "      <td>2016</td>\n",
       "      <td>September</td>\n",
       "      <td>Thursday</td>\n",
       "      <td>Fall</td>\n",
       "      <td>Washington</td>\n",
       "      <td>DC</td>\n",
       "      <td>687576</td>\n",
       "      <td>1</td>\n",
       "    </tr>\n",
       "    <tr>\n",
       "      <th>47474</th>\n",
       "      <td>19</td>\n",
       "      <td>Male</td>\n",
       "      <td>Black</td>\n",
       "      <td>2016-09-13</td>\n",
       "      <td>2016</td>\n",
       "      <td>September</td>\n",
       "      <td>Tuesday</td>\n",
       "      <td>Fall</td>\n",
       "      <td>Washington</td>\n",
       "      <td>DC</td>\n",
       "      <td>687576</td>\n",
       "      <td>0</td>\n",
       "    </tr>\n",
       "    <tr>\n",
       "      <th>47475</th>\n",
       "      <td>23</td>\n",
       "      <td>Male</td>\n",
       "      <td>Black</td>\n",
       "      <td>2016-11-14</td>\n",
       "      <td>2016</td>\n",
       "      <td>November</td>\n",
       "      <td>Monday</td>\n",
       "      <td>Fall</td>\n",
       "      <td>Washington</td>\n",
       "      <td>DC</td>\n",
       "      <td>687576</td>\n",
       "      <td>0</td>\n",
       "    </tr>\n",
       "    <tr>\n",
       "      <th>47476</th>\n",
       "      <td>24</td>\n",
       "      <td>Male</td>\n",
       "      <td>Black</td>\n",
       "      <td>2016-11-30</td>\n",
       "      <td>2016</td>\n",
       "      <td>November</td>\n",
       "      <td>Wednesday</td>\n",
       "      <td>Fall</td>\n",
       "      <td>Washington</td>\n",
       "      <td>DC</td>\n",
       "      <td>687576</td>\n",
       "      <td>0</td>\n",
       "    </tr>\n",
       "    <tr>\n",
       "      <th>47477</th>\n",
       "      <td>17</td>\n",
       "      <td>Male</td>\n",
       "      <td>Black</td>\n",
       "      <td>2016-09-01</td>\n",
       "      <td>2016</td>\n",
       "      <td>September</td>\n",
       "      <td>Thursday</td>\n",
       "      <td>Fall</td>\n",
       "      <td>Washington</td>\n",
       "      <td>DC</td>\n",
       "      <td>687576</td>\n",
       "      <td>1</td>\n",
       "    </tr>\n",
       "  </tbody>\n",
       "</table>\n",
       "<p>47478 rows × 12 columns</p>\n",
       "</div>"
      ],
      "text/plain": [
       "       victim_age victim_sex victim_race reported_date  reported_year  \\\n",
       "0              78       Male    Hispanic    2010-05-04           2010   \n",
       "1              17       Male    Hispanic    2010-02-16           2010   \n",
       "2              15     Female       White    2010-06-01           2010   \n",
       "3              32       Male    Hispanic    2010-01-01           2010   \n",
       "4              72     Female       White    2010-01-02           2010   \n",
       "...           ...        ...         ...           ...            ...   \n",
       "47473          29       Male       Black    2016-09-08           2016   \n",
       "47474          19       Male       Black    2016-09-13           2016   \n",
       "47475          23       Male       Black    2016-11-14           2016   \n",
       "47476          24       Male       Black    2016-11-30           2016   \n",
       "47477          17       Male       Black    2016-09-01           2016   \n",
       "\n",
       "      reported_month reported_weekday  season         city state  POPULATION  \\\n",
       "0                May          Tuesday  Spring  Albuquerque    NM      545852   \n",
       "1           February          Tuesday  Winter  Albuquerque    NM      545852   \n",
       "2               June          Tuesday  Summer  Albuquerque    NM      545852   \n",
       "3            January           Friday  Winter  Albuquerque    NM      545852   \n",
       "4            January         Saturday  Winter  Albuquerque    NM      545852   \n",
       "...              ...              ...     ...          ...   ...         ...   \n",
       "47473      September         Thursday    Fall   Washington    DC      687576   \n",
       "47474      September          Tuesday    Fall   Washington    DC      687576   \n",
       "47475       November           Monday    Fall   Washington    DC      687576   \n",
       "47476       November        Wednesday    Fall   Washington    DC      687576   \n",
       "47477      September         Thursday    Fall   Washington    DC      687576   \n",
       "\n",
       "       disposition  \n",
       "0                0  \n",
       "1                1  \n",
       "2                0  \n",
       "3                1  \n",
       "4                0  \n",
       "...            ...  \n",
       "47473            1  \n",
       "47474            0  \n",
       "47475            0  \n",
       "47476            0  \n",
       "47477            1  \n",
       "\n",
       "[47478 rows x 12 columns]"
      ]
     },
     "execution_count": 51,
     "metadata": {},
     "output_type": "execute_result"
    }
   ],
   "source": [
    "df[\"disposition\"] = df[\"disposition\"].apply(lambda x: 1 if x == \"Arrest Made\" else 0)\n",
    "df"
   ]
  },
  {
   "cell_type": "code",
   "execution_count": 52,
   "id": "14571810",
   "metadata": {},
   "outputs": [
    {
     "name": "stderr",
     "output_type": "stream",
     "text": [
      "C:\\Users\\Home\\AppData\\Local\\Temp\\ipykernel_23412\\1097537222.py:2: SettingWithCopyWarning: \n",
      "A value is trying to be set on a copy of a slice from a DataFrame\n",
      "\n",
      "See the caveats in the documentation: https://pandas.pydata.org/pandas-docs/stable/user_guide/indexing.html#returning-a-view-versus-a-copy\n",
      "  drop_reporteddate = df.drop('reported_date', axis = 1, inplace=True)\n"
     ]
    },
    {
     "data": {
      "text/html": [
       "<div>\n",
       "<style scoped>\n",
       "    .dataframe tbody tr th:only-of-type {\n",
       "        vertical-align: middle;\n",
       "    }\n",
       "\n",
       "    .dataframe tbody tr th {\n",
       "        vertical-align: top;\n",
       "    }\n",
       "\n",
       "    .dataframe thead th {\n",
       "        text-align: right;\n",
       "    }\n",
       "</style>\n",
       "<table border=\"1\" class=\"dataframe\">\n",
       "  <thead>\n",
       "    <tr style=\"text-align: right;\">\n",
       "      <th></th>\n",
       "      <th>victim_age</th>\n",
       "      <th>victim_sex</th>\n",
       "      <th>victim_race</th>\n",
       "      <th>reported_year</th>\n",
       "      <th>reported_month</th>\n",
       "      <th>reported_weekday</th>\n",
       "      <th>season</th>\n",
       "      <th>city</th>\n",
       "      <th>state</th>\n",
       "      <th>POPULATION</th>\n",
       "      <th>disposition</th>\n",
       "    </tr>\n",
       "  </thead>\n",
       "  <tbody>\n",
       "    <tr>\n",
       "      <th>0</th>\n",
       "      <td>78</td>\n",
       "      <td>Male</td>\n",
       "      <td>Hispanic</td>\n",
       "      <td>2010</td>\n",
       "      <td>May</td>\n",
       "      <td>Tuesday</td>\n",
       "      <td>Spring</td>\n",
       "      <td>Albuquerque</td>\n",
       "      <td>NM</td>\n",
       "      <td>545852</td>\n",
       "      <td>0</td>\n",
       "    </tr>\n",
       "    <tr>\n",
       "      <th>1</th>\n",
       "      <td>17</td>\n",
       "      <td>Male</td>\n",
       "      <td>Hispanic</td>\n",
       "      <td>2010</td>\n",
       "      <td>February</td>\n",
       "      <td>Tuesday</td>\n",
       "      <td>Winter</td>\n",
       "      <td>Albuquerque</td>\n",
       "      <td>NM</td>\n",
       "      <td>545852</td>\n",
       "      <td>1</td>\n",
       "    </tr>\n",
       "    <tr>\n",
       "      <th>2</th>\n",
       "      <td>15</td>\n",
       "      <td>Female</td>\n",
       "      <td>White</td>\n",
       "      <td>2010</td>\n",
       "      <td>June</td>\n",
       "      <td>Tuesday</td>\n",
       "      <td>Summer</td>\n",
       "      <td>Albuquerque</td>\n",
       "      <td>NM</td>\n",
       "      <td>545852</td>\n",
       "      <td>0</td>\n",
       "    </tr>\n",
       "    <tr>\n",
       "      <th>3</th>\n",
       "      <td>32</td>\n",
       "      <td>Male</td>\n",
       "      <td>Hispanic</td>\n",
       "      <td>2010</td>\n",
       "      <td>January</td>\n",
       "      <td>Friday</td>\n",
       "      <td>Winter</td>\n",
       "      <td>Albuquerque</td>\n",
       "      <td>NM</td>\n",
       "      <td>545852</td>\n",
       "      <td>1</td>\n",
       "    </tr>\n",
       "    <tr>\n",
       "      <th>4</th>\n",
       "      <td>72</td>\n",
       "      <td>Female</td>\n",
       "      <td>White</td>\n",
       "      <td>2010</td>\n",
       "      <td>January</td>\n",
       "      <td>Saturday</td>\n",
       "      <td>Winter</td>\n",
       "      <td>Albuquerque</td>\n",
       "      <td>NM</td>\n",
       "      <td>545852</td>\n",
       "      <td>0</td>\n",
       "    </tr>\n",
       "    <tr>\n",
       "      <th>...</th>\n",
       "      <td>...</td>\n",
       "      <td>...</td>\n",
       "      <td>...</td>\n",
       "      <td>...</td>\n",
       "      <td>...</td>\n",
       "      <td>...</td>\n",
       "      <td>...</td>\n",
       "      <td>...</td>\n",
       "      <td>...</td>\n",
       "      <td>...</td>\n",
       "      <td>...</td>\n",
       "    </tr>\n",
       "    <tr>\n",
       "      <th>47473</th>\n",
       "      <td>29</td>\n",
       "      <td>Male</td>\n",
       "      <td>Black</td>\n",
       "      <td>2016</td>\n",
       "      <td>September</td>\n",
       "      <td>Thursday</td>\n",
       "      <td>Fall</td>\n",
       "      <td>Washington</td>\n",
       "      <td>DC</td>\n",
       "      <td>687576</td>\n",
       "      <td>1</td>\n",
       "    </tr>\n",
       "    <tr>\n",
       "      <th>47474</th>\n",
       "      <td>19</td>\n",
       "      <td>Male</td>\n",
       "      <td>Black</td>\n",
       "      <td>2016</td>\n",
       "      <td>September</td>\n",
       "      <td>Tuesday</td>\n",
       "      <td>Fall</td>\n",
       "      <td>Washington</td>\n",
       "      <td>DC</td>\n",
       "      <td>687576</td>\n",
       "      <td>0</td>\n",
       "    </tr>\n",
       "    <tr>\n",
       "      <th>47475</th>\n",
       "      <td>23</td>\n",
       "      <td>Male</td>\n",
       "      <td>Black</td>\n",
       "      <td>2016</td>\n",
       "      <td>November</td>\n",
       "      <td>Monday</td>\n",
       "      <td>Fall</td>\n",
       "      <td>Washington</td>\n",
       "      <td>DC</td>\n",
       "      <td>687576</td>\n",
       "      <td>0</td>\n",
       "    </tr>\n",
       "    <tr>\n",
       "      <th>47476</th>\n",
       "      <td>24</td>\n",
       "      <td>Male</td>\n",
       "      <td>Black</td>\n",
       "      <td>2016</td>\n",
       "      <td>November</td>\n",
       "      <td>Wednesday</td>\n",
       "      <td>Fall</td>\n",
       "      <td>Washington</td>\n",
       "      <td>DC</td>\n",
       "      <td>687576</td>\n",
       "      <td>0</td>\n",
       "    </tr>\n",
       "    <tr>\n",
       "      <th>47477</th>\n",
       "      <td>17</td>\n",
       "      <td>Male</td>\n",
       "      <td>Black</td>\n",
       "      <td>2016</td>\n",
       "      <td>September</td>\n",
       "      <td>Thursday</td>\n",
       "      <td>Fall</td>\n",
       "      <td>Washington</td>\n",
       "      <td>DC</td>\n",
       "      <td>687576</td>\n",
       "      <td>1</td>\n",
       "    </tr>\n",
       "  </tbody>\n",
       "</table>\n",
       "<p>47478 rows × 11 columns</p>\n",
       "</div>"
      ],
      "text/plain": [
       "       victim_age victim_sex victim_race  reported_year reported_month  \\\n",
       "0              78       Male    Hispanic           2010            May   \n",
       "1              17       Male    Hispanic           2010       February   \n",
       "2              15     Female       White           2010           June   \n",
       "3              32       Male    Hispanic           2010        January   \n",
       "4              72     Female       White           2010        January   \n",
       "...           ...        ...         ...            ...            ...   \n",
       "47473          29       Male       Black           2016      September   \n",
       "47474          19       Male       Black           2016      September   \n",
       "47475          23       Male       Black           2016       November   \n",
       "47476          24       Male       Black           2016       November   \n",
       "47477          17       Male       Black           2016      September   \n",
       "\n",
       "      reported_weekday  season         city state  POPULATION  disposition  \n",
       "0              Tuesday  Spring  Albuquerque    NM      545852            0  \n",
       "1              Tuesday  Winter  Albuquerque    NM      545852            1  \n",
       "2              Tuesday  Summer  Albuquerque    NM      545852            0  \n",
       "3               Friday  Winter  Albuquerque    NM      545852            1  \n",
       "4             Saturday  Winter  Albuquerque    NM      545852            0  \n",
       "...                ...     ...          ...   ...         ...          ...  \n",
       "47473         Thursday    Fall   Washington    DC      687576            1  \n",
       "47474          Tuesday    Fall   Washington    DC      687576            0  \n",
       "47475           Monday    Fall   Washington    DC      687576            0  \n",
       "47476        Wednesday    Fall   Washington    DC      687576            0  \n",
       "47477         Thursday    Fall   Washington    DC      687576            1  \n",
       "\n",
       "[47478 rows x 11 columns]"
      ]
     },
     "execution_count": 52,
     "metadata": {},
     "output_type": "execute_result"
    }
   ],
   "source": [
    "# Drop reported date column\n",
    "drop_reporteddate = df.drop('reported_date', axis = 1, inplace=True)\n",
    "\n",
    "df"
   ]
  },
  {
   "cell_type": "code",
   "execution_count": 53,
   "id": "89c7e89e",
   "metadata": {},
   "outputs": [
    {
     "data": {
      "text/plain": [
       "Index(['victim_age', 'victim_sex', 'victim_race', 'reported_year',\n",
       "       'reported_month', 'reported_weekday', 'season', 'city', 'state',\n",
       "       'POPULATION', 'disposition'],\n",
       "      dtype='object')"
      ]
     },
     "execution_count": 53,
     "metadata": {},
     "output_type": "execute_result"
    }
   ],
   "source": [
    "df.columns\n"
   ]
  },
  {
   "cell_type": "code",
   "execution_count": 54,
   "id": "ed28f77c",
   "metadata": {},
   "outputs": [],
   "source": [
    "#replace white space with underline in columns\n",
    "\n",
    "df.columns = df.columns.str.replace(' ', '_')\n"
   ]
  },
  {
   "cell_type": "code",
   "execution_count": 55,
   "id": "aaf5fc9e",
   "metadata": {},
   "outputs": [
    {
     "name": "stdout",
     "output_type": "stream",
     "text": [
      "2\n",
      "Male      40387\n",
      "Female     7091\n",
      "Name: victim_sex, dtype: int64\n",
      "\n",
      "5\n",
      "Black       33062\n",
      "Hispanic     6817\n",
      "White        6259\n",
      "Asian         676\n",
      "Other         664\n",
      "Name: victim_race, dtype: int64\n",
      "\n",
      "12\n",
      "July         4624\n",
      "August       4360\n",
      "June         4273\n",
      "May          4210\n",
      "September    4131\n",
      "October      4060\n",
      "December     3890\n",
      "November     3886\n",
      "April        3779\n",
      "January      3682\n",
      "March        3622\n",
      "February     2961\n",
      "Name: reported_month, dtype: int64\n",
      "\n",
      "7\n",
      "Sunday       7850\n",
      "Saturday     7619\n",
      "Monday       6853\n",
      "Friday       6446\n",
      "Tuesday      6331\n",
      "Wednesday    6256\n",
      "Thursday     6123\n",
      "Name: reported_weekday, dtype: int64\n",
      "\n",
      "4\n",
      "Summer    13257\n",
      "Fall      12077\n",
      "Spring    11611\n",
      "Winter    10533\n",
      "Name: season, dtype: int64\n",
      "\n",
      "47\n",
      "Chicago           5523\n",
      "Philadelphia      3036\n",
      "Houston           2908\n",
      "Baltimore         2827\n",
      "Detroit           2496\n",
      "Los Angeles       2196\n",
      "St. Louis         1661\n",
      "Memphis           1510\n",
      "New Orleans       1394\n",
      "Indianapolis      1321\n",
      "Washington        1308\n",
      "Las Vegas         1299\n",
      "Jacksonville      1151\n",
      "Milwaukee         1115\n",
      "Columbus          1070\n",
      "Atlanta            968\n",
      "Oakland            945\n",
      "San Antonio        825\n",
      "Birmingham         785\n",
      "Nashville          755\n",
      "Cincinnati         691\n",
      "San Francisco      663\n",
      "Charlotte          661\n",
      "Oklahoma City      653\n",
      "Pittsburgh         628\n",
      "New York           622\n",
      "Boston             605\n",
      "Tulsa              573\n",
      "Louisville         572\n",
      "Fort Worth         549\n",
      "Buffalo            510\n",
      "Fresno             480\n",
      "Miami              462\n",
      "San Diego          450\n",
      "Stockton           439\n",
      "Baton Rouge        423\n",
      "Omaha              402\n",
      "Long Beach         378\n",
      "Sacramento         370\n",
      "Minneapolis        364\n",
      "Richmond           316\n",
      "Denver             312\n",
      "Albuquerque        284\n",
      "Durham             276\n",
      "San Bernardino     274\n",
      "Savannah           230\n",
      "Tampa              198\n",
      "Name: city, dtype: int64\n",
      "\n",
      "27\n",
      "CA    6195\n",
      "IL    5523\n",
      "TX    4282\n",
      "PA    3664\n",
      "MD    2827\n",
      "MI    2496\n",
      "TN    2265\n",
      "LA    1817\n",
      "FL    1811\n",
      "OH    1761\n",
      "MO    1661\n",
      "IN    1321\n",
      "DC    1308\n",
      "NV    1299\n",
      "OK    1225\n",
      "GA    1198\n",
      "NY    1132\n",
      "WI    1115\n",
      "NC     937\n",
      "AL     786\n",
      "MA     605\n",
      "KY     572\n",
      "NE     402\n",
      "MN     364\n",
      "VA     316\n",
      "CO     312\n",
      "NM     284\n",
      "Name: state, dtype: int64\n",
      "\n"
     ]
    }
   ],
   "source": [
    "#count values in each categorical columns (not numeric columns)\n",
    "\n",
    "cat_cols = df.select_dtypes(exclude=[np.number]).columns\n",
    "\n",
    "# value counts\n",
    "for col in cat_cols:\n",
    "    print(df[col].nunique())\n",
    "    print(df[col].value_counts())\n",
    "    print()"
   ]
  },
  {
   "cell_type": "code",
   "execution_count": 56,
   "id": "d903d9aa",
   "metadata": {},
   "outputs": [
    {
     "data": {
      "text/html": [
       "<div>\n",
       "<style scoped>\n",
       "    .dataframe tbody tr th:only-of-type {\n",
       "        vertical-align: middle;\n",
       "    }\n",
       "\n",
       "    .dataframe tbody tr th {\n",
       "        vertical-align: top;\n",
       "    }\n",
       "\n",
       "    .dataframe thead th {\n",
       "        text-align: right;\n",
       "    }\n",
       "</style>\n",
       "<table border=\"1\" class=\"dataframe\">\n",
       "  <thead>\n",
       "    <tr style=\"text-align: right;\">\n",
       "      <th></th>\n",
       "      <th>victim_age</th>\n",
       "      <th>reported_year</th>\n",
       "      <th>POPULATION</th>\n",
       "      <th>disposition</th>\n",
       "      <th>victim_sex_Female</th>\n",
       "      <th>victim_sex_Male</th>\n",
       "      <th>victim_race_Asian</th>\n",
       "      <th>victim_race_Black</th>\n",
       "      <th>victim_race_Hispanic</th>\n",
       "      <th>victim_race_Other</th>\n",
       "      <th>...</th>\n",
       "      <th>state_NM</th>\n",
       "      <th>state_NV</th>\n",
       "      <th>state_NY</th>\n",
       "      <th>state_OH</th>\n",
       "      <th>state_OK</th>\n",
       "      <th>state_PA</th>\n",
       "      <th>state_TN</th>\n",
       "      <th>state_TX</th>\n",
       "      <th>state_VA</th>\n",
       "      <th>state_WI</th>\n",
       "    </tr>\n",
       "  </thead>\n",
       "  <tbody>\n",
       "    <tr>\n",
       "      <th>0</th>\n",
       "      <td>78</td>\n",
       "      <td>2010</td>\n",
       "      <td>545852</td>\n",
       "      <td>0</td>\n",
       "      <td>0</td>\n",
       "      <td>1</td>\n",
       "      <td>0</td>\n",
       "      <td>0</td>\n",
       "      <td>1</td>\n",
       "      <td>0</td>\n",
       "      <td>...</td>\n",
       "      <td>1</td>\n",
       "      <td>0</td>\n",
       "      <td>0</td>\n",
       "      <td>0</td>\n",
       "      <td>0</td>\n",
       "      <td>0</td>\n",
       "      <td>0</td>\n",
       "      <td>0</td>\n",
       "      <td>0</td>\n",
       "      <td>0</td>\n",
       "    </tr>\n",
       "    <tr>\n",
       "      <th>1</th>\n",
       "      <td>17</td>\n",
       "      <td>2010</td>\n",
       "      <td>545852</td>\n",
       "      <td>1</td>\n",
       "      <td>0</td>\n",
       "      <td>1</td>\n",
       "      <td>0</td>\n",
       "      <td>0</td>\n",
       "      <td>1</td>\n",
       "      <td>0</td>\n",
       "      <td>...</td>\n",
       "      <td>1</td>\n",
       "      <td>0</td>\n",
       "      <td>0</td>\n",
       "      <td>0</td>\n",
       "      <td>0</td>\n",
       "      <td>0</td>\n",
       "      <td>0</td>\n",
       "      <td>0</td>\n",
       "      <td>0</td>\n",
       "      <td>0</td>\n",
       "    </tr>\n",
       "    <tr>\n",
       "      <th>2</th>\n",
       "      <td>15</td>\n",
       "      <td>2010</td>\n",
       "      <td>545852</td>\n",
       "      <td>0</td>\n",
       "      <td>1</td>\n",
       "      <td>0</td>\n",
       "      <td>0</td>\n",
       "      <td>0</td>\n",
       "      <td>0</td>\n",
       "      <td>0</td>\n",
       "      <td>...</td>\n",
       "      <td>1</td>\n",
       "      <td>0</td>\n",
       "      <td>0</td>\n",
       "      <td>0</td>\n",
       "      <td>0</td>\n",
       "      <td>0</td>\n",
       "      <td>0</td>\n",
       "      <td>0</td>\n",
       "      <td>0</td>\n",
       "      <td>0</td>\n",
       "    </tr>\n",
       "    <tr>\n",
       "      <th>3</th>\n",
       "      <td>32</td>\n",
       "      <td>2010</td>\n",
       "      <td>545852</td>\n",
       "      <td>1</td>\n",
       "      <td>0</td>\n",
       "      <td>1</td>\n",
       "      <td>0</td>\n",
       "      <td>0</td>\n",
       "      <td>1</td>\n",
       "      <td>0</td>\n",
       "      <td>...</td>\n",
       "      <td>1</td>\n",
       "      <td>0</td>\n",
       "      <td>0</td>\n",
       "      <td>0</td>\n",
       "      <td>0</td>\n",
       "      <td>0</td>\n",
       "      <td>0</td>\n",
       "      <td>0</td>\n",
       "      <td>0</td>\n",
       "      <td>0</td>\n",
       "    </tr>\n",
       "    <tr>\n",
       "      <th>4</th>\n",
       "      <td>72</td>\n",
       "      <td>2010</td>\n",
       "      <td>545852</td>\n",
       "      <td>0</td>\n",
       "      <td>1</td>\n",
       "      <td>0</td>\n",
       "      <td>0</td>\n",
       "      <td>0</td>\n",
       "      <td>0</td>\n",
       "      <td>0</td>\n",
       "      <td>...</td>\n",
       "      <td>1</td>\n",
       "      <td>0</td>\n",
       "      <td>0</td>\n",
       "      <td>0</td>\n",
       "      <td>0</td>\n",
       "      <td>0</td>\n",
       "      <td>0</td>\n",
       "      <td>0</td>\n",
       "      <td>0</td>\n",
       "      <td>0</td>\n",
       "    </tr>\n",
       "    <tr>\n",
       "      <th>...</th>\n",
       "      <td>...</td>\n",
       "      <td>...</td>\n",
       "      <td>...</td>\n",
       "      <td>...</td>\n",
       "      <td>...</td>\n",
       "      <td>...</td>\n",
       "      <td>...</td>\n",
       "      <td>...</td>\n",
       "      <td>...</td>\n",
       "      <td>...</td>\n",
       "      <td>...</td>\n",
       "      <td>...</td>\n",
       "      <td>...</td>\n",
       "      <td>...</td>\n",
       "      <td>...</td>\n",
       "      <td>...</td>\n",
       "      <td>...</td>\n",
       "      <td>...</td>\n",
       "      <td>...</td>\n",
       "      <td>...</td>\n",
       "      <td>...</td>\n",
       "    </tr>\n",
       "    <tr>\n",
       "      <th>47473</th>\n",
       "      <td>29</td>\n",
       "      <td>2016</td>\n",
       "      <td>687576</td>\n",
       "      <td>1</td>\n",
       "      <td>0</td>\n",
       "      <td>1</td>\n",
       "      <td>0</td>\n",
       "      <td>1</td>\n",
       "      <td>0</td>\n",
       "      <td>0</td>\n",
       "      <td>...</td>\n",
       "      <td>0</td>\n",
       "      <td>0</td>\n",
       "      <td>0</td>\n",
       "      <td>0</td>\n",
       "      <td>0</td>\n",
       "      <td>0</td>\n",
       "      <td>0</td>\n",
       "      <td>0</td>\n",
       "      <td>0</td>\n",
       "      <td>0</td>\n",
       "    </tr>\n",
       "    <tr>\n",
       "      <th>47474</th>\n",
       "      <td>19</td>\n",
       "      <td>2016</td>\n",
       "      <td>687576</td>\n",
       "      <td>0</td>\n",
       "      <td>0</td>\n",
       "      <td>1</td>\n",
       "      <td>0</td>\n",
       "      <td>1</td>\n",
       "      <td>0</td>\n",
       "      <td>0</td>\n",
       "      <td>...</td>\n",
       "      <td>0</td>\n",
       "      <td>0</td>\n",
       "      <td>0</td>\n",
       "      <td>0</td>\n",
       "      <td>0</td>\n",
       "      <td>0</td>\n",
       "      <td>0</td>\n",
       "      <td>0</td>\n",
       "      <td>0</td>\n",
       "      <td>0</td>\n",
       "    </tr>\n",
       "    <tr>\n",
       "      <th>47475</th>\n",
       "      <td>23</td>\n",
       "      <td>2016</td>\n",
       "      <td>687576</td>\n",
       "      <td>0</td>\n",
       "      <td>0</td>\n",
       "      <td>1</td>\n",
       "      <td>0</td>\n",
       "      <td>1</td>\n",
       "      <td>0</td>\n",
       "      <td>0</td>\n",
       "      <td>...</td>\n",
       "      <td>0</td>\n",
       "      <td>0</td>\n",
       "      <td>0</td>\n",
       "      <td>0</td>\n",
       "      <td>0</td>\n",
       "      <td>0</td>\n",
       "      <td>0</td>\n",
       "      <td>0</td>\n",
       "      <td>0</td>\n",
       "      <td>0</td>\n",
       "    </tr>\n",
       "    <tr>\n",
       "      <th>47476</th>\n",
       "      <td>24</td>\n",
       "      <td>2016</td>\n",
       "      <td>687576</td>\n",
       "      <td>0</td>\n",
       "      <td>0</td>\n",
       "      <td>1</td>\n",
       "      <td>0</td>\n",
       "      <td>1</td>\n",
       "      <td>0</td>\n",
       "      <td>0</td>\n",
       "      <td>...</td>\n",
       "      <td>0</td>\n",
       "      <td>0</td>\n",
       "      <td>0</td>\n",
       "      <td>0</td>\n",
       "      <td>0</td>\n",
       "      <td>0</td>\n",
       "      <td>0</td>\n",
       "      <td>0</td>\n",
       "      <td>0</td>\n",
       "      <td>0</td>\n",
       "    </tr>\n",
       "    <tr>\n",
       "      <th>47477</th>\n",
       "      <td>17</td>\n",
       "      <td>2016</td>\n",
       "      <td>687576</td>\n",
       "      <td>1</td>\n",
       "      <td>0</td>\n",
       "      <td>1</td>\n",
       "      <td>0</td>\n",
       "      <td>1</td>\n",
       "      <td>0</td>\n",
       "      <td>0</td>\n",
       "      <td>...</td>\n",
       "      <td>0</td>\n",
       "      <td>0</td>\n",
       "      <td>0</td>\n",
       "      <td>0</td>\n",
       "      <td>0</td>\n",
       "      <td>0</td>\n",
       "      <td>0</td>\n",
       "      <td>0</td>\n",
       "      <td>0</td>\n",
       "      <td>0</td>\n",
       "    </tr>\n",
       "  </tbody>\n",
       "</table>\n",
       "<p>47478 rows × 108 columns</p>\n",
       "</div>"
      ],
      "text/plain": [
       "       victim_age  reported_year  POPULATION  disposition  victim_sex_Female  \\\n",
       "0              78           2010      545852            0                  0   \n",
       "1              17           2010      545852            1                  0   \n",
       "2              15           2010      545852            0                  1   \n",
       "3              32           2010      545852            1                  0   \n",
       "4              72           2010      545852            0                  1   \n",
       "...           ...            ...         ...          ...                ...   \n",
       "47473          29           2016      687576            1                  0   \n",
       "47474          19           2016      687576            0                  0   \n",
       "47475          23           2016      687576            0                  0   \n",
       "47476          24           2016      687576            0                  0   \n",
       "47477          17           2016      687576            1                  0   \n",
       "\n",
       "       victim_sex_Male  victim_race_Asian  victim_race_Black  \\\n",
       "0                    1                  0                  0   \n",
       "1                    1                  0                  0   \n",
       "2                    0                  0                  0   \n",
       "3                    1                  0                  0   \n",
       "4                    0                  0                  0   \n",
       "...                ...                ...                ...   \n",
       "47473                1                  0                  1   \n",
       "47474                1                  0                  1   \n",
       "47475                1                  0                  1   \n",
       "47476                1                  0                  1   \n",
       "47477                1                  0                  1   \n",
       "\n",
       "       victim_race_Hispanic  victim_race_Other  ...  state_NM  state_NV  \\\n",
       "0                         1                  0  ...         1         0   \n",
       "1                         1                  0  ...         1         0   \n",
       "2                         0                  0  ...         1         0   \n",
       "3                         1                  0  ...         1         0   \n",
       "4                         0                  0  ...         1         0   \n",
       "...                     ...                ...  ...       ...       ...   \n",
       "47473                     0                  0  ...         0         0   \n",
       "47474                     0                  0  ...         0         0   \n",
       "47475                     0                  0  ...         0         0   \n",
       "47476                     0                  0  ...         0         0   \n",
       "47477                     0                  0  ...         0         0   \n",
       "\n",
       "       state_NY  state_OH  state_OK  state_PA  state_TN  state_TX  state_VA  \\\n",
       "0             0         0         0         0         0         0         0   \n",
       "1             0         0         0         0         0         0         0   \n",
       "2             0         0         0         0         0         0         0   \n",
       "3             0         0         0         0         0         0         0   \n",
       "4             0         0         0         0         0         0         0   \n",
       "...         ...       ...       ...       ...       ...       ...       ...   \n",
       "47473         0         0         0         0         0         0         0   \n",
       "47474         0         0         0         0         0         0         0   \n",
       "47475         0         0         0         0         0         0         0   \n",
       "47476         0         0         0         0         0         0         0   \n",
       "47477         0         0         0         0         0         0         0   \n",
       "\n",
       "       state_WI  \n",
       "0             0  \n",
       "1             0  \n",
       "2             0  \n",
       "3             0  \n",
       "4             0  \n",
       "...         ...  \n",
       "47473         0  \n",
       "47474         0  \n",
       "47475         0  \n",
       "47476         0  \n",
       "47477         0  \n",
       "\n",
       "[47478 rows x 108 columns]"
      ]
     },
     "execution_count": 56,
     "metadata": {},
     "output_type": "execute_result"
    }
   ],
   "source": [
    "#one hot coding the categorical columns\n",
    "df2 = pd.get_dummies(df)\n",
    "df2"
   ]
  },
  {
   "cell_type": "code",
   "execution_count": 57,
   "id": "58a027bc",
   "metadata": {},
   "outputs": [
    {
     "data": {
      "text/plain": [
       "victim_age           int64\n",
       "reported_year        int64\n",
       "POPULATION           int64\n",
       "disposition          int64\n",
       "victim_sex_Female    uint8\n",
       "                     ...  \n",
       "state_PA             uint8\n",
       "state_TN             uint8\n",
       "state_TX             uint8\n",
       "state_VA             uint8\n",
       "state_WI             uint8\n",
       "Length: 108, dtype: object"
      ]
     },
     "execution_count": 57,
     "metadata": {},
     "output_type": "execute_result"
    }
   ],
   "source": [
    "#check the datatype for df\n",
    "df2.dtypes"
   ]
  },
  {
   "cell_type": "code",
   "execution_count": 58,
   "id": "33f9cc69",
   "metadata": {},
   "outputs": [
    {
     "name": "stdout",
     "output_type": "stream",
     "text": [
      "(37982, 107) (37982,)\n",
      "(9496, 107) (9496,)\n"
     ]
    }
   ],
   "source": [
    "# Create our train/test set\n",
    "X = df2.drop(columns=[\"disposition\"])\n",
    "y = df2[\"disposition\"]\n",
    "\n",
    "X_train, X_test, y_train, y_test = train_test_split(X, \n",
    "                                                    y, \n",
    "                                                    random_state=seed, \n",
    "                                                    stratify=y, test_size = .20)\n",
    "\n",
    "print(X_train.shape, y_train.shape)\n",
    "print(X_test.shape, y_test.shape)"
   ]
  },
  {
   "cell_type": "code",
   "execution_count": 59,
   "id": "5ff37599",
   "metadata": {},
   "outputs": [],
   "source": [
    "def doMLClassification(model, X_train, y_train, X_test, y_test):\n",
    "    # fit the model\n",
    "    model.fit(X_train, y_train)\n",
    "\n",
    "    # predict the model\n",
    "    train_preds = model.predict(X_train)\n",
    "    test_preds = model.predict(X_test)\n",
    "    test_proba = model.predict_proba(X_test)[:,1]\n",
    "\n",
    "    # make some pretty graphs\n",
    "    print(\"TRAINING SET METRICS\")\n",
    "    print(confusion_matrix(y_train, train_preds))\n",
    "    print(classification_report(y_train, train_preds))\n",
    "    print(\"TESTING SET METRICS\")\n",
    "    print(confusion_matrix(y_test, test_preds))\n",
    "    print(classification_report(y_test, test_preds))\n",
    "\n",
    "    # ROC Curve\n",
    "    auc = roc_auc_score(y_test, test_proba)\n",
    "    fpr, tpr, thresholds = roc_curve(y_test, test_proba)\n",
    "    plt.plot(fpr, tpr)\n",
    "    plt.xlabel('False Positive Rate')\n",
    "    plt.ylabel('True Positive Rate')\n",
    "    plt.title(F\"AUC: {auc}\")\n",
    "    plt.show()"
   ]
  },
  {
   "cell_type": "code",
   "execution_count": 60,
   "id": "a8b3b418",
   "metadata": {},
   "outputs": [
    {
     "name": "stdout",
     "output_type": "stream",
     "text": [
      "TRAINING SET METRICS\n",
      "[[12444  6962]\n",
      " [ 7142 11434]]\n",
      "              precision    recall  f1-score   support\n",
      "\n",
      "           0       0.64      0.64      0.64     19406\n",
      "           1       0.62      0.62      0.62     18576\n",
      "\n",
      "    accuracy                           0.63     37982\n",
      "   macro avg       0.63      0.63      0.63     37982\n",
      "weighted avg       0.63      0.63      0.63     37982\n",
      "\n",
      "TESTING SET METRICS\n",
      "[[3078 1774]\n",
      " [1828 2816]]\n",
      "              precision    recall  f1-score   support\n",
      "\n",
      "           0       0.63      0.63      0.63      4852\n",
      "           1       0.61      0.61      0.61      4644\n",
      "\n",
      "    accuracy                           0.62      9496\n",
      "   macro avg       0.62      0.62      0.62      9496\n",
      "weighted avg       0.62      0.62      0.62      9496\n",
      "\n"
     ]
    },
    {
     "data": {
      "image/png": "[encoded data removed]",
      "text/plain": [
       "<Figure size 640x480 with 1 Axes>"
      ]
     },
     "metadata": {},
     "output_type": "display_data"
    }
   ],
   "source": [
    "#init the model\n",
    "ada = AdaBoostClassifier(random_state=42, n_estimators = 200)\n",
    "doMLClassification(ada, X_train, y_train, X_test, y_test)"
   ]
  },
  {
   "cell_type": "code",
   "execution_count": 61,
   "id": "691b48ab",
   "metadata": {},
   "outputs": [
    {
     "name": "stdout",
     "output_type": "stream",
     "text": [
      "TRAINING SET METRICS\n",
      "[[12806  6600]\n",
      " [ 7281 11295]]\n",
      "              precision    recall  f1-score   support\n",
      "\n",
      "           0       0.64      0.66      0.65     19406\n",
      "           1       0.63      0.61      0.62     18576\n",
      "\n",
      "    accuracy                           0.63     37982\n",
      "   macro avg       0.63      0.63      0.63     37982\n",
      "weighted avg       0.63      0.63      0.63     37982\n",
      "\n",
      "TESTING SET METRICS\n",
      "[[3179 1673]\n",
      " [1908 2736]]\n",
      "              precision    recall  f1-score   support\n",
      "\n",
      "           0       0.62      0.66      0.64      4852\n",
      "           1       0.62      0.59      0.60      4644\n",
      "\n",
      "    accuracy                           0.62      9496\n",
      "   macro avg       0.62      0.62      0.62      9496\n",
      "weighted avg       0.62      0.62      0.62      9496\n",
      "\n"
     ]
    },
    {
     "data": {
      "image/png": "[encoded data removed]",
      "text/plain": [
       "<Figure size 640x480 with 1 Axes>"
      ]
     },
     "metadata": {},
     "output_type": "display_data"
    }
   ],
   "source": [
    "#init the model \n",
    "gb = GradientBoostingClassifier(random_state=42)\n",
    "doMLClassification(gb, X_train, y_train, X_test, y_test)"
   ]
  },
  {
   "cell_type": "code",
   "execution_count": 62,
   "id": "ee5fdd6e",
   "metadata": {},
   "outputs": [
    {
     "data": {
      "text/plain": [
       "[(0.43, 'POPULATION'),\n",
       " (0.185, 'victim_age'),\n",
       " (0.06, 'reported_year'),\n",
       " (0.01, 'victim_race_White'),\n",
       " (0.01, 'state_VA'),\n",
       " (0.01, 'season_Fall'),\n",
       " (0.01, 'reported_month_December'),\n",
       " (0.01, 'city_Los Angeles'),\n",
       " (0.01, 'city_Baltimore'),\n",
       " (0.005, 'victim_sex_Female'),\n",
       " (0.005, 'victim_race_Asian'),\n",
       " (0.005, 'state_WI'),\n",
       " (0.005, 'state_TX'),\n",
       " (0.005, 'state_TN'),\n",
       " (0.005, 'state_NM'),\n",
       " (0.005, 'state_NC'),\n",
       " (0.005, 'state_MD'),\n",
       " (0.005, 'state_LA'),\n",
       " (0.005, 'state_IL'),\n",
       " (0.005, 'state_GA'),\n",
       " (0.005, 'state_FL'),\n",
       " (0.005, 'state_CO'),\n",
       " (0.005, 'state_CA'),\n",
       " (0.005, 'state_AL'),\n",
       " (0.005, 'season_Summer'),\n",
       " (0.005, 'reported_weekday_Wednesday'),\n",
       " (0.005, 'reported_weekday_Tuesday'),\n",
       " (0.005, 'reported_weekday_Monday'),\n",
       " (0.005, 'reported_month_November'),\n",
       " (0.005, 'reported_month_May'),\n",
       " (0.005, 'reported_month_July'),\n",
       " (0.005, 'reported_month_February'),\n",
       " (0.005, 'reported_month_August'),\n",
       " (0.005, 'reported_month_April'),\n",
       " (0.005, 'city_Tulsa'),\n",
       " (0.005, 'city_Tampa'),\n",
       " (0.005, 'city_Stockton'),\n",
       " (0.005, 'city_St. Louis'),\n",
       " (0.005, 'city_San Diego'),\n",
       " (0.005, 'city_San Bernardino'),\n",
       " (0.005, 'city_San Antonio'),\n",
       " (0.005, 'city_Sacramento'),\n",
       " (0.005, 'city_Oklahoma City'),\n",
       " (0.005, 'city_Oakland'),\n",
       " (0.005, 'city_New Orleans'),\n",
       " (0.005, 'city_Nashville'),\n",
       " (0.005, 'city_Minneapolis'),\n",
       " (0.005, 'city_Milwaukee'),\n",
       " (0.005, 'city_Miami'),\n",
       " (0.005, 'city_Memphis'),\n",
       " (0.005, 'city_Long Beach'),\n",
       " (0.005, 'city_Houston'),\n",
       " (0.005, 'city_Fresno'),\n",
       " (0.005, 'city_Detroit'),\n",
       " (0.005, 'city_Columbus'),\n",
       " (0.005, 'city_Cincinnati'),\n",
       " (0.005, 'city_Charlotte'),\n",
       " (0.005, 'city_Buffalo'),\n",
       " (0.005, 'city_Boston'),\n",
       " (0.005, 'city_Birmingham'),\n",
       " (0.005, 'city_Baton Rouge'),\n",
       " (0.005, 'city_Atlanta'),\n",
       " (0.0, 'victim_sex_Male'),\n",
       " (0.0, 'victim_race_Other'),\n",
       " (0.0, 'victim_race_Hispanic'),\n",
       " (0.0, 'victim_race_Black'),\n",
       " (0.0, 'state_PA'),\n",
       " (0.0, 'state_OK'),\n",
       " (0.0, 'state_OH'),\n",
       " (0.0, 'state_NY'),\n",
       " (0.0, 'state_NV'),\n",
       " (0.0, 'state_NE'),\n",
       " (0.0, 'state_MO'),\n",
       " (0.0, 'state_MN'),\n",
       " (0.0, 'state_MI'),\n",
       " (0.0, 'state_MA'),\n",
       " (0.0, 'state_KY'),\n",
       " (0.0, 'state_IN'),\n",
       " (0.0, 'state_DC'),\n",
       " (0.0, 'season_Winter'),\n",
       " (0.0, 'season_Spring'),\n",
       " (0.0, 'reported_weekday_Thursday'),\n",
       " (0.0, 'reported_weekday_Sunday'),\n",
       " (0.0, 'reported_weekday_Saturday'),\n",
       " (0.0, 'reported_weekday_Friday'),\n",
       " (0.0, 'reported_month_September'),\n",
       " (0.0, 'reported_month_October'),\n",
       " (0.0, 'reported_month_March'),\n",
       " (0.0, 'reported_month_June'),\n",
       " (0.0, 'reported_month_January'),\n",
       " (0.0, 'city_Washington'),\n",
       " (0.0, 'city_Savannah'),\n",
       " (0.0, 'city_San Francisco'),\n",
       " (0.0, 'city_Richmond'),\n",
       " (0.0, 'city_Pittsburgh'),\n",
       " (0.0, 'city_Philadelphia'),\n",
       " (0.0, 'city_Omaha'),\n",
       " (0.0, 'city_New York'),\n",
       " (0.0, 'city_Louisville'),\n",
       " (0.0, 'city_Las Vegas'),\n",
       " (0.0, 'city_Jacksonville'),\n",
       " (0.0, 'city_Indianapolis'),\n",
       " (0.0, 'city_Fort Worth'),\n",
       " (0.0, 'city_Durham'),\n",
       " (0.0, 'city_Denver'),\n",
       " (0.0, 'city_Chicago'),\n",
       " (0.0, 'city_Albuquerque')]"
      ]
     },
     "execution_count": 62,
     "metadata": {},
     "output_type": "execute_result"
    }
   ],
   "source": [
    "\n",
    "#feature importances of ada model \n",
    "\n",
    "sorted(list(zip(ada.feature_importances_, X.columns)), reverse=True)"
   ]
  },
  {
   "cell_type": "code",
   "execution_count": 63,
   "id": "dff3a71d",
   "metadata": {},
   "outputs": [
    {
     "name": "stdout",
     "output_type": "stream",
     "text": [
      "0.622893850042123\n"
     ]
    }
   ],
   "source": [
    "#calculate the accuracy score of the ada model way #1\n",
    "\n",
    "y_pred = gb.predict(X_test)\n",
    "print(gb.score(X_test, y_test))"
   ]
  },
  {
   "cell_type": "code",
   "execution_count": 64,
   "id": "68f7181e",
   "metadata": {},
   "outputs": [
    {
     "data": {
      "text/plain": [
       "0.622893850042123"
      ]
     },
     "execution_count": 64,
     "metadata": {},
     "output_type": "execute_result"
    }
   ],
   "source": [
    "#way #2 to calculate the accuracy score\n",
    "\n",
    "accuracy_score(y_pred, y_test)"
   ]
  },
  {
   "cell_type": "code",
   "execution_count": 65,
   "id": "0a38d5ab",
   "metadata": {},
   "outputs": [
    {
     "data": {
      "text/plain": [
       "(array([1, 1, 1, ..., 0, 1, 1], dtype=int64),\n",
       " 20106    0\n",
       " 5564     0\n",
       " 5266     1\n",
       " 31254    1\n",
       " 1428     0\n",
       "         ..\n",
       " 16509    1\n",
       " 27837    1\n",
       " 35264    0\n",
       " 6449     0\n",
       " 39828    0\n",
       " Name: disposition, Length: 9496, dtype: int64)"
      ]
     },
     "execution_count": 65,
     "metadata": {},
     "output_type": "execute_result"
    }
   ],
   "source": [
    "y_pred, y_test"
   ]
  },
  {
   "cell_type": "code",
   "execution_count": 66,
   "id": "664d74e3",
   "metadata": {},
   "outputs": [],
   "source": [
    "#max_features: number of features that will use to construct the model \n",
    "#n estimators = trees that we will use to construct the prediction model \n",
    "#search for optimal parameters (gridsearch)"
   ]
  },
  {
   "cell_type": "code",
   "execution_count": null,
   "id": "9719b77f",
   "metadata": {},
   "outputs": [],
   "source": [
    "from sklearn.ensemble import GradientBoostingClassifier\n",
    "from sklearn.model_selection import GridSearchCV\n",
    "\n",
    "\n",
    "\n",
    "\n",
    "# Create an instance of AdaBoostClassifier\n",
    "gb = GradientBoostingClassifier(random_state=42)\n",
    "\n",
    "\n",
    "# Define the hyperparameters and their range\n",
    "param_grid = {\n",
    "    'n_estimators': [50, 100, 200],\n",
    "    'learning_rate': [0.01, 0.1, 1]\n",
    "}\n",
    "\n",
    "# Create a GridSearchCV object\n",
    "grid_search = GridSearchCV(gb, param_grid, cv=5, scoring='accuracy')\n",
    "\n",
    "# Fit the GridSearchCV object to the data\n",
    "grid_result = grid_search.fit(X, y)\n",
    "\n",
    "# Print the best parameters and the corresponding score\n",
    "print(\"Best Parameters: \", grid_result.best_params_)\n",
    "print(\"Best Score: \", grid_result.best_score_)\n"
   ]
  },
  {
   "cell_type": "markdown",
   "id": "d3cc7d93",
   "metadata": {},
   "source": [
    "Hyper Parameter Tuning using GridSearch CV"
   ]
  },
  {
   "cell_type": "code",
   "execution_count": null,
   "id": "72b2419b",
   "metadata": {},
   "outputs": [],
   "source": [
    "import numpy as np\n",
    "from sklearn.model_selection import GridSearchCV\n",
    "from sklearn.ensemble import GradientBoostingClassifier\n",
    "\n",
    "max_features_range = ['auto', 'sqrt', 'log2', None, 0.2, 0.5, 0.8]\n",
    "n_estimators_range = np.arange(10, 220, 10)\n",
    "\n",
    "param_grid = {\n",
    "    'max_features': max_features_range,\n",
    "    'n_estimators': n_estimators_range\n",
    "}\n",
    "\n",
    "gb= GradientBoostingClassifier(random_state = 42)\n",
    "\n",
    "grid = GridSearchCV(gb, param_grid, scoring = 'accuracy', cv=5)\n",
    "grid\n",
    "\n",
    "#Note: LGBM has feature fraction parameter, it is a hyperparameter that control the fraction of features to consider for each tree, \n",
    "# and it is typically between 0-1. This range allows us to try different fractions of features in our model. The array for \n",
    "#feature_fraction_range is [0.1, 0.2, 0.3, 0.4, 0.5, 0.6, 0.7, 0.8, 0.9, 1.0]. LGBM does not have max_features like other tree \n",
    "#based models. "
   ]
  },
  {
   "cell_type": "code",
   "execution_count": null,
   "id": "0815d19a",
   "metadata": {},
   "outputs": [],
   "source": [
    "grid_result = grid_search.fit(X, y)\n",
    "\n",
    "# Print the best parameters and the corresponding score\n",
    "print(\"Best Parameters: \", grid_result.best_params_)\n",
    "print(\"Best Score: \", grid_result.best_score_)"
   ]
  },
  {
   "cell_type": "code",
   "execution_count": null,
   "id": "aeb02f66",
   "metadata": {},
   "outputs": [],
   "source": [
    "\n",
    "# Extract the parameters and mean test scores\n",
    "grid_results = pd.DataFrame({\n",
    "    \"feature_fraction\": grid.cv_results_[\"param_feature_fraction\"],\n",
    "    \"n_estimators\": grid.cv_results_[\"param_n_estimators\"],\n",
    "    \"Accuracy\": grid.cv_results_[\"mean_test_score\"]\n",
    "})\n",
    "\n",
    "# Rename columns\n",
    "grid_results.columns = [\"feature_fraction\", \"n_estimators\", \"Accuracy\"]\n",
    "\n",
    "# Display the results\n",
    "print(grid_results)\n"
   ]
  },
  {
   "cell_type": "code",
   "execution_count": null,
   "id": "578cf721",
   "metadata": {},
   "outputs": [],
   "source": [
    "#GridSearchCV \n",
    "\n",
    "grid_results = pd.concat([pd.DataFrame(grid.cv_results_[\"params\"]), \n",
    "                          pd.DataFrame(grid.cv_results_[\"mean_test_score\"])], \n",
    "                         axis=1)\n",
    "grid_results.columns = [\"feature_fraction\", \"n_estimators\", \"Accuracy\"]\n",
    "grid_results\n"
   ]
  },
  {
   "cell_type": "code",
   "execution_count": null,
   "id": "2ba0f3e2",
   "metadata": {},
   "outputs": [],
   "source": [
    "grid_contour = grid_results.groupby([\"feature_fraction\", \"n_estimators\"]).mean()\n",
    "grid_contour\n"
   ]
  },
  {
   "cell_type": "code",
   "execution_count": 515,
   "id": "8d0d32cd",
   "metadata": {},
   "outputs": [
    {
     "data": {
      "text/html": [
       "<div>\n",
       "<style scoped>\n",
       "    .dataframe tbody tr th:only-of-type {\n",
       "        vertical-align: middle;\n",
       "    }\n",
       "\n",
       "    .dataframe tbody tr th {\n",
       "        vertical-align: top;\n",
       "    }\n",
       "\n",
       "    .dataframe thead th {\n",
       "        text-align: right;\n",
       "    }\n",
       "</style>\n",
       "<table border=\"1\" class=\"dataframe\">\n",
       "  <thead>\n",
       "    <tr style=\"text-align: right;\">\n",
       "      <th>n_estimators</th>\n",
       "      <th>10</th>\n",
       "      <th>20</th>\n",
       "      <th>30</th>\n",
       "      <th>40</th>\n",
       "      <th>50</th>\n",
       "      <th>60</th>\n",
       "      <th>70</th>\n",
       "      <th>80</th>\n",
       "      <th>90</th>\n",
       "      <th>100</th>\n",
       "      <th>...</th>\n",
       "      <th>120</th>\n",
       "      <th>130</th>\n",
       "      <th>140</th>\n",
       "      <th>150</th>\n",
       "      <th>160</th>\n",
       "      <th>170</th>\n",
       "      <th>180</th>\n",
       "      <th>190</th>\n",
       "      <th>200</th>\n",
       "      <th>210</th>\n",
       "    </tr>\n",
       "    <tr>\n",
       "      <th>feature_fraction</th>\n",
       "      <th></th>\n",
       "      <th></th>\n",
       "      <th></th>\n",
       "      <th></th>\n",
       "      <th></th>\n",
       "      <th></th>\n",
       "      <th></th>\n",
       "      <th></th>\n",
       "      <th></th>\n",
       "      <th></th>\n",
       "      <th></th>\n",
       "      <th></th>\n",
       "      <th></th>\n",
       "      <th></th>\n",
       "      <th></th>\n",
       "      <th></th>\n",
       "      <th></th>\n",
       "      <th></th>\n",
       "      <th></th>\n",
       "      <th></th>\n",
       "      <th></th>\n",
       "    </tr>\n",
       "  </thead>\n",
       "  <tbody>\n",
       "    <tr>\n",
       "      <th>0.1</th>\n",
       "      <td>0.617582</td>\n",
       "      <td>0.619083</td>\n",
       "      <td>0.622400</td>\n",
       "      <td>0.624164</td>\n",
       "      <td>0.625217</td>\n",
       "      <td>0.627297</td>\n",
       "      <td>0.627034</td>\n",
       "      <td>0.627718</td>\n",
       "      <td>0.628613</td>\n",
       "      <td>0.628640</td>\n",
       "      <td>...</td>\n",
       "      <td>0.628666</td>\n",
       "      <td>0.628324</td>\n",
       "      <td>0.628613</td>\n",
       "      <td>0.629351</td>\n",
       "      <td>0.629403</td>\n",
       "      <td>0.630404</td>\n",
       "      <td>0.630957</td>\n",
       "      <td>0.630720</td>\n",
       "      <td>0.630614</td>\n",
       "      <td>0.630614</td>\n",
       "    </tr>\n",
       "    <tr>\n",
       "      <th>0.2</th>\n",
       "      <td>0.619214</td>\n",
       "      <td>0.625322</td>\n",
       "      <td>0.626981</td>\n",
       "      <td>0.626007</td>\n",
       "      <td>0.627771</td>\n",
       "      <td>0.628508</td>\n",
       "      <td>0.629667</td>\n",
       "      <td>0.630878</td>\n",
       "      <td>0.630035</td>\n",
       "      <td>0.629298</td>\n",
       "      <td>...</td>\n",
       "      <td>0.629614</td>\n",
       "      <td>0.629298</td>\n",
       "      <td>0.629719</td>\n",
       "      <td>0.629351</td>\n",
       "      <td>0.629008</td>\n",
       "      <td>0.629219</td>\n",
       "      <td>0.628140</td>\n",
       "      <td>0.628271</td>\n",
       "      <td>0.628377</td>\n",
       "      <td>0.628219</td>\n",
       "    </tr>\n",
       "    <tr>\n",
       "      <th>0.3</th>\n",
       "      <td>0.621005</td>\n",
       "      <td>0.625717</td>\n",
       "      <td>0.627850</td>\n",
       "      <td>0.627929</td>\n",
       "      <td>0.627876</td>\n",
       "      <td>0.629377</td>\n",
       "      <td>0.629719</td>\n",
       "      <td>0.629719</td>\n",
       "      <td>0.629430</td>\n",
       "      <td>0.628693</td>\n",
       "      <td>...</td>\n",
       "      <td>0.628693</td>\n",
       "      <td>0.628482</td>\n",
       "      <td>0.628771</td>\n",
       "      <td>0.628824</td>\n",
       "      <td>0.628640</td>\n",
       "      <td>0.627560</td>\n",
       "      <td>0.626928</td>\n",
       "      <td>0.627402</td>\n",
       "      <td>0.626955</td>\n",
       "      <td>0.626902</td>\n",
       "    </tr>\n",
       "    <tr>\n",
       "      <th>0.4</th>\n",
       "      <td>0.623506</td>\n",
       "      <td>0.628245</td>\n",
       "      <td>0.628745</td>\n",
       "      <td>0.628666</td>\n",
       "      <td>0.630167</td>\n",
       "      <td>0.630272</td>\n",
       "      <td>0.629351</td>\n",
       "      <td>0.629061</td>\n",
       "      <td>0.628692</td>\n",
       "      <td>0.627929</td>\n",
       "      <td>...</td>\n",
       "      <td>0.629614</td>\n",
       "      <td>0.629561</td>\n",
       "      <td>0.629667</td>\n",
       "      <td>0.628482</td>\n",
       "      <td>0.627771</td>\n",
       "      <td>0.627824</td>\n",
       "      <td>0.627587</td>\n",
       "      <td>0.627350</td>\n",
       "      <td>0.626718</td>\n",
       "      <td>0.626955</td>\n",
       "    </tr>\n",
       "    <tr>\n",
       "      <th>0.5</th>\n",
       "      <td>0.625954</td>\n",
       "      <td>0.627297</td>\n",
       "      <td>0.627771</td>\n",
       "      <td>0.628219</td>\n",
       "      <td>0.629140</td>\n",
       "      <td>0.629061</td>\n",
       "      <td>0.628929</td>\n",
       "      <td>0.627955</td>\n",
       "      <td>0.628587</td>\n",
       "      <td>0.628429</td>\n",
       "      <td>...</td>\n",
       "      <td>0.627455</td>\n",
       "      <td>0.628271</td>\n",
       "      <td>0.627271</td>\n",
       "      <td>0.627402</td>\n",
       "      <td>0.627982</td>\n",
       "      <td>0.627745</td>\n",
       "      <td>0.627639</td>\n",
       "      <td>0.627534</td>\n",
       "      <td>0.627350</td>\n",
       "      <td>0.627639</td>\n",
       "    </tr>\n",
       "    <tr>\n",
       "      <th>0.6</th>\n",
       "      <td>0.625586</td>\n",
       "      <td>0.626902</td>\n",
       "      <td>0.628008</td>\n",
       "      <td>0.627903</td>\n",
       "      <td>0.628403</td>\n",
       "      <td>0.627718</td>\n",
       "      <td>0.626876</td>\n",
       "      <td>0.627218</td>\n",
       "      <td>0.627060</td>\n",
       "      <td>0.627666</td>\n",
       "      <td>...</td>\n",
       "      <td>0.627429</td>\n",
       "      <td>0.627060</td>\n",
       "      <td>0.627166</td>\n",
       "      <td>0.627008</td>\n",
       "      <td>0.626139</td>\n",
       "      <td>0.625560</td>\n",
       "      <td>0.625717</td>\n",
       "      <td>0.625665</td>\n",
       "      <td>0.624928</td>\n",
       "      <td>0.625349</td>\n",
       "    </tr>\n",
       "    <tr>\n",
       "      <th>0.7</th>\n",
       "      <td>0.623690</td>\n",
       "      <td>0.625086</td>\n",
       "      <td>0.629298</td>\n",
       "      <td>0.628377</td>\n",
       "      <td>0.626850</td>\n",
       "      <td>0.626744</td>\n",
       "      <td>0.627271</td>\n",
       "      <td>0.628324</td>\n",
       "      <td>0.627771</td>\n",
       "      <td>0.627508</td>\n",
       "      <td>...</td>\n",
       "      <td>0.627850</td>\n",
       "      <td>0.627824</td>\n",
       "      <td>0.627060</td>\n",
       "      <td>0.626560</td>\n",
       "      <td>0.626481</td>\n",
       "      <td>0.626692</td>\n",
       "      <td>0.626455</td>\n",
       "      <td>0.626218</td>\n",
       "      <td>0.626033</td>\n",
       "      <td>0.625902</td>\n",
       "    </tr>\n",
       "    <tr>\n",
       "      <th>0.8</th>\n",
       "      <td>0.623506</td>\n",
       "      <td>0.626692</td>\n",
       "      <td>0.627534</td>\n",
       "      <td>0.627639</td>\n",
       "      <td>0.627455</td>\n",
       "      <td>0.627534</td>\n",
       "      <td>0.627034</td>\n",
       "      <td>0.626533</td>\n",
       "      <td>0.626928</td>\n",
       "      <td>0.627060</td>\n",
       "      <td>...</td>\n",
       "      <td>0.627429</td>\n",
       "      <td>0.627376</td>\n",
       "      <td>0.627323</td>\n",
       "      <td>0.627034</td>\n",
       "      <td>0.627692</td>\n",
       "      <td>0.627271</td>\n",
       "      <td>0.627850</td>\n",
       "      <td>0.627455</td>\n",
       "      <td>0.626929</td>\n",
       "      <td>0.626376</td>\n",
       "    </tr>\n",
       "    <tr>\n",
       "      <th>0.9</th>\n",
       "      <td>0.623085</td>\n",
       "      <td>0.625796</td>\n",
       "      <td>0.626613</td>\n",
       "      <td>0.629087</td>\n",
       "      <td>0.629035</td>\n",
       "      <td>0.629377</td>\n",
       "      <td>0.628324</td>\n",
       "      <td>0.627850</td>\n",
       "      <td>0.627402</td>\n",
       "      <td>0.627718</td>\n",
       "      <td>...</td>\n",
       "      <td>0.627165</td>\n",
       "      <td>0.626402</td>\n",
       "      <td>0.626876</td>\n",
       "      <td>0.626376</td>\n",
       "      <td>0.626376</td>\n",
       "      <td>0.626376</td>\n",
       "      <td>0.625586</td>\n",
       "      <td>0.625296</td>\n",
       "      <td>0.625007</td>\n",
       "      <td>0.624770</td>\n",
       "    </tr>\n",
       "    <tr>\n",
       "      <th>1.0</th>\n",
       "      <td>0.621005</td>\n",
       "      <td>0.625665</td>\n",
       "      <td>0.628350</td>\n",
       "      <td>0.627903</td>\n",
       "      <td>0.625875</td>\n",
       "      <td>0.626112</td>\n",
       "      <td>0.626560</td>\n",
       "      <td>0.626007</td>\n",
       "      <td>0.625507</td>\n",
       "      <td>0.625428</td>\n",
       "      <td>...</td>\n",
       "      <td>0.625454</td>\n",
       "      <td>0.626086</td>\n",
       "      <td>0.625402</td>\n",
       "      <td>0.624980</td>\n",
       "      <td>0.625375</td>\n",
       "      <td>0.624980</td>\n",
       "      <td>0.625375</td>\n",
       "      <td>0.626086</td>\n",
       "      <td>0.625744</td>\n",
       "      <td>0.625981</td>\n",
       "    </tr>\n",
       "  </tbody>\n",
       "</table>\n",
       "<p>10 rows × 21 columns</p>\n",
       "</div>"
      ],
      "text/plain": [
       "n_estimators           10        20        30        40        50        60   \\\n",
       "feature_fraction                                                               \n",
       "0.1               0.617582  0.619083  0.622400  0.624164  0.625217  0.627297   \n",
       "0.2               0.619214  0.625322  0.626981  0.626007  0.627771  0.628508   \n",
       "0.3               0.621005  0.625717  0.627850  0.627929  0.627876  0.629377   \n",
       "0.4               0.623506  0.628245  0.628745  0.628666  0.630167  0.630272   \n",
       "0.5               0.625954  0.627297  0.627771  0.628219  0.629140  0.629061   \n",
       "0.6               0.625586  0.626902  0.628008  0.627903  0.628403  0.627718   \n",
       "0.7               0.623690  0.625086  0.629298  0.628377  0.626850  0.626744   \n",
       "0.8               0.623506  0.626692  0.627534  0.627639  0.627455  0.627534   \n",
       "0.9               0.623085  0.625796  0.626613  0.629087  0.629035  0.629377   \n",
       "1.0               0.621005  0.625665  0.628350  0.627903  0.625875  0.626112   \n",
       "\n",
       "n_estimators           70        80        90        100  ...       120  \\\n",
       "feature_fraction                                          ...             \n",
       "0.1               0.627034  0.627718  0.628613  0.628640  ...  0.628666   \n",
       "0.2               0.629667  0.630878  0.630035  0.629298  ...  0.629614   \n",
       "0.3               0.629719  0.629719  0.629430  0.628693  ...  0.628693   \n",
       "0.4               0.629351  0.629061  0.628692  0.627929  ...  0.629614   \n",
       "0.5               0.628929  0.627955  0.628587  0.628429  ...  0.627455   \n",
       "0.6               0.626876  0.627218  0.627060  0.627666  ...  0.627429   \n",
       "0.7               0.627271  0.628324  0.627771  0.627508  ...  0.627850   \n",
       "0.8               0.627034  0.626533  0.626928  0.627060  ...  0.627429   \n",
       "0.9               0.628324  0.627850  0.627402  0.627718  ...  0.627165   \n",
       "1.0               0.626560  0.626007  0.625507  0.625428  ...  0.625454   \n",
       "\n",
       "n_estimators           130       140       150       160       170       180  \\\n",
       "feature_fraction                                                               \n",
       "0.1               0.628324  0.628613  0.629351  0.629403  0.630404  0.630957   \n",
       "0.2               0.629298  0.629719  0.629351  0.629008  0.629219  0.628140   \n",
       "0.3               0.628482  0.628771  0.628824  0.628640  0.627560  0.626928   \n",
       "0.4               0.629561  0.629667  0.628482  0.627771  0.627824  0.627587   \n",
       "0.5               0.628271  0.627271  0.627402  0.627982  0.627745  0.627639   \n",
       "0.6               0.627060  0.627166  0.627008  0.626139  0.625560  0.625717   \n",
       "0.7               0.627824  0.627060  0.626560  0.626481  0.626692  0.626455   \n",
       "0.8               0.627376  0.627323  0.627034  0.627692  0.627271  0.627850   \n",
       "0.9               0.626402  0.626876  0.626376  0.626376  0.626376  0.625586   \n",
       "1.0               0.626086  0.625402  0.624980  0.625375  0.624980  0.625375   \n",
       "\n",
       "n_estimators           190       200       210  \n",
       "feature_fraction                                \n",
       "0.1               0.630720  0.630614  0.630614  \n",
       "0.2               0.628271  0.628377  0.628219  \n",
       "0.3               0.627402  0.626955  0.626902  \n",
       "0.4               0.627350  0.626718  0.626955  \n",
       "0.5               0.627534  0.627350  0.627639  \n",
       "0.6               0.625665  0.624928  0.625349  \n",
       "0.7               0.626218  0.626033  0.625902  \n",
       "0.8               0.627455  0.626929  0.626376  \n",
       "0.9               0.625296  0.625007  0.624770  \n",
       "1.0               0.626086  0.625744  0.625981  \n",
       "\n",
       "[10 rows x 21 columns]"
      ]
     },
     "execution_count": 515,
     "metadata": {},
     "output_type": "execute_result"
    }
   ],
   "source": [
    "#data is reshaped by pivoting the data into an m by n matrix where rows and columns correspond to the \"feature_fractions\" and \"n_estimators\"\n",
    "\n",
    "grid_reset = grid_contour.reset_index()\n",
    "grid_reset.columns = ['feature_fraction', 'n_estimators', 'Accuracy']\n",
    "grid_pivot = grid_reset.pivot(\"feature_fraction\", 'n_estimators', 'Accuracy')\n",
    "grid_pivot\n"
   ]
  },
  {
   "cell_type": "code",
   "execution_count": 516,
   "id": "4bfb92db",
   "metadata": {},
   "outputs": [],
   "source": [
    "##assign the pivot table above to x, y and z variables \n",
    "x = grid_pivot.columns.to_numpy()\n",
    "y = grid_pivot.index.to_numpy()\n",
    "z = grid_pivot.to_numpy()\n"
   ]
  },
  {
   "cell_type": "code",
   "execution_count": 517,
   "id": "8900a592",
   "metadata": {},
   "outputs": [
    {
     "data": {
      "application/vnd.plotly.v1+json": {
       "config": {
        "plotlyServerURL": "https://plot.ly"
       },
       "data": [
        {
         "type": "contour",
         "x": [
          10,
          20,
          30,
          40,
          50,
          60,
          70,
          80,
          90,
          100,
          110,
          120,
          130,
          140,
          150,
          160,
          170,
          180,
          190,
          200,
          210
         ],
         "y": [
          0.1,
          0.2,
          0.30000000000000004,
          0.4,
          0.5,
          0.6,
          0.7000000000000001,
          0.8,
          0.9,
          1
         ],
         "z": [
          [
           0.6175818792415703,
           0.6190827037889391,
           0.6224000348520379,
           0.6241640207052159,
           0.6252170644949162,
           0.6272969922511055,
           0.627033775492571,
           0.6277182215506897,
           0.6286134399522885,
           0.6286397626678806,
           0.6282975500362071,
           0.6286660784518819,
           0.6283238727517992,
           0.6286134780760372,
           0.6293506319496561,
           0.6294032981756122,
           0.6304037866448072,
           0.6309566780434865,
           0.6307197146846372,
           0.6306143960959063,
           0.6306143649037482
          ],
          [
           0.6192141232823605,
           0.6253223969468285,
           0.6269811161982055,
           0.6260068811286958,
           0.6277708947082365,
           0.6285081664188968,
           0.629666629305393,
           0.6308776613755755,
           0.6300351299947049,
           0.629297986518472,
           0.6290610751465529,
           0.62961394575046,
           0.6292979622579047,
           0.6297192400786236,
           0.6293506180864747,
           0.629008350002076,
           0.6292189386584031,
           0.6281395270977714,
           0.628271196128457,
           0.6283765285803694,
           0.6282185506972731
          ],
          [
           0.6210046086066927,
           0.6257173243255927,
           0.6278499009787615,
           0.6279289904283744,
           0.6278763103392369,
           0.6293769962547923,
           0.6297192920655538,
           0.6297193197919164,
           0.6294297491256318,
           0.6286925397992874,
           0.6292981320818762,
           0.6286925744572409,
           0.6284819268823931,
           0.6287714975486777,
           0.6288241325824757,
           0.6286398527785593,
           0.6275603892309974,
           0.6269284984933841,
           0.6274023628267665,
           0.6269548038799995,
           0.6269021757777921
          ],
          [
           0.623505803786215,
           0.628244863015479,
           0.6287451817646763,
           0.6286661443019933,
           0.6301668579439114,
           0.6302721765326422,
           0.6293506700734048,
           0.6290610439543949,
           0.6286924878123574,
           0.6279289557704211,
           0.6291927545746245,
           0.6296139492162555,
           0.629561300319276,
           0.6296665946474395,
           0.6284818402375095,
           0.627770960558348,
           0.6278236129211228,
           0.6275866772886363,
           0.6273496376822896,
           0.6267178231921735,
           0.6269547657562506
          ],
          [
           0.6259543639319392,
           0.6272971204855329,
           0.627771043737436,
           0.6282186130815891,
           0.6291400571565104,
           0.6290610439543949,
           0.6289293506631417,
           0.6279552334306737,
           0.6285870652497664,
           0.6284291046956467,
           0.6275866426306829,
           0.627455011723746,
           0.6282712273206151,
           0.6272707943041457,
           0.6274024217452873,
           0.6279816150647866,
           0.6277446690349139,
           0.627639350446183,
           0.6275340318574522,
           0.6273497069981963,
           0.627639308856639
          ],
          [
           0.6255858528452413,
           0.6269021272566573,
           0.6280079897673085,
           0.6279025602731269,
           0.6284027889116452,
           0.6277183081955732,
           0.6268757594857259,
           0.6272181488729615,
           0.6270602091136139,
           0.6276657563408632,
           0.6274815007975142,
           0.6274289038874648,
           0.6270602368399765,
           0.6271655554287074,
           0.6270076191351551,
           0.6261387442439205,
           0.6255595647876027,
           0.6257174768205875,
           0.62566479673145,
           0.6249276081998777,
           0.62534886869162
          ],
          [
           0.6236901529060381,
           0.6250855063696813,
           0.6292980558343787,
           0.6283765216487787,
           0.6268495026202453,
           0.6267441528393564,
           0.6272707284540342,
           0.6283237965043018,
           0.6277709328319853,
           0.6275077160734507,
           0.6272971031565564,
           0.6278500014868262,
           0.6278236718396435,
           0.6270601432635023,
           0.626559935419756,
           0.6264809915335472,
           0.626691639108395,
           0.6264546376257971,
           0.6262176881301292,
           0.6260334291209848,
           0.6259017635560946
          ],
          [
           0.6235056686201969,
           0.6266915108739675,
           0.6275339382809781,
           0.6276392083485742,
           0.6274549146814763,
           0.627533969473136,
           0.6270337373688223,
           0.6265334844697363,
           0.626928394519524,
           0.6270600635502096,
           0.6272970338406496,
           0.6274286924739492,
           0.6273760886323092,
           0.6273234501327158,
           0.6270338413426824,
           0.6276920547958879,
           0.6272707908383502,
           0.6278499980210308,
           0.6274550671764713,
           0.6269285019591794,
           0.6263756244236816
          ],
          [
           0.6230845259654961,
           0.6257964103094102,
           0.6266125219324193,
           0.6290873736015776,
           0.6290347247045981,
           0.6293770170495643,
           0.6283238554228225,
           0.6278499252393287,
           0.6274023766899478,
           0.6277183324561405,
           0.6278236475790762,
           0.6271654341258707,
           0.6264018986181389,
           0.6268758669253813,
           0.626375659081635,
           0.6263757041369743,
           0.626375711068565,
           0.6255858736400132,
           0.6252962093972545,
           0.6250066525941513,
           0.6247696753721208
          ],
          [
           0.6210045150302186,
           0.6256647932656547,
           0.628350160809438,
           0.6279025256151736,
           0.625875354195619,
           0.6261123279518543,
           0.626559945817142,
           0.6260069885683514,
           0.6255067287376749,
           0.6254277813856708,
           0.6252172169899111,
           0.6254541699513742,
           0.626086074552169,
           0.625401503725418,
           0.6249802778916291,
           0.6253751775440306,
           0.6249802085757223,
           0.6253751359544866,
           0.6260859359203554,
           0.6257436747675473,
           0.6259806589211686
          ]
         ]
        }
       ],
       "layout": {
        "autosize": false,
        "height": 500,
        "margin": {
         "b": 65,
         "l": 65,
         "r": 50,
         "t": 90
        },
        "template": {
         "data": {
          "bar": [
           {
            "error_x": {
             "color": "#2a3f5f"
            },
            "error_y": {
             "color": "#2a3f5f"
            },
            "marker": {
             "line": {
              "color": "#E5ECF6",
              "width": 0.5
             },
             "pattern": {
              "fillmode": "overlay",
              "size": 10,
              "solidity": 0.2
             }
            },
            "type": "bar"
           }
          ],
          "barpolar": [
           {
            "marker": {
             "line": {
              "color": "#E5ECF6",
              "width": 0.5
             },
             "pattern": {
              "fillmode": "overlay",
              "size": 10,
              "solidity": 0.2
             }
            },
            "type": "barpolar"
           }
          ],
          "carpet": [
           {
            "aaxis": {
             "endlinecolor": "#2a3f5f",
             "gridcolor": "white",
             "linecolor": "white",
             "minorgridcolor": "white",
             "startlinecolor": "#2a3f5f"
            },
            "baxis": {
             "endlinecolor": "#2a3f5f",
             "gridcolor": "white",
             "linecolor": "white",
             "minorgridcolor": "white",
             "startlinecolor": "#2a3f5f"
            },
            "type": "carpet"
           }
          ],
          "choropleth": [
           {
            "colorbar": {
             "outlinewidth": 0,
             "ticks": ""
            },
            "type": "choropleth"
           }
          ],
          "contour": [
           {
            "colorbar": {
             "outlinewidth": 0,
             "ticks": ""
            },
            "colorscale": [
             [
              0,
              "#0d0887"
             ],
             [
              0.1111111111111111,
              "#46039f"
             ],
             [
              0.2222222222222222,
              "#7201a8"
             ],
             [
              0.3333333333333333,
              "#9c179e"
             ],
             [
              0.4444444444444444,
              "#bd3786"
             ],
             [
              0.5555555555555556,
              "#d8576b"
             ],
             [
              0.6666666666666666,
              "#ed7953"
             ],
             [
              0.7777777777777778,
              "#fb9f3a"
             ],
             [
              0.8888888888888888,
              "#fdca26"
             ],
             [
              1,
              "#f0f921"
             ]
            ],
            "type": "contour"
           }
          ],
          "contourcarpet": [
           {
            "colorbar": {
             "outlinewidth": 0,
             "ticks": ""
            },
            "type": "contourcarpet"
           }
          ],
          "heatmap": [
           {
            "colorbar": {
             "outlinewidth": 0,
             "ticks": ""
            },
            "colorscale": [
             [
              0,
              "#0d0887"
             ],
             [
              0.1111111111111111,
              "#46039f"
             ],
             [
              0.2222222222222222,
              "#7201a8"
             ],
             [
              0.3333333333333333,
              "#9c179e"
             ],
             [
              0.4444444444444444,
              "#bd3786"
             ],
             [
              0.5555555555555556,
              "#d8576b"
             ],
             [
              0.6666666666666666,
              "#ed7953"
             ],
             [
              0.7777777777777778,
              "#fb9f3a"
             ],
             [
              0.8888888888888888,
              "#fdca26"
             ],
             [
              1,
              "#f0f921"
             ]
            ],
            "type": "heatmap"
           }
          ],
          "heatmapgl": [
           {
            "colorbar": {
             "outlinewidth": 0,
             "ticks": ""
            },
            "colorscale": [
             [
              0,
              "#0d0887"
             ],
             [
              0.1111111111111111,
              "#46039f"
             ],
             [
              0.2222222222222222,
              "#7201a8"
             ],
             [
              0.3333333333333333,
              "#9c179e"
             ],
             [
              0.4444444444444444,
              "#bd3786"
             ],
             [
              0.5555555555555556,
              "#d8576b"
             ],
             [
              0.6666666666666666,
              "#ed7953"
             ],
             [
              0.7777777777777778,
              "#fb9f3a"
             ],
             [
              0.8888888888888888,
              "#fdca26"
             ],
             [
              1,
              "#f0f921"
             ]
            ],
            "type": "heatmapgl"
           }
          ],
          "histogram": [
           {
            "marker": {
             "pattern": {
              "fillmode": "overlay",
              "size": 10,
              "solidity": 0.2
             }
            },
            "type": "histogram"
           }
          ],
          "histogram2d": [
           {
            "colorbar": {
             "outlinewidth": 0,
             "ticks": ""
            },
            "colorscale": [
             [
              0,
              "#0d0887"
             ],
             [
              0.1111111111111111,
              "#46039f"
             ],
             [
              0.2222222222222222,
              "#7201a8"
             ],
             [
              0.3333333333333333,
              "#9c179e"
             ],
             [
              0.4444444444444444,
              "#bd3786"
             ],
             [
              0.5555555555555556,
              "#d8576b"
             ],
             [
              0.6666666666666666,
              "#ed7953"
             ],
             [
              0.7777777777777778,
              "#fb9f3a"
             ],
             [
              0.8888888888888888,
              "#fdca26"
             ],
             [
              1,
              "#f0f921"
             ]
            ],
            "type": "histogram2d"
           }
          ],
          "histogram2dcontour": [
           {
            "colorbar": {
             "outlinewidth": 0,
             "ticks": ""
            },
            "colorscale": [
             [
              0,
              "#0d0887"
             ],
             [
              0.1111111111111111,
              "#46039f"
             ],
             [
              0.2222222222222222,
              "#7201a8"
             ],
             [
              0.3333333333333333,
              "#9c179e"
             ],
             [
              0.4444444444444444,
              "#bd3786"
             ],
             [
              0.5555555555555556,
              "#d8576b"
             ],
             [
              0.6666666666666666,
              "#ed7953"
             ],
             [
              0.7777777777777778,
              "#fb9f3a"
             ],
             [
              0.8888888888888888,
              "#fdca26"
             ],
             [
              1,
              "#f0f921"
             ]
            ],
            "type": "histogram2dcontour"
           }
          ],
          "mesh3d": [
           {
            "colorbar": {
             "outlinewidth": 0,
             "ticks": ""
            },
            "type": "mesh3d"
           }
          ],
          "parcoords": [
           {
            "line": {
             "colorbar": {
              "outlinewidth": 0,
              "ticks": ""
             }
            },
            "type": "parcoords"
           }
          ],
          "pie": [
           {
            "automargin": true,
            "type": "pie"
           }
          ],
          "scatter": [
           {
            "fillpattern": {
             "fillmode": "overlay",
             "size": 10,
             "solidity": 0.2
            },
            "type": "scatter"
           }
          ],
          "scatter3d": [
           {
            "line": {
             "colorbar": {
              "outlinewidth": 0,
              "ticks": ""
             }
            },
            "marker": {
             "colorbar": {
              "outlinewidth": 0,
              "ticks": ""
             }
            },
            "type": "scatter3d"
           }
          ],
          "scattercarpet": [
           {
            "marker": {
             "colorbar": {
              "outlinewidth": 0,
              "ticks": ""
             }
            },
            "type": "scattercarpet"
           }
          ],
          "scattergeo": [
           {
            "marker": {
             "colorbar": {
              "outlinewidth": 0,
              "ticks": ""
             }
            },
            "type": "scattergeo"
           }
          ],
          "scattergl": [
           {
            "marker": {
             "colorbar": {
              "outlinewidth": 0,
              "ticks": ""
             }
            },
            "type": "scattergl"
           }
          ],
          "scattermapbox": [
           {
            "marker": {
             "colorbar": {
              "outlinewidth": 0,
              "ticks": ""
             }
            },
            "type": "scattermapbox"
           }
          ],
          "scatterpolar": [
           {
            "marker": {
             "colorbar": {
              "outlinewidth": 0,
              "ticks": ""
             }
            },
            "type": "scatterpolar"
           }
          ],
          "scatterpolargl": [
           {
            "marker": {
             "colorbar": {
              "outlinewidth": 0,
              "ticks": ""
             }
            },
            "type": "scatterpolargl"
           }
          ],
          "scatterternary": [
           {
            "marker": {
             "colorbar": {
              "outlinewidth": 0,
              "ticks": ""
             }
            },
            "type": "scatterternary"
           }
          ],
          "surface": [
           {
            "colorbar": {
             "outlinewidth": 0,
             "ticks": ""
            },
            "colorscale": [
             [
              0,
              "#0d0887"
             ],
             [
              0.1111111111111111,
              "#46039f"
             ],
             [
              0.2222222222222222,
              "#7201a8"
             ],
             [
              0.3333333333333333,
              "#9c179e"
             ],
             [
              0.4444444444444444,
              "#bd3786"
             ],
             [
              0.5555555555555556,
              "#d8576b"
             ],
             [
              0.6666666666666666,
              "#ed7953"
             ],
             [
              0.7777777777777778,
              "#fb9f3a"
             ],
             [
              0.8888888888888888,
              "#fdca26"
             ],
             [
              1,
              "#f0f921"
             ]
            ],
            "type": "surface"
           }
          ],
          "table": [
           {
            "cells": {
             "fill": {
              "color": "#EBF0F8"
             },
             "line": {
              "color": "white"
             }
            },
            "header": {
             "fill": {
              "color": "#C8D4E3"
             },
             "line": {
              "color": "white"
             }
            },
            "type": "table"
           }
          ]
         },
         "layout": {
          "annotationdefaults": {
           "arrowcolor": "#2a3f5f",
           "arrowhead": 0,
           "arrowwidth": 1
          },
          "autotypenumbers": "strict",
          "coloraxis": {
           "colorbar": {
            "outlinewidth": 0,
            "ticks": ""
           }
          },
          "colorscale": {
           "diverging": [
            [
             0,
             "#8e0152"
            ],
            [
             0.1,
             "#c51b7d"
            ],
            [
             0.2,
             "#de77ae"
            ],
            [
             0.3,
             "#f1b6da"
            ],
            [
             0.4,
             "#fde0ef"
            ],
            [
             0.5,
             "#f7f7f7"
            ],
            [
             0.6,
             "#e6f5d0"
            ],
            [
             0.7,
             "#b8e186"
            ],
            [
             0.8,
             "#7fbc41"
            ],
            [
             0.9,
             "#4d9221"
            ],
            [
             1,
             "#276419"
            ]
           ],
           "sequential": [
            [
             0,
             "#0d0887"
            ],
            [
             0.1111111111111111,
             "#46039f"
            ],
            [
             0.2222222222222222,
             "#7201a8"
            ],
            [
             0.3333333333333333,
             "#9c179e"
            ],
            [
             0.4444444444444444,
             "#bd3786"
            ],
            [
             0.5555555555555556,
             "#d8576b"
            ],
            [
             0.6666666666666666,
             "#ed7953"
            ],
            [
             0.7777777777777778,
             "#fb9f3a"
            ],
            [
             0.8888888888888888,
             "#fdca26"
            ],
            [
             1,
             "#f0f921"
            ]
           ],
           "sequentialminus": [
            [
             0,
             "#0d0887"
            ],
            [
             0.1111111111111111,
             "#46039f"
            ],
            [
             0.2222222222222222,
             "#7201a8"
            ],
            [
             0.3333333333333333,
             "#9c179e"
            ],
            [
             0.4444444444444444,
             "#bd3786"
            ],
            [
             0.5555555555555556,
             "#d8576b"
            ],
            [
             0.6666666666666666,
             "#ed7953"
            ],
            [
             0.7777777777777778,
             "#fb9f3a"
            ],
            [
             0.8888888888888888,
             "#fdca26"
            ],
            [
             1,
             "#f0f921"
            ]
           ]
          },
          "colorway": [
           "#636efa",
           "#EF553B",
           "#00cc96",
           "#ab63fa",
           "#FFA15A",
           "#19d3f3",
           "#FF6692",
           "#B6E880",
           "#FF97FF",
           "#FECB52"
          ],
          "font": {
           "color": "#2a3f5f"
          },
          "geo": {
           "bgcolor": "white",
           "lakecolor": "white",
           "landcolor": "#E5ECF6",
           "showlakes": true,
           "showland": true,
           "subunitcolor": "white"
          },
          "hoverlabel": {
           "align": "left"
          },
          "hovermode": "closest",
          "mapbox": {
           "style": "light"
          },
          "paper_bgcolor": "white",
          "plot_bgcolor": "#E5ECF6",
          "polar": {
           "angularaxis": {
            "gridcolor": "white",
            "linecolor": "white",
            "ticks": ""
           },
           "bgcolor": "#E5ECF6",
           "radialaxis": {
            "gridcolor": "white",
            "linecolor": "white",
            "ticks": ""
           }
          },
          "scene": {
           "xaxis": {
            "backgroundcolor": "#E5ECF6",
            "gridcolor": "white",
            "gridwidth": 2,
            "linecolor": "white",
            "showbackground": true,
            "ticks": "",
            "zerolinecolor": "white"
           },
           "yaxis": {
            "backgroundcolor": "#E5ECF6",
            "gridcolor": "white",
            "gridwidth": 2,
            "linecolor": "white",
            "showbackground": true,
            "ticks": "",
            "zerolinecolor": "white"
           },
           "zaxis": {
            "backgroundcolor": "#E5ECF6",
            "gridcolor": "white",
            "gridwidth": 2,
            "linecolor": "white",
            "showbackground": true,
            "ticks": "",
            "zerolinecolor": "white"
           }
          },
          "shapedefaults": {
           "line": {
            "color": "#2a3f5f"
           }
          },
          "ternary": {
           "aaxis": {
            "gridcolor": "white",
            "linecolor": "white",
            "ticks": ""
           },
           "baxis": {
            "gridcolor": "white",
            "linecolor": "white",
            "ticks": ""
           },
           "bgcolor": "#E5ECF6",
           "caxis": {
            "gridcolor": "white",
            "linecolor": "white",
            "ticks": ""
           }
          },
          "title": {
           "x": 0.05
          },
          "xaxis": {
           "automargin": true,
           "gridcolor": "white",
           "linecolor": "white",
           "ticks": "",
           "title": {
            "standoff": 15
           },
           "zerolinecolor": "white",
           "zerolinewidth": 2
          },
          "yaxis": {
           "automargin": true,
           "gridcolor": "white",
           "linecolor": "white",
           "ticks": "",
           "title": {
            "standoff": 15
           },
           "zerolinecolor": "white",
           "zerolinewidth": 2
          }
         }
        },
        "title": {
         "text": "Hyperparameter tuning"
        },
        "width": 500,
        "xaxis": {
         "title": {
          "text": "feature_fraction"
         }
        },
        "yaxis": {
         "title": {
          "text": "n_estimators"
         }
        }
       }
      },
      "text/html": [
       "<div>                            <div id=\"7b139dfc-cb03-49a5-9567-c4d916c6de2b\" class=\"plotly-graph-div\" style=\"height:500px; width:500px;\"></div>            <script type=\"text/javascript\">                require([\"plotly\"], function(Plotly) {                    window.PLOTLYENV=window.PLOTLYENV || {};                                    if (document.getElementById(\"7b139dfc-cb03-49a5-9567-c4d916c6de2b\")) {                    Plotly.newPlot(                        \"7b139dfc-cb03-49a5-9567-c4d916c6de2b\",                        [{\"x\":[10,20,30,40,50,60,70,80,90,100,110,120,130,140,150,160,170,180,190,200,210],\"y\":[0.1,0.2,0.30000000000000004,0.4,0.5,0.6,0.7000000000000001,0.8,0.9,1.0],\"z\":[[0.6175818792415703,0.6190827037889391,0.6224000348520379,0.6241640207052159,0.6252170644949162,0.6272969922511055,0.627033775492571,0.6277182215506897,0.6286134399522885,0.6286397626678806,0.6282975500362071,0.6286660784518819,0.6283238727517992,0.6286134780760372,0.6293506319496561,0.6294032981756122,0.6304037866448072,0.6309566780434865,0.6307197146846372,0.6306143960959063,0.6306143649037482],[0.6192141232823605,0.6253223969468285,0.6269811161982055,0.6260068811286958,0.6277708947082365,0.6285081664188968,0.629666629305393,0.6308776613755755,0.6300351299947049,0.629297986518472,0.6290610751465529,0.62961394575046,0.6292979622579047,0.6297192400786236,0.6293506180864747,0.629008350002076,0.6292189386584031,0.6281395270977714,0.628271196128457,0.6283765285803694,0.6282185506972731],[0.6210046086066927,0.6257173243255927,0.6278499009787615,0.6279289904283744,0.6278763103392369,0.6293769962547923,0.6297192920655538,0.6297193197919164,0.6294297491256318,0.6286925397992874,0.6292981320818762,0.6286925744572409,0.6284819268823931,0.6287714975486777,0.6288241325824757,0.6286398527785593,0.6275603892309974,0.6269284984933841,0.6274023628267665,0.6269548038799995,0.6269021757777921],[0.623505803786215,0.628244863015479,0.6287451817646763,0.6286661443019933,0.6301668579439114,0.6302721765326422,0.6293506700734048,0.6290610439543949,0.6286924878123574,0.6279289557704211,0.6291927545746245,0.6296139492162555,0.629561300319276,0.6296665946474395,0.6284818402375095,0.627770960558348,0.6278236129211228,0.6275866772886363,0.6273496376822896,0.6267178231921735,0.6269547657562506],[0.6259543639319392,0.6272971204855329,0.627771043737436,0.6282186130815891,0.6291400571565104,0.6290610439543949,0.6289293506631417,0.6279552334306737,0.6285870652497664,0.6284291046956467,0.6275866426306829,0.627455011723746,0.6282712273206151,0.6272707943041457,0.6274024217452873,0.6279816150647866,0.6277446690349139,0.627639350446183,0.6275340318574522,0.6273497069981963,0.627639308856639],[0.6255858528452413,0.6269021272566573,0.6280079897673085,0.6279025602731269,0.6284027889116452,0.6277183081955732,0.6268757594857259,0.6272181488729615,0.6270602091136139,0.6276657563408632,0.6274815007975142,0.6274289038874648,0.6270602368399765,0.6271655554287074,0.6270076191351551,0.6261387442439205,0.6255595647876027,0.6257174768205875,0.62566479673145,0.6249276081998777,0.62534886869162],[0.6236901529060381,0.6250855063696813,0.6292980558343787,0.6283765216487787,0.6268495026202453,0.6267441528393564,0.6272707284540342,0.6283237965043018,0.6277709328319853,0.6275077160734507,0.6272971031565564,0.6278500014868262,0.6278236718396435,0.6270601432635023,0.626559935419756,0.6264809915335472,0.626691639108395,0.6264546376257971,0.6262176881301292,0.6260334291209848,0.6259017635560946],[0.6235056686201969,0.6266915108739675,0.6275339382809781,0.6276392083485742,0.6274549146814763,0.627533969473136,0.6270337373688223,0.6265334844697363,0.626928394519524,0.6270600635502096,0.6272970338406496,0.6274286924739492,0.6273760886323092,0.6273234501327158,0.6270338413426824,0.6276920547958879,0.6272707908383502,0.6278499980210308,0.6274550671764713,0.6269285019591794,0.6263756244236816],[0.6230845259654961,0.6257964103094102,0.6266125219324193,0.6290873736015776,0.6290347247045981,0.6293770170495643,0.6283238554228225,0.6278499252393287,0.6274023766899478,0.6277183324561405,0.6278236475790762,0.6271654341258707,0.6264018986181389,0.6268758669253813,0.626375659081635,0.6263757041369743,0.626375711068565,0.6255858736400132,0.6252962093972545,0.6250066525941513,0.6247696753721208],[0.6210045150302186,0.6256647932656547,0.628350160809438,0.6279025256151736,0.625875354195619,0.6261123279518543,0.626559945817142,0.6260069885683514,0.6255067287376749,0.6254277813856708,0.6252172169899111,0.6254541699513742,0.626086074552169,0.625401503725418,0.6249802778916291,0.6253751775440306,0.6249802085757223,0.6253751359544866,0.6260859359203554,0.6257436747675473,0.6259806589211686]],\"type\":\"contour\"}],                        {\"xaxis\":{\"title\":{\"text\":\"feature_fraction\"}},\"yaxis\":{\"title\":{\"text\":\"n_estimators\"}},\"template\":{\"data\":{\"histogram2dcontour\":[{\"type\":\"histogram2dcontour\",\"colorbar\":{\"outlinewidth\":0,\"ticks\":\"\"},\"colorscale\":[[0.0,\"#0d0887\"],[0.1111111111111111,\"#46039f\"],[0.2222222222222222,\"#7201a8\"],[0.3333333333333333,\"#9c179e\"],[0.4444444444444444,\"#bd3786\"],[0.5555555555555556,\"#d8576b\"],[0.6666666666666666,\"#ed7953\"],[0.7777777777777778,\"#fb9f3a\"],[0.8888888888888888,\"#fdca26\"],[1.0,\"#f0f921\"]]}],\"choropleth\":[{\"type\":\"choropleth\",\"colorbar\":{\"outlinewidth\":0,\"ticks\":\"\"}}],\"histogram2d\":[{\"type\":\"histogram2d\",\"colorbar\":{\"outlinewidth\":0,\"ticks\":\"\"},\"colorscale\":[[0.0,\"#0d0887\"],[0.1111111111111111,\"#46039f\"],[0.2222222222222222,\"#7201a8\"],[0.3333333333333333,\"#9c179e\"],[0.4444444444444444,\"#bd3786\"],[0.5555555555555556,\"#d8576b\"],[0.6666666666666666,\"#ed7953\"],[0.7777777777777778,\"#fb9f3a\"],[0.8888888888888888,\"#fdca26\"],[1.0,\"#f0f921\"]]}],\"heatmap\":[{\"type\":\"heatmap\",\"colorbar\":{\"outlinewidth\":0,\"ticks\":\"\"},\"colorscale\":[[0.0,\"#0d0887\"],[0.1111111111111111,\"#46039f\"],[0.2222222222222222,\"#7201a8\"],[0.3333333333333333,\"#9c179e\"],[0.4444444444444444,\"#bd3786\"],[0.5555555555555556,\"#d8576b\"],[0.6666666666666666,\"#ed7953\"],[0.7777777777777778,\"#fb9f3a\"],[0.8888888888888888,\"#fdca26\"],[1.0,\"#f0f921\"]]}],\"heatmapgl\":[{\"type\":\"heatmapgl\",\"colorbar\":{\"outlinewidth\":0,\"ticks\":\"\"},\"colorscale\":[[0.0,\"#0d0887\"],[0.1111111111111111,\"#46039f\"],[0.2222222222222222,\"#7201a8\"],[0.3333333333333333,\"#9c179e\"],[0.4444444444444444,\"#bd3786\"],[0.5555555555555556,\"#d8576b\"],[0.6666666666666666,\"#ed7953\"],[0.7777777777777778,\"#fb9f3a\"],[0.8888888888888888,\"#fdca26\"],[1.0,\"#f0f921\"]]}],\"contourcarpet\":[{\"type\":\"contourcarpet\",\"colorbar\":{\"outlinewidth\":0,\"ticks\":\"\"}}],\"contour\":[{\"type\":\"contour\",\"colorbar\":{\"outlinewidth\":0,\"ticks\":\"\"},\"colorscale\":[[0.0,\"#0d0887\"],[0.1111111111111111,\"#46039f\"],[0.2222222222222222,\"#7201a8\"],[0.3333333333333333,\"#9c179e\"],[0.4444444444444444,\"#bd3786\"],[0.5555555555555556,\"#d8576b\"],[0.6666666666666666,\"#ed7953\"],[0.7777777777777778,\"#fb9f3a\"],[0.8888888888888888,\"#fdca26\"],[1.0,\"#f0f921\"]]}],\"surface\":[{\"type\":\"surface\",\"colorbar\":{\"outlinewidth\":0,\"ticks\":\"\"},\"colorscale\":[[0.0,\"#0d0887\"],[0.1111111111111111,\"#46039f\"],[0.2222222222222222,\"#7201a8\"],[0.3333333333333333,\"#9c179e\"],[0.4444444444444444,\"#bd3786\"],[0.5555555555555556,\"#d8576b\"],[0.6666666666666666,\"#ed7953\"],[0.7777777777777778,\"#fb9f3a\"],[0.8888888888888888,\"#fdca26\"],[1.0,\"#f0f921\"]]}],\"mesh3d\":[{\"type\":\"mesh3d\",\"colorbar\":{\"outlinewidth\":0,\"ticks\":\"\"}}],\"scatter\":[{\"fillpattern\":{\"fillmode\":\"overlay\",\"size\":10,\"solidity\":0.2},\"type\":\"scatter\"}],\"parcoords\":[{\"type\":\"parcoords\",\"line\":{\"colorbar\":{\"outlinewidth\":0,\"ticks\":\"\"}}}],\"scatterpolargl\":[{\"type\":\"scatterpolargl\",\"marker\":{\"colorbar\":{\"outlinewidth\":0,\"ticks\":\"\"}}}],\"bar\":[{\"error_x\":{\"color\":\"#2a3f5f\"},\"error_y\":{\"color\":\"#2a3f5f\"},\"marker\":{\"line\":{\"color\":\"#E5ECF6\",\"width\":0.5},\"pattern\":{\"fillmode\":\"overlay\",\"size\":10,\"solidity\":0.2}},\"type\":\"bar\"}],\"scattergeo\":[{\"type\":\"scattergeo\",\"marker\":{\"colorbar\":{\"outlinewidth\":0,\"ticks\":\"\"}}}],\"scatterpolar\":[{\"type\":\"scatterpolar\",\"marker\":{\"colorbar\":{\"outlinewidth\":0,\"ticks\":\"\"}}}],\"histogram\":[{\"marker\":{\"pattern\":{\"fillmode\":\"overlay\",\"size\":10,\"solidity\":0.2}},\"type\":\"histogram\"}],\"scattergl\":[{\"type\":\"scattergl\",\"marker\":{\"colorbar\":{\"outlinewidth\":0,\"ticks\":\"\"}}}],\"scatter3d\":[{\"type\":\"scatter3d\",\"line\":{\"colorbar\":{\"outlinewidth\":0,\"ticks\":\"\"}},\"marker\":{\"colorbar\":{\"outlinewidth\":0,\"ticks\":\"\"}}}],\"scattermapbox\":[{\"type\":\"scattermapbox\",\"marker\":{\"colorbar\":{\"outlinewidth\":0,\"ticks\":\"\"}}}],\"scatterternary\":[{\"type\":\"scatterternary\",\"marker\":{\"colorbar\":{\"outlinewidth\":0,\"ticks\":\"\"}}}],\"scattercarpet\":[{\"type\":\"scattercarpet\",\"marker\":{\"colorbar\":{\"outlinewidth\":0,\"ticks\":\"\"}}}],\"carpet\":[{\"aaxis\":{\"endlinecolor\":\"#2a3f5f\",\"gridcolor\":\"white\",\"linecolor\":\"white\",\"minorgridcolor\":\"white\",\"startlinecolor\":\"#2a3f5f\"},\"baxis\":{\"endlinecolor\":\"#2a3f5f\",\"gridcolor\":\"white\",\"linecolor\":\"white\",\"minorgridcolor\":\"white\",\"startlinecolor\":\"#2a3f5f\"},\"type\":\"carpet\"}],\"table\":[{\"cells\":{\"fill\":{\"color\":\"#EBF0F8\"},\"line\":{\"color\":\"white\"}},\"header\":{\"fill\":{\"color\":\"#C8D4E3\"},\"line\":{\"color\":\"white\"}},\"type\":\"table\"}],\"barpolar\":[{\"marker\":{\"line\":{\"color\":\"#E5ECF6\",\"width\":0.5},\"pattern\":{\"fillmode\":\"overlay\",\"size\":10,\"solidity\":0.2}},\"type\":\"barpolar\"}],\"pie\":[{\"automargin\":true,\"type\":\"pie\"}]},\"layout\":{\"autotypenumbers\":\"strict\",\"colorway\":[\"#636efa\",\"#EF553B\",\"#00cc96\",\"#ab63fa\",\"#FFA15A\",\"#19d3f3\",\"#FF6692\",\"#B6E880\",\"#FF97FF\",\"#FECB52\"],\"font\":{\"color\":\"#2a3f5f\"},\"hovermode\":\"closest\",\"hoverlabel\":{\"align\":\"left\"},\"paper_bgcolor\":\"white\",\"plot_bgcolor\":\"#E5ECF6\",\"polar\":{\"bgcolor\":\"#E5ECF6\",\"angularaxis\":{\"gridcolor\":\"white\",\"linecolor\":\"white\",\"ticks\":\"\"},\"radialaxis\":{\"gridcolor\":\"white\",\"linecolor\":\"white\",\"ticks\":\"\"}},\"ternary\":{\"bgcolor\":\"#E5ECF6\",\"aaxis\":{\"gridcolor\":\"white\",\"linecolor\":\"white\",\"ticks\":\"\"},\"baxis\":{\"gridcolor\":\"white\",\"linecolor\":\"white\",\"ticks\":\"\"},\"caxis\":{\"gridcolor\":\"white\",\"linecolor\":\"white\",\"ticks\":\"\"}},\"coloraxis\":{\"colorbar\":{\"outlinewidth\":0,\"ticks\":\"\"}},\"colorscale\":{\"sequential\":[[0.0,\"#0d0887\"],[0.1111111111111111,\"#46039f\"],[0.2222222222222222,\"#7201a8\"],[0.3333333333333333,\"#9c179e\"],[0.4444444444444444,\"#bd3786\"],[0.5555555555555556,\"#d8576b\"],[0.6666666666666666,\"#ed7953\"],[0.7777777777777778,\"#fb9f3a\"],[0.8888888888888888,\"#fdca26\"],[1.0,\"#f0f921\"]],\"sequentialminus\":[[0.0,\"#0d0887\"],[0.1111111111111111,\"#46039f\"],[0.2222222222222222,\"#7201a8\"],[0.3333333333333333,\"#9c179e\"],[0.4444444444444444,\"#bd3786\"],[0.5555555555555556,\"#d8576b\"],[0.6666666666666666,\"#ed7953\"],[0.7777777777777778,\"#fb9f3a\"],[0.8888888888888888,\"#fdca26\"],[1.0,\"#f0f921\"]],\"diverging\":[[0,\"#8e0152\"],[0.1,\"#c51b7d\"],[0.2,\"#de77ae\"],[0.3,\"#f1b6da\"],[0.4,\"#fde0ef\"],[0.5,\"#f7f7f7\"],[0.6,\"#e6f5d0\"],[0.7,\"#b8e186\"],[0.8,\"#7fbc41\"],[0.9,\"#4d9221\"],[1,\"#276419\"]]},\"xaxis\":{\"gridcolor\":\"white\",\"linecolor\":\"white\",\"ticks\":\"\",\"title\":{\"standoff\":15},\"zerolinecolor\":\"white\",\"automargin\":true,\"zerolinewidth\":2},\"yaxis\":{\"gridcolor\":\"white\",\"linecolor\":\"white\",\"ticks\":\"\",\"title\":{\"standoff\":15},\"zerolinecolor\":\"white\",\"automargin\":true,\"zerolinewidth\":2},\"scene\":{\"xaxis\":{\"backgroundcolor\":\"#E5ECF6\",\"gridcolor\":\"white\",\"linecolor\":\"white\",\"showbackground\":true,\"ticks\":\"\",\"zerolinecolor\":\"white\",\"gridwidth\":2},\"yaxis\":{\"backgroundcolor\":\"#E5ECF6\",\"gridcolor\":\"white\",\"linecolor\":\"white\",\"showbackground\":true,\"ticks\":\"\",\"zerolinecolor\":\"white\",\"gridwidth\":2},\"zaxis\":{\"backgroundcolor\":\"#E5ECF6\",\"gridcolor\":\"white\",\"linecolor\":\"white\",\"showbackground\":true,\"ticks\":\"\",\"zerolinecolor\":\"white\",\"gridwidth\":2}},\"shapedefaults\":{\"line\":{\"color\":\"#2a3f5f\"}},\"annotationdefaults\":{\"arrowcolor\":\"#2a3f5f\",\"arrowhead\":0,\"arrowwidth\":1},\"geo\":{\"bgcolor\":\"white\",\"landcolor\":\"#E5ECF6\",\"subunitcolor\":\"white\",\"showland\":true,\"showlakes\":true,\"lakecolor\":\"white\"},\"title\":{\"x\":0.05},\"mapbox\":{\"style\":\"light\"}}},\"margin\":{\"l\":65,\"r\":50,\"b\":65,\"t\":90},\"title\":{\"text\":\"Hyperparameter tuning\"},\"autosize\":false,\"width\":500,\"height\":500},                        {\"responsive\": true}                    ).then(function(){\n",
       "                            \n",
       "var gd = document.getElementById('7b139dfc-cb03-49a5-9567-c4d916c6de2b');\n",
       "var x = new MutationObserver(function (mutations, observer) {{\n",
       "        var display = window.getComputedStyle(gd).display;\n",
       "        if (!display || display === 'none') {{\n",
       "            console.log([gd, 'removed!']);\n",
       "            Plotly.purge(gd);\n",
       "            observer.disconnect();\n",
       "        }}\n",
       "}});\n",
       "\n",
       "// Listen for the removal of the full notebook cells\n",
       "var notebookContainer = gd.closest('#notebook-container');\n",
       "if (notebookContainer) {{\n",
       "    x.observe(notebookContainer, {childList: true});\n",
       "}}\n",
       "\n",
       "// Listen for the clearing of the current output cell\n",
       "var outputEl = gd.closest('.output');\n",
       "if (outputEl) {{\n",
       "    x.observe(outputEl, {childList: true});\n",
       "}}\n",
       "\n",
       "                        })                };                });            </script>        </div>"
      ]
     },
     "metadata": {},
     "output_type": "display_data"
    }
   ],
   "source": [
    "import plotly.graph_objects as go\n",
    "layout = go.Layout(\n",
    "            xaxis = go.layout.XAxis(\n",
    "                title = go.layout.xaxis.Title(\n",
    "                text = \"feature_fraction\")\n",
    "            ), \n",
    "            yaxis = go.layout.YAxis(\n",
    "                title = go.layout.yaxis.Title(\n",
    "            text = \"n_estimators\")\n",
    "            ))\n",
    "fig = go.Figure(data = [go.Contour(z = z, x =x, y =y)], layout = layout)\n",
    "fig.update_layout(title=\"Hyperparameter tuning\", autosize=False, width=500, height=500, margin=dict(l=65, r=50, b=65, t=90))\n",
    "\n",
    "\n",
    "fig.show()"
   ]
  },
  {
   "cell_type": "code",
   "execution_count": 518,
   "id": "b762b614",
   "metadata": {},
   "outputs": [
    {
     "data": {
      "application/vnd.plotly.v1+json": {
       "config": {
        "plotlyServerURL": "https://plot.ly"
       },
       "data": [
        {
         "type": "surface",
         "x": [
          10,
          20,
          30,
          40,
          50,
          60,
          70,
          80,
          90,
          100,
          110,
          120,
          130,
          140,
          150,
          160,
          170,
          180,
          190,
          200,
          210
         ],
         "y": [
          0.1,
          0.2,
          0.30000000000000004,
          0.4,
          0.5,
          0.6,
          0.7000000000000001,
          0.8,
          0.9,
          1
         ],
         "z": [
          [
           0.6175818792415703,
           0.6190827037889391,
           0.6224000348520379,
           0.6241640207052159,
           0.6252170644949162,
           0.6272969922511055,
           0.627033775492571,
           0.6277182215506897,
           0.6286134399522885,
           0.6286397626678806,
           0.6282975500362071,
           0.6286660784518819,
           0.6283238727517992,
           0.6286134780760372,
           0.6293506319496561,
           0.6294032981756122,
           0.6304037866448072,
           0.6309566780434865,
           0.6307197146846372,
           0.6306143960959063,
           0.6306143649037482
          ],
          [
           0.6192141232823605,
           0.6253223969468285,
           0.6269811161982055,
           0.6260068811286958,
           0.6277708947082365,
           0.6285081664188968,
           0.629666629305393,
           0.6308776613755755,
           0.6300351299947049,
           0.629297986518472,
           0.6290610751465529,
           0.62961394575046,
           0.6292979622579047,
           0.6297192400786236,
           0.6293506180864747,
           0.629008350002076,
           0.6292189386584031,
           0.6281395270977714,
           0.628271196128457,
           0.6283765285803694,
           0.6282185506972731
          ],
          [
           0.6210046086066927,
           0.6257173243255927,
           0.6278499009787615,
           0.6279289904283744,
           0.6278763103392369,
           0.6293769962547923,
           0.6297192920655538,
           0.6297193197919164,
           0.6294297491256318,
           0.6286925397992874,
           0.6292981320818762,
           0.6286925744572409,
           0.6284819268823931,
           0.6287714975486777,
           0.6288241325824757,
           0.6286398527785593,
           0.6275603892309974,
           0.6269284984933841,
           0.6274023628267665,
           0.6269548038799995,
           0.6269021757777921
          ],
          [
           0.623505803786215,
           0.628244863015479,
           0.6287451817646763,
           0.6286661443019933,
           0.6301668579439114,
           0.6302721765326422,
           0.6293506700734048,
           0.6290610439543949,
           0.6286924878123574,
           0.6279289557704211,
           0.6291927545746245,
           0.6296139492162555,
           0.629561300319276,
           0.6296665946474395,
           0.6284818402375095,
           0.627770960558348,
           0.6278236129211228,
           0.6275866772886363,
           0.6273496376822896,
           0.6267178231921735,
           0.6269547657562506
          ],
          [
           0.6259543639319392,
           0.6272971204855329,
           0.627771043737436,
           0.6282186130815891,
           0.6291400571565104,
           0.6290610439543949,
           0.6289293506631417,
           0.6279552334306737,
           0.6285870652497664,
           0.6284291046956467,
           0.6275866426306829,
           0.627455011723746,
           0.6282712273206151,
           0.6272707943041457,
           0.6274024217452873,
           0.6279816150647866,
           0.6277446690349139,
           0.627639350446183,
           0.6275340318574522,
           0.6273497069981963,
           0.627639308856639
          ],
          [
           0.6255858528452413,
           0.6269021272566573,
           0.6280079897673085,
           0.6279025602731269,
           0.6284027889116452,
           0.6277183081955732,
           0.6268757594857259,
           0.6272181488729615,
           0.6270602091136139,
           0.6276657563408632,
           0.6274815007975142,
           0.6274289038874648,
           0.6270602368399765,
           0.6271655554287074,
           0.6270076191351551,
           0.6261387442439205,
           0.6255595647876027,
           0.6257174768205875,
           0.62566479673145,
           0.6249276081998777,
           0.62534886869162
          ],
          [
           0.6236901529060381,
           0.6250855063696813,
           0.6292980558343787,
           0.6283765216487787,
           0.6268495026202453,
           0.6267441528393564,
           0.6272707284540342,
           0.6283237965043018,
           0.6277709328319853,
           0.6275077160734507,
           0.6272971031565564,
           0.6278500014868262,
           0.6278236718396435,
           0.6270601432635023,
           0.626559935419756,
           0.6264809915335472,
           0.626691639108395,
           0.6264546376257971,
           0.6262176881301292,
           0.6260334291209848,
           0.6259017635560946
          ],
          [
           0.6235056686201969,
           0.6266915108739675,
           0.6275339382809781,
           0.6276392083485742,
           0.6274549146814763,
           0.627533969473136,
           0.6270337373688223,
           0.6265334844697363,
           0.626928394519524,
           0.6270600635502096,
           0.6272970338406496,
           0.6274286924739492,
           0.6273760886323092,
           0.6273234501327158,
           0.6270338413426824,
           0.6276920547958879,
           0.6272707908383502,
           0.6278499980210308,
           0.6274550671764713,
           0.6269285019591794,
           0.6263756244236816
          ],
          [
           0.6230845259654961,
           0.6257964103094102,
           0.6266125219324193,
           0.6290873736015776,
           0.6290347247045981,
           0.6293770170495643,
           0.6283238554228225,
           0.6278499252393287,
           0.6274023766899478,
           0.6277183324561405,
           0.6278236475790762,
           0.6271654341258707,
           0.6264018986181389,
           0.6268758669253813,
           0.626375659081635,
           0.6263757041369743,
           0.626375711068565,
           0.6255858736400132,
           0.6252962093972545,
           0.6250066525941513,
           0.6247696753721208
          ],
          [
           0.6210045150302186,
           0.6256647932656547,
           0.628350160809438,
           0.6279025256151736,
           0.625875354195619,
           0.6261123279518543,
           0.626559945817142,
           0.6260069885683514,
           0.6255067287376749,
           0.6254277813856708,
           0.6252172169899111,
           0.6254541699513742,
           0.626086074552169,
           0.625401503725418,
           0.6249802778916291,
           0.6253751775440306,
           0.6249802085757223,
           0.6253751359544866,
           0.6260859359203554,
           0.6257436747675473,
           0.6259806589211686
          ]
         ]
        }
       ],
       "layout": {
        "autosize": false,
        "height": 1000,
        "margin": {
         "b": 65,
         "l": 65,
         "r": 50,
         "t": 90
        },
        "scene": {
         "xaxis": {
          "title": {
           "text": "feature_fraction"
          }
         },
         "yaxis": {
          "title": {
           "text": "max_features"
          }
         },
         "zaxis": {
          "title": {
           "text": "Accuracy"
          }
         }
        },
        "template": {
         "data": {
          "bar": [
           {
            "error_x": {
             "color": "#2a3f5f"
            },
            "error_y": {
             "color": "#2a3f5f"
            },
            "marker": {
             "line": {
              "color": "#E5ECF6",
              "width": 0.5
             },
             "pattern": {
              "fillmode": "overlay",
              "size": 10,
              "solidity": 0.2
             }
            },
            "type": "bar"
           }
          ],
          "barpolar": [
           {
            "marker": {
             "line": {
              "color": "#E5ECF6",
              "width": 0.5
             },
             "pattern": {
              "fillmode": "overlay",
              "size": 10,
              "solidity": 0.2
             }
            },
            "type": "barpolar"
           }
          ],
          "carpet": [
           {
            "aaxis": {
             "endlinecolor": "#2a3f5f",
             "gridcolor": "white",
             "linecolor": "white",
             "minorgridcolor": "white",
             "startlinecolor": "#2a3f5f"
            },
            "baxis": {
             "endlinecolor": "#2a3f5f",
             "gridcolor": "white",
             "linecolor": "white",
             "minorgridcolor": "white",
             "startlinecolor": "#2a3f5f"
            },
            "type": "carpet"
           }
          ],
          "choropleth": [
           {
            "colorbar": {
             "outlinewidth": 0,
             "ticks": ""
            },
            "type": "choropleth"
           }
          ],
          "contour": [
           {
            "colorbar": {
             "outlinewidth": 0,
             "ticks": ""
            },
            "colorscale": [
             [
              0,
              "#0d0887"
             ],
             [
              0.1111111111111111,
              "#46039f"
             ],
             [
              0.2222222222222222,
              "#7201a8"
             ],
             [
              0.3333333333333333,
              "#9c179e"
             ],
             [
              0.4444444444444444,
              "#bd3786"
             ],
             [
              0.5555555555555556,
              "#d8576b"
             ],
             [
              0.6666666666666666,
              "#ed7953"
             ],
             [
              0.7777777777777778,
              "#fb9f3a"
             ],
             [
              0.8888888888888888,
              "#fdca26"
             ],
             [
              1,
              "#f0f921"
             ]
            ],
            "type": "contour"
           }
          ],
          "contourcarpet": [
           {
            "colorbar": {
             "outlinewidth": 0,
             "ticks": ""
            },
            "type": "contourcarpet"
           }
          ],
          "heatmap": [
           {
            "colorbar": {
             "outlinewidth": 0,
             "ticks": ""
            },
            "colorscale": [
             [
              0,
              "#0d0887"
             ],
             [
              0.1111111111111111,
              "#46039f"
             ],
             [
              0.2222222222222222,
              "#7201a8"
             ],
             [
              0.3333333333333333,
              "#9c179e"
             ],
             [
              0.4444444444444444,
              "#bd3786"
             ],
             [
              0.5555555555555556,
              "#d8576b"
             ],
             [
              0.6666666666666666,
              "#ed7953"
             ],
             [
              0.7777777777777778,
              "#fb9f3a"
             ],
             [
              0.8888888888888888,
              "#fdca26"
             ],
             [
              1,
              "#f0f921"
             ]
            ],
            "type": "heatmap"
           }
          ],
          "heatmapgl": [
           {
            "colorbar": {
             "outlinewidth": 0,
             "ticks": ""
            },
            "colorscale": [
             [
              0,
              "#0d0887"
             ],
             [
              0.1111111111111111,
              "#46039f"
             ],
             [
              0.2222222222222222,
              "#7201a8"
             ],
             [
              0.3333333333333333,
              "#9c179e"
             ],
             [
              0.4444444444444444,
              "#bd3786"
             ],
             [
              0.5555555555555556,
              "#d8576b"
             ],
             [
              0.6666666666666666,
              "#ed7953"
             ],
             [
              0.7777777777777778,
              "#fb9f3a"
             ],
             [
              0.8888888888888888,
              "#fdca26"
             ],
             [
              1,
              "#f0f921"
             ]
            ],
            "type": "heatmapgl"
           }
          ],
          "histogram": [
           {
            "marker": {
             "pattern": {
              "fillmode": "overlay",
              "size": 10,
              "solidity": 0.2
             }
            },
            "type": "histogram"
           }
          ],
          "histogram2d": [
           {
            "colorbar": {
             "outlinewidth": 0,
             "ticks": ""
            },
            "colorscale": [
             [
              0,
              "#0d0887"
             ],
             [
              0.1111111111111111,
              "#46039f"
             ],
             [
              0.2222222222222222,
              "#7201a8"
             ],
             [
              0.3333333333333333,
              "#9c179e"
             ],
             [
              0.4444444444444444,
              "#bd3786"
             ],
             [
              0.5555555555555556,
              "#d8576b"
             ],
             [
              0.6666666666666666,
              "#ed7953"
             ],
             [
              0.7777777777777778,
              "#fb9f3a"
             ],
             [
              0.8888888888888888,
              "#fdca26"
             ],
             [
              1,
              "#f0f921"
             ]
            ],
            "type": "histogram2d"
           }
          ],
          "histogram2dcontour": [
           {
            "colorbar": {
             "outlinewidth": 0,
             "ticks": ""
            },
            "colorscale": [
             [
              0,
              "#0d0887"
             ],
             [
              0.1111111111111111,
              "#46039f"
             ],
             [
              0.2222222222222222,
              "#7201a8"
             ],
             [
              0.3333333333333333,
              "#9c179e"
             ],
             [
              0.4444444444444444,
              "#bd3786"
             ],
             [
              0.5555555555555556,
              "#d8576b"
             ],
             [
              0.6666666666666666,
              "#ed7953"
             ],
             [
              0.7777777777777778,
              "#fb9f3a"
             ],
             [
              0.8888888888888888,
              "#fdca26"
             ],
             [
              1,
              "#f0f921"
             ]
            ],
            "type": "histogram2dcontour"
           }
          ],
          "mesh3d": [
           {
            "colorbar": {
             "outlinewidth": 0,
             "ticks": ""
            },
            "type": "mesh3d"
           }
          ],
          "parcoords": [
           {
            "line": {
             "colorbar": {
              "outlinewidth": 0,
              "ticks": ""
             }
            },
            "type": "parcoords"
           }
          ],
          "pie": [
           {
            "automargin": true,
            "type": "pie"
           }
          ],
          "scatter": [
           {
            "fillpattern": {
             "fillmode": "overlay",
             "size": 10,
             "solidity": 0.2
            },
            "type": "scatter"
           }
          ],
          "scatter3d": [
           {
            "line": {
             "colorbar": {
              "outlinewidth": 0,
              "ticks": ""
             }
            },
            "marker": {
             "colorbar": {
              "outlinewidth": 0,
              "ticks": ""
             }
            },
            "type": "scatter3d"
           }
          ],
          "scattercarpet": [
           {
            "marker": {
             "colorbar": {
              "outlinewidth": 0,
              "ticks": ""
             }
            },
            "type": "scattercarpet"
           }
          ],
          "scattergeo": [
           {
            "marker": {
             "colorbar": {
              "outlinewidth": 0,
              "ticks": ""
             }
            },
            "type": "scattergeo"
           }
          ],
          "scattergl": [
           {
            "marker": {
             "colorbar": {
              "outlinewidth": 0,
              "ticks": ""
             }
            },
            "type": "scattergl"
           }
          ],
          "scattermapbox": [
           {
            "marker": {
             "colorbar": {
              "outlinewidth": 0,
              "ticks": ""
             }
            },
            "type": "scattermapbox"
           }
          ],
          "scatterpolar": [
           {
            "marker": {
             "colorbar": {
              "outlinewidth": 0,
              "ticks": ""
             }
            },
            "type": "scatterpolar"
           }
          ],
          "scatterpolargl": [
           {
            "marker": {
             "colorbar": {
              "outlinewidth": 0,
              "ticks": ""
             }
            },
            "type": "scatterpolargl"
           }
          ],
          "scatterternary": [
           {
            "marker": {
             "colorbar": {
              "outlinewidth": 0,
              "ticks": ""
             }
            },
            "type": "scatterternary"
           }
          ],
          "surface": [
           {
            "colorbar": {
             "outlinewidth": 0,
             "ticks": ""
            },
            "colorscale": [
             [
              0,
              "#0d0887"
             ],
             [
              0.1111111111111111,
              "#46039f"
             ],
             [
              0.2222222222222222,
              "#7201a8"
             ],
             [
              0.3333333333333333,
              "#9c179e"
             ],
             [
              0.4444444444444444,
              "#bd3786"
             ],
             [
              0.5555555555555556,
              "#d8576b"
             ],
             [
              0.6666666666666666,
              "#ed7953"
             ],
             [
              0.7777777777777778,
              "#fb9f3a"
             ],
             [
              0.8888888888888888,
              "#fdca26"
             ],
             [
              1,
              "#f0f921"
             ]
            ],
            "type": "surface"
           }
          ],
          "table": [
           {
            "cells": {
             "fill": {
              "color": "#EBF0F8"
             },
             "line": {
              "color": "white"
             }
            },
            "header": {
             "fill": {
              "color": "#C8D4E3"
             },
             "line": {
              "color": "white"
             }
            },
            "type": "table"
           }
          ]
         },
         "layout": {
          "annotationdefaults": {
           "arrowcolor": "#2a3f5f",
           "arrowhead": 0,
           "arrowwidth": 1
          },
          "autotypenumbers": "strict",
          "coloraxis": {
           "colorbar": {
            "outlinewidth": 0,
            "ticks": ""
           }
          },
          "colorscale": {
           "diverging": [
            [
             0,
             "#8e0152"
            ],
            [
             0.1,
             "#c51b7d"
            ],
            [
             0.2,
             "#de77ae"
            ],
            [
             0.3,
             "#f1b6da"
            ],
            [
             0.4,
             "#fde0ef"
            ],
            [
             0.5,
             "#f7f7f7"
            ],
            [
             0.6,
             "#e6f5d0"
            ],
            [
             0.7,
             "#b8e186"
            ],
            [
             0.8,
             "#7fbc41"
            ],
            [
             0.9,
             "#4d9221"
            ],
            [
             1,
             "#276419"
            ]
           ],
           "sequential": [
            [
             0,
             "#0d0887"
            ],
            [
             0.1111111111111111,
             "#46039f"
            ],
            [
             0.2222222222222222,
             "#7201a8"
            ],
            [
             0.3333333333333333,
             "#9c179e"
            ],
            [
             0.4444444444444444,
             "#bd3786"
            ],
            [
             0.5555555555555556,
             "#d8576b"
            ],
            [
             0.6666666666666666,
             "#ed7953"
            ],
            [
             0.7777777777777778,
             "#fb9f3a"
            ],
            [
             0.8888888888888888,
             "#fdca26"
            ],
            [
             1,
             "#f0f921"
            ]
           ],
           "sequentialminus": [
            [
             0,
             "#0d0887"
            ],
            [
             0.1111111111111111,
             "#46039f"
            ],
            [
             0.2222222222222222,
             "#7201a8"
            ],
            [
             0.3333333333333333,
             "#9c179e"
            ],
            [
             0.4444444444444444,
             "#bd3786"
            ],
            [
             0.5555555555555556,
             "#d8576b"
            ],
            [
             0.6666666666666666,
             "#ed7953"
            ],
            [
             0.7777777777777778,
             "#fb9f3a"
            ],
            [
             0.8888888888888888,
             "#fdca26"
            ],
            [
             1,
             "#f0f921"
            ]
           ]
          },
          "colorway": [
           "#636efa",
           "#EF553B",
           "#00cc96",
           "#ab63fa",
           "#FFA15A",
           "#19d3f3",
           "#FF6692",
           "#B6E880",
           "#FF97FF",
           "#FECB52"
          ],
          "font": {
           "color": "#2a3f5f"
          },
          "geo": {
           "bgcolor": "white",
           "lakecolor": "white",
           "landcolor": "#E5ECF6",
           "showlakes": true,
           "showland": true,
           "subunitcolor": "white"
          },
          "hoverlabel": {
           "align": "left"
          },
          "hovermode": "closest",
          "mapbox": {
           "style": "light"
          },
          "paper_bgcolor": "white",
          "plot_bgcolor": "#E5ECF6",
          "polar": {
           "angularaxis": {
            "gridcolor": "white",
            "linecolor": "white",
            "ticks": ""
           },
           "bgcolor": "#E5ECF6",
           "radialaxis": {
            "gridcolor": "white",
            "linecolor": "white",
            "ticks": ""
           }
          },
          "scene": {
           "xaxis": {
            "backgroundcolor": "#E5ECF6",
            "gridcolor": "white",
            "gridwidth": 2,
            "linecolor": "white",
            "showbackground": true,
            "ticks": "",
            "zerolinecolor": "white"
           },
           "yaxis": {
            "backgroundcolor": "#E5ECF6",
            "gridcolor": "white",
            "gridwidth": 2,
            "linecolor": "white",
            "showbackground": true,
            "ticks": "",
            "zerolinecolor": "white"
           },
           "zaxis": {
            "backgroundcolor": "#E5ECF6",
            "gridcolor": "white",
            "gridwidth": 2,
            "linecolor": "white",
            "showbackground": true,
            "ticks": "",
            "zerolinecolor": "white"
           }
          },
          "shapedefaults": {
           "line": {
            "color": "#2a3f5f"
           }
          },
          "ternary": {
           "aaxis": {
            "gridcolor": "white",
            "linecolor": "white",
            "ticks": ""
           },
           "baxis": {
            "gridcolor": "white",
            "linecolor": "white",
            "ticks": ""
           },
           "bgcolor": "#E5ECF6",
           "caxis": {
            "gridcolor": "white",
            "linecolor": "white",
            "ticks": ""
           }
          },
          "title": {
           "x": 0.05
          },
          "xaxis": {
           "automargin": true,
           "gridcolor": "white",
           "linecolor": "white",
           "ticks": "",
           "title": {
            "standoff": 15
           },
           "zerolinecolor": "white",
           "zerolinewidth": 2
          },
          "yaxis": {
           "automargin": true,
           "gridcolor": "white",
           "linecolor": "white",
           "ticks": "",
           "title": {
            "standoff": 15
           },
           "zerolinecolor": "white",
           "zerolinewidth": 2
          }
         }
        },
        "title": {
         "text": "Hyperparameter tuning"
        },
        "width": 1000,
        "xaxis": {
         "title": {
          "text": "feature_fraction"
         }
        },
        "yaxis": {
         "title": {
          "text": "n_estimators"
         }
        }
       }
      },
      "text/html": [
       "<div>                            <div id=\"d52e00bd-8398-449a-8f80-d15f9d880b4e\" class=\"plotly-graph-div\" style=\"height:1000px; width:1000px;\"></div>            <script type=\"text/javascript\">                require([\"plotly\"], function(Plotly) {                    window.PLOTLYENV=window.PLOTLYENV || {};                                    if (document.getElementById(\"d52e00bd-8398-449a-8f80-d15f9d880b4e\")) {                    Plotly.newPlot(                        \"d52e00bd-8398-449a-8f80-d15f9d880b4e\",                        [{\"x\":[10,20,30,40,50,60,70,80,90,100,110,120,130,140,150,160,170,180,190,200,210],\"y\":[0.1,0.2,0.30000000000000004,0.4,0.5,0.6,0.7000000000000001,0.8,0.9,1.0],\"z\":[[0.6175818792415703,0.6190827037889391,0.6224000348520379,0.6241640207052159,0.6252170644949162,0.6272969922511055,0.627033775492571,0.6277182215506897,0.6286134399522885,0.6286397626678806,0.6282975500362071,0.6286660784518819,0.6283238727517992,0.6286134780760372,0.6293506319496561,0.6294032981756122,0.6304037866448072,0.6309566780434865,0.6307197146846372,0.6306143960959063,0.6306143649037482],[0.6192141232823605,0.6253223969468285,0.6269811161982055,0.6260068811286958,0.6277708947082365,0.6285081664188968,0.629666629305393,0.6308776613755755,0.6300351299947049,0.629297986518472,0.6290610751465529,0.62961394575046,0.6292979622579047,0.6297192400786236,0.6293506180864747,0.629008350002076,0.6292189386584031,0.6281395270977714,0.628271196128457,0.6283765285803694,0.6282185506972731],[0.6210046086066927,0.6257173243255927,0.6278499009787615,0.6279289904283744,0.6278763103392369,0.6293769962547923,0.6297192920655538,0.6297193197919164,0.6294297491256318,0.6286925397992874,0.6292981320818762,0.6286925744572409,0.6284819268823931,0.6287714975486777,0.6288241325824757,0.6286398527785593,0.6275603892309974,0.6269284984933841,0.6274023628267665,0.6269548038799995,0.6269021757777921],[0.623505803786215,0.628244863015479,0.6287451817646763,0.6286661443019933,0.6301668579439114,0.6302721765326422,0.6293506700734048,0.6290610439543949,0.6286924878123574,0.6279289557704211,0.6291927545746245,0.6296139492162555,0.629561300319276,0.6296665946474395,0.6284818402375095,0.627770960558348,0.6278236129211228,0.6275866772886363,0.6273496376822896,0.6267178231921735,0.6269547657562506],[0.6259543639319392,0.6272971204855329,0.627771043737436,0.6282186130815891,0.6291400571565104,0.6290610439543949,0.6289293506631417,0.6279552334306737,0.6285870652497664,0.6284291046956467,0.6275866426306829,0.627455011723746,0.6282712273206151,0.6272707943041457,0.6274024217452873,0.6279816150647866,0.6277446690349139,0.627639350446183,0.6275340318574522,0.6273497069981963,0.627639308856639],[0.6255858528452413,0.6269021272566573,0.6280079897673085,0.6279025602731269,0.6284027889116452,0.6277183081955732,0.6268757594857259,0.6272181488729615,0.6270602091136139,0.6276657563408632,0.6274815007975142,0.6274289038874648,0.6270602368399765,0.6271655554287074,0.6270076191351551,0.6261387442439205,0.6255595647876027,0.6257174768205875,0.62566479673145,0.6249276081998777,0.62534886869162],[0.6236901529060381,0.6250855063696813,0.6292980558343787,0.6283765216487787,0.6268495026202453,0.6267441528393564,0.6272707284540342,0.6283237965043018,0.6277709328319853,0.6275077160734507,0.6272971031565564,0.6278500014868262,0.6278236718396435,0.6270601432635023,0.626559935419756,0.6264809915335472,0.626691639108395,0.6264546376257971,0.6262176881301292,0.6260334291209848,0.6259017635560946],[0.6235056686201969,0.6266915108739675,0.6275339382809781,0.6276392083485742,0.6274549146814763,0.627533969473136,0.6270337373688223,0.6265334844697363,0.626928394519524,0.6270600635502096,0.6272970338406496,0.6274286924739492,0.6273760886323092,0.6273234501327158,0.6270338413426824,0.6276920547958879,0.6272707908383502,0.6278499980210308,0.6274550671764713,0.6269285019591794,0.6263756244236816],[0.6230845259654961,0.6257964103094102,0.6266125219324193,0.6290873736015776,0.6290347247045981,0.6293770170495643,0.6283238554228225,0.6278499252393287,0.6274023766899478,0.6277183324561405,0.6278236475790762,0.6271654341258707,0.6264018986181389,0.6268758669253813,0.626375659081635,0.6263757041369743,0.626375711068565,0.6255858736400132,0.6252962093972545,0.6250066525941513,0.6247696753721208],[0.6210045150302186,0.6256647932656547,0.628350160809438,0.6279025256151736,0.625875354195619,0.6261123279518543,0.626559945817142,0.6260069885683514,0.6255067287376749,0.6254277813856708,0.6252172169899111,0.6254541699513742,0.626086074552169,0.625401503725418,0.6249802778916291,0.6253751775440306,0.6249802085757223,0.6253751359544866,0.6260859359203554,0.6257436747675473,0.6259806589211686]],\"type\":\"surface\"}],                        {\"xaxis\":{\"title\":{\"text\":\"feature_fraction\"}},\"yaxis\":{\"title\":{\"text\":\"n_estimators\"}},\"template\":{\"data\":{\"histogram2dcontour\":[{\"type\":\"histogram2dcontour\",\"colorbar\":{\"outlinewidth\":0,\"ticks\":\"\"},\"colorscale\":[[0.0,\"#0d0887\"],[0.1111111111111111,\"#46039f\"],[0.2222222222222222,\"#7201a8\"],[0.3333333333333333,\"#9c179e\"],[0.4444444444444444,\"#bd3786\"],[0.5555555555555556,\"#d8576b\"],[0.6666666666666666,\"#ed7953\"],[0.7777777777777778,\"#fb9f3a\"],[0.8888888888888888,\"#fdca26\"],[1.0,\"#f0f921\"]]}],\"choropleth\":[{\"type\":\"choropleth\",\"colorbar\":{\"outlinewidth\":0,\"ticks\":\"\"}}],\"histogram2d\":[{\"type\":\"histogram2d\",\"colorbar\":{\"outlinewidth\":0,\"ticks\":\"\"},\"colorscale\":[[0.0,\"#0d0887\"],[0.1111111111111111,\"#46039f\"],[0.2222222222222222,\"#7201a8\"],[0.3333333333333333,\"#9c179e\"],[0.4444444444444444,\"#bd3786\"],[0.5555555555555556,\"#d8576b\"],[0.6666666666666666,\"#ed7953\"],[0.7777777777777778,\"#fb9f3a\"],[0.8888888888888888,\"#fdca26\"],[1.0,\"#f0f921\"]]}],\"heatmap\":[{\"type\":\"heatmap\",\"colorbar\":{\"outlinewidth\":0,\"ticks\":\"\"},\"colorscale\":[[0.0,\"#0d0887\"],[0.1111111111111111,\"#46039f\"],[0.2222222222222222,\"#7201a8\"],[0.3333333333333333,\"#9c179e\"],[0.4444444444444444,\"#bd3786\"],[0.5555555555555556,\"#d8576b\"],[0.6666666666666666,\"#ed7953\"],[0.7777777777777778,\"#fb9f3a\"],[0.8888888888888888,\"#fdca26\"],[1.0,\"#f0f921\"]]}],\"heatmapgl\":[{\"type\":\"heatmapgl\",\"colorbar\":{\"outlinewidth\":0,\"ticks\":\"\"},\"colorscale\":[[0.0,\"#0d0887\"],[0.1111111111111111,\"#46039f\"],[0.2222222222222222,\"#7201a8\"],[0.3333333333333333,\"#9c179e\"],[0.4444444444444444,\"#bd3786\"],[0.5555555555555556,\"#d8576b\"],[0.6666666666666666,\"#ed7953\"],[0.7777777777777778,\"#fb9f3a\"],[0.8888888888888888,\"#fdca26\"],[1.0,\"#f0f921\"]]}],\"contourcarpet\":[{\"type\":\"contourcarpet\",\"colorbar\":{\"outlinewidth\":0,\"ticks\":\"\"}}],\"contour\":[{\"type\":\"contour\",\"colorbar\":{\"outlinewidth\":0,\"ticks\":\"\"},\"colorscale\":[[0.0,\"#0d0887\"],[0.1111111111111111,\"#46039f\"],[0.2222222222222222,\"#7201a8\"],[0.3333333333333333,\"#9c179e\"],[0.4444444444444444,\"#bd3786\"],[0.5555555555555556,\"#d8576b\"],[0.6666666666666666,\"#ed7953\"],[0.7777777777777778,\"#fb9f3a\"],[0.8888888888888888,\"#fdca26\"],[1.0,\"#f0f921\"]]}],\"surface\":[{\"type\":\"surface\",\"colorbar\":{\"outlinewidth\":0,\"ticks\":\"\"},\"colorscale\":[[0.0,\"#0d0887\"],[0.1111111111111111,\"#46039f\"],[0.2222222222222222,\"#7201a8\"],[0.3333333333333333,\"#9c179e\"],[0.4444444444444444,\"#bd3786\"],[0.5555555555555556,\"#d8576b\"],[0.6666666666666666,\"#ed7953\"],[0.7777777777777778,\"#fb9f3a\"],[0.8888888888888888,\"#fdca26\"],[1.0,\"#f0f921\"]]}],\"mesh3d\":[{\"type\":\"mesh3d\",\"colorbar\":{\"outlinewidth\":0,\"ticks\":\"\"}}],\"scatter\":[{\"fillpattern\":{\"fillmode\":\"overlay\",\"size\":10,\"solidity\":0.2},\"type\":\"scatter\"}],\"parcoords\":[{\"type\":\"parcoords\",\"line\":{\"colorbar\":{\"outlinewidth\":0,\"ticks\":\"\"}}}],\"scatterpolargl\":[{\"type\":\"scatterpolargl\",\"marker\":{\"colorbar\":{\"outlinewidth\":0,\"ticks\":\"\"}}}],\"bar\":[{\"error_x\":{\"color\":\"#2a3f5f\"},\"error_y\":{\"color\":\"#2a3f5f\"},\"marker\":{\"line\":{\"color\":\"#E5ECF6\",\"width\":0.5},\"pattern\":{\"fillmode\":\"overlay\",\"size\":10,\"solidity\":0.2}},\"type\":\"bar\"}],\"scattergeo\":[{\"type\":\"scattergeo\",\"marker\":{\"colorbar\":{\"outlinewidth\":0,\"ticks\":\"\"}}}],\"scatterpolar\":[{\"type\":\"scatterpolar\",\"marker\":{\"colorbar\":{\"outlinewidth\":0,\"ticks\":\"\"}}}],\"histogram\":[{\"marker\":{\"pattern\":{\"fillmode\":\"overlay\",\"size\":10,\"solidity\":0.2}},\"type\":\"histogram\"}],\"scattergl\":[{\"type\":\"scattergl\",\"marker\":{\"colorbar\":{\"outlinewidth\":0,\"ticks\":\"\"}}}],\"scatter3d\":[{\"type\":\"scatter3d\",\"line\":{\"colorbar\":{\"outlinewidth\":0,\"ticks\":\"\"}},\"marker\":{\"colorbar\":{\"outlinewidth\":0,\"ticks\":\"\"}}}],\"scattermapbox\":[{\"type\":\"scattermapbox\",\"marker\":{\"colorbar\":{\"outlinewidth\":0,\"ticks\":\"\"}}}],\"scatterternary\":[{\"type\":\"scatterternary\",\"marker\":{\"colorbar\":{\"outlinewidth\":0,\"ticks\":\"\"}}}],\"scattercarpet\":[{\"type\":\"scattercarpet\",\"marker\":{\"colorbar\":{\"outlinewidth\":0,\"ticks\":\"\"}}}],\"carpet\":[{\"aaxis\":{\"endlinecolor\":\"#2a3f5f\",\"gridcolor\":\"white\",\"linecolor\":\"white\",\"minorgridcolor\":\"white\",\"startlinecolor\":\"#2a3f5f\"},\"baxis\":{\"endlinecolor\":\"#2a3f5f\",\"gridcolor\":\"white\",\"linecolor\":\"white\",\"minorgridcolor\":\"white\",\"startlinecolor\":\"#2a3f5f\"},\"type\":\"carpet\"}],\"table\":[{\"cells\":{\"fill\":{\"color\":\"#EBF0F8\"},\"line\":{\"color\":\"white\"}},\"header\":{\"fill\":{\"color\":\"#C8D4E3\"},\"line\":{\"color\":\"white\"}},\"type\":\"table\"}],\"barpolar\":[{\"marker\":{\"line\":{\"color\":\"#E5ECF6\",\"width\":0.5},\"pattern\":{\"fillmode\":\"overlay\",\"size\":10,\"solidity\":0.2}},\"type\":\"barpolar\"}],\"pie\":[{\"automargin\":true,\"type\":\"pie\"}]},\"layout\":{\"autotypenumbers\":\"strict\",\"colorway\":[\"#636efa\",\"#EF553B\",\"#00cc96\",\"#ab63fa\",\"#FFA15A\",\"#19d3f3\",\"#FF6692\",\"#B6E880\",\"#FF97FF\",\"#FECB52\"],\"font\":{\"color\":\"#2a3f5f\"},\"hovermode\":\"closest\",\"hoverlabel\":{\"align\":\"left\"},\"paper_bgcolor\":\"white\",\"plot_bgcolor\":\"#E5ECF6\",\"polar\":{\"bgcolor\":\"#E5ECF6\",\"angularaxis\":{\"gridcolor\":\"white\",\"linecolor\":\"white\",\"ticks\":\"\"},\"radialaxis\":{\"gridcolor\":\"white\",\"linecolor\":\"white\",\"ticks\":\"\"}},\"ternary\":{\"bgcolor\":\"#E5ECF6\",\"aaxis\":{\"gridcolor\":\"white\",\"linecolor\":\"white\",\"ticks\":\"\"},\"baxis\":{\"gridcolor\":\"white\",\"linecolor\":\"white\",\"ticks\":\"\"},\"caxis\":{\"gridcolor\":\"white\",\"linecolor\":\"white\",\"ticks\":\"\"}},\"coloraxis\":{\"colorbar\":{\"outlinewidth\":0,\"ticks\":\"\"}},\"colorscale\":{\"sequential\":[[0.0,\"#0d0887\"],[0.1111111111111111,\"#46039f\"],[0.2222222222222222,\"#7201a8\"],[0.3333333333333333,\"#9c179e\"],[0.4444444444444444,\"#bd3786\"],[0.5555555555555556,\"#d8576b\"],[0.6666666666666666,\"#ed7953\"],[0.7777777777777778,\"#fb9f3a\"],[0.8888888888888888,\"#fdca26\"],[1.0,\"#f0f921\"]],\"sequentialminus\":[[0.0,\"#0d0887\"],[0.1111111111111111,\"#46039f\"],[0.2222222222222222,\"#7201a8\"],[0.3333333333333333,\"#9c179e\"],[0.4444444444444444,\"#bd3786\"],[0.5555555555555556,\"#d8576b\"],[0.6666666666666666,\"#ed7953\"],[0.7777777777777778,\"#fb9f3a\"],[0.8888888888888888,\"#fdca26\"],[1.0,\"#f0f921\"]],\"diverging\":[[0,\"#8e0152\"],[0.1,\"#c51b7d\"],[0.2,\"#de77ae\"],[0.3,\"#f1b6da\"],[0.4,\"#fde0ef\"],[0.5,\"#f7f7f7\"],[0.6,\"#e6f5d0\"],[0.7,\"#b8e186\"],[0.8,\"#7fbc41\"],[0.9,\"#4d9221\"],[1,\"#276419\"]]},\"xaxis\":{\"gridcolor\":\"white\",\"linecolor\":\"white\",\"ticks\":\"\",\"title\":{\"standoff\":15},\"zerolinecolor\":\"white\",\"automargin\":true,\"zerolinewidth\":2},\"yaxis\":{\"gridcolor\":\"white\",\"linecolor\":\"white\",\"ticks\":\"\",\"title\":{\"standoff\":15},\"zerolinecolor\":\"white\",\"automargin\":true,\"zerolinewidth\":2},\"scene\":{\"xaxis\":{\"backgroundcolor\":\"#E5ECF6\",\"gridcolor\":\"white\",\"linecolor\":\"white\",\"showbackground\":true,\"ticks\":\"\",\"zerolinecolor\":\"white\",\"gridwidth\":2},\"yaxis\":{\"backgroundcolor\":\"#E5ECF6\",\"gridcolor\":\"white\",\"linecolor\":\"white\",\"showbackground\":true,\"ticks\":\"\",\"zerolinecolor\":\"white\",\"gridwidth\":2},\"zaxis\":{\"backgroundcolor\":\"#E5ECF6\",\"gridcolor\":\"white\",\"linecolor\":\"white\",\"showbackground\":true,\"ticks\":\"\",\"zerolinecolor\":\"white\",\"gridwidth\":2}},\"shapedefaults\":{\"line\":{\"color\":\"#2a3f5f\"}},\"annotationdefaults\":{\"arrowcolor\":\"#2a3f5f\",\"arrowhead\":0,\"arrowwidth\":1},\"geo\":{\"bgcolor\":\"white\",\"landcolor\":\"#E5ECF6\",\"subunitcolor\":\"white\",\"showland\":true,\"showlakes\":true,\"lakecolor\":\"white\"},\"title\":{\"x\":0.05},\"mapbox\":{\"style\":\"light\"}}},\"margin\":{\"l\":65,\"r\":50,\"b\":65,\"t\":90},\"title\":{\"text\":\"Hyperparameter tuning\"},\"scene\":{\"xaxis\":{\"title\":{\"text\":\"feature_fraction\"}},\"yaxis\":{\"title\":{\"text\":\"max_features\"}},\"zaxis\":{\"title\":{\"text\":\"Accuracy\"}}},\"autosize\":false,\"width\":1000,\"height\":1000},                        {\"responsive\": true}                    ).then(function(){\n",
       "                            \n",
       "var gd = document.getElementById('d52e00bd-8398-449a-8f80-d15f9d880b4e');\n",
       "var x = new MutationObserver(function (mutations, observer) {{\n",
       "        var display = window.getComputedStyle(gd).display;\n",
       "        if (!display || display === 'none') {{\n",
       "            console.log([gd, 'removed!']);\n",
       "            Plotly.purge(gd);\n",
       "            observer.disconnect();\n",
       "        }}\n",
       "}});\n",
       "\n",
       "// Listen for the removal of the full notebook cells\n",
       "var notebookContainer = gd.closest('#notebook-container');\n",
       "if (notebookContainer) {{\n",
       "    x.observe(notebookContainer, {childList: true});\n",
       "}}\n",
       "\n",
       "// Listen for the clearing of the current output cell\n",
       "var outputEl = gd.closest('.output');\n",
       "if (outputEl) {{\n",
       "    x.observe(outputEl, {childList: true});\n",
       "}}\n",
       "\n",
       "                        })                };                });            </script>        </div>"
      ]
     },
     "metadata": {},
     "output_type": "display_data"
    }
   ],
   "source": [
    "#3D Surface Plot \n",
    "\n",
    "fig = go.Figure(data = [go.Surface(z = z , y = y, x = x )], layout = layout)\n",
    "fig.update_layout (title = \"Hyperparameter tuning\", \n",
    "                  scene = dict(\n",
    "                  xaxis_title = 'feature_fraction', \n",
    "                  yaxis_title = 'max_features', \n",
    "                  zaxis_title = \"Accuracy\"), \n",
    "                  autosize = False, \n",
    "                  width = 1000, height = 1000, \n",
    "                  margin = dict (l = 65, r = 50, b = 65, t = 90))\n",
    "fig.show()"
   ]
  },
  {
   "cell_type": "code",
   "execution_count": 519,
   "id": "991871a2",
   "metadata": {},
   "outputs": [],
   "source": [
    "#RandomizedSearchCV"
   ]
  },
  {
   "cell_type": "code",
   "execution_count": 587,
   "id": "88ead410",
   "metadata": {},
   "outputs": [
    {
     "name": "stderr",
     "output_type": "stream",
     "text": [
      "\n",
      "KeyboardInterrupt\n",
      "\n"
     ]
    }
   ],
   "source": [
    "from sklearn.ensemble import AdaBoostClassifier\n",
    "from sklearn.model_selection import train_test_split\n",
    "from sklearn.metrics import accuracy_score\n",
    "\n",
    "\n",
    "\n",
    "# Initialize AdaBoostClassifier with a large number of estimators\n",
    "ada = AdaBoostClassifier(n_estimators=300, random_state=42)\n",
    "\n",
    "# Train the model on the training data\n",
    "ada.fit(X_train, y_train)\n",
    "\n",
    "# Monitor performance on the validation set\n",
    "val_predictions = ada.predict(X_test)\n",
    "val_accuracy = accuracy_score(y_test, val_predictions)\n",
    "\n",
    "# Initialize variables for early stopping\n",
    "best_val_accuracy = val_accuracy\n",
    "best_estimators = 300\n",
    "tolerance = 10  # Number of consecutive iterations with no improvement to tolerate\n",
    "\n",
    "for i in range(300):\n",
    "    # Train for one more iteration\n",
    "    ada.n_estimators += 1\n",
    "    ada.fit(X_train, y_train)\n",
    "    \n",
    "    # Monitor performance on the validation set\n",
    "    val_predictions = ada.predict(X_test)\n",
    "    val_accuracy = accuracy_score(y_test, val_predictions)\n",
    "    \n",
    "    if val_accuracy > best_val_accuracy:\n",
    "        best_val_accuracy = val_accuracy\n",
    "        best_estimators = ada.n_estimators\n",
    "        tolerance = 10  # Reset tolerance if there's improvement\n",
    "    else:\n",
    "        tolerance -= 1\n",
    "    \n",
    "    if tolerance == 0:\n",
    "        break\n",
    "\n",
    "# Use the best number of estimators\n",
    "ada.n_estimators = best_estimators\n",
    "\n",
    "# Final training\n",
    "ada.fit(X_train, y_train)\n",
    "\n",
    "# Make predictions on the test set\n",
    "test_predictions = ada.predict(X_test)\n",
    "test_accuracy = accuracy_score(y_test, test_predictions)\n",
    "\n",
    "print(f\"Best Number of Estimators: {best_estimators}\")\n",
    "print(f\"Test Accuracy: {test_accuracy}\")\n"
   ]
  },
  {
   "cell_type": "code",
   "execution_count": 520,
   "id": "f4297e2c",
   "metadata": {},
   "outputs": [],
   "source": [
    "from sklearn.feature_extraction.text import CountVectorizer \n",
    "from sklearn.naive_bayes import MultinomialNB\n",
    "from sklearn.pipeline import make_pipeline"
   ]
  },
  {
   "cell_type": "code",
   "execution_count": 521,
   "id": "00abbd24",
   "metadata": {},
   "outputs": [],
   "source": [
    "pipe = make_pipeline(CountVectorizer(), MultinomialNB())"
   ]
  },
  {
   "cell_type": "code",
   "execution_count": 522,
   "id": "d4f59676",
   "metadata": {},
   "outputs": [
    {
     "name": "stdout",
     "output_type": "stream",
     "text": [
      "[LightGBM] [Warning] Found whitespace in feature_names, replace with underlines\n",
      "[LightGBM] [Info] Number of positive: 18576, number of negative: 19406\n",
      "[LightGBM] [Warning] Auto-choosing col-wise multi-threading, the overhead of testing was 0.004124 seconds.\n",
      "You can set `force_col_wise=true` to remove the overhead.\n",
      "[LightGBM] [Info] Total Bins 563\n",
      "[LightGBM] [Info] Number of data points in the train set: 37982, number of used features: 107\n",
      "[LightGBM] [Info] [binary:BoostFromScore]: pavg=0.489074 -> initscore=-0.043712\n",
      "[LightGBM] [Info] Start training from score -0.043712\n"
     ]
    },
    {
     "data": {
      "text/plain": [
       "0.6252106149957877"
      ]
     },
     "execution_count": 522,
     "metadata": {},
     "output_type": "execute_result"
    }
   ],
   "source": [
    "lgbm.fit(X_train, y_train)\n",
    "test_data_prediction = lgbm.predict(X_test)\n",
    "accuracy = accuracy_score (y_test, test_data_prediction)\n",
    "accuracy "
   ]
  },
  {
   "cell_type": "code",
   "execution_count": 523,
   "id": "35a089a2",
   "metadata": {},
   "outputs": [],
   "source": [
    "#cross validation test  "
   ]
  },
  {
   "cell_type": "code",
   "execution_count": 524,
   "id": "e1a71eab",
   "metadata": {},
   "outputs": [
    {
     "data": {
      "text/html": [
       "<div>\n",
       "<style scoped>\n",
       "    .dataframe tbody tr th:only-of-type {\n",
       "        vertical-align: middle;\n",
       "    }\n",
       "\n",
       "    .dataframe tbody tr th {\n",
       "        vertical-align: top;\n",
       "    }\n",
       "\n",
       "    .dataframe thead th {\n",
       "        text-align: right;\n",
       "    }\n",
       "</style>\n",
       "<table border=\"1\" class=\"dataframe\">\n",
       "  <thead>\n",
       "    <tr style=\"text-align: right;\">\n",
       "      <th></th>\n",
       "      <th>victim_age</th>\n",
       "      <th>reported_year</th>\n",
       "      <th>POPULATION</th>\n",
       "      <th>victim_sex_Female</th>\n",
       "      <th>victim_sex_Male</th>\n",
       "      <th>victim_race_Asian</th>\n",
       "      <th>victim_race_Black</th>\n",
       "      <th>victim_race_Hispanic</th>\n",
       "      <th>victim_race_Other</th>\n",
       "      <th>victim_race_White</th>\n",
       "      <th>...</th>\n",
       "      <th>state_NM</th>\n",
       "      <th>state_NV</th>\n",
       "      <th>state_NY</th>\n",
       "      <th>state_OH</th>\n",
       "      <th>state_OK</th>\n",
       "      <th>state_PA</th>\n",
       "      <th>state_TN</th>\n",
       "      <th>state_TX</th>\n",
       "      <th>state_VA</th>\n",
       "      <th>state_WI</th>\n",
       "    </tr>\n",
       "  </thead>\n",
       "  <tbody>\n",
       "    <tr>\n",
       "      <th>0</th>\n",
       "      <td>78</td>\n",
       "      <td>2010</td>\n",
       "      <td>545852</td>\n",
       "      <td>0</td>\n",
       "      <td>1</td>\n",
       "      <td>0</td>\n",
       "      <td>0</td>\n",
       "      <td>1</td>\n",
       "      <td>0</td>\n",
       "      <td>0</td>\n",
       "      <td>...</td>\n",
       "      <td>1</td>\n",
       "      <td>0</td>\n",
       "      <td>0</td>\n",
       "      <td>0</td>\n",
       "      <td>0</td>\n",
       "      <td>0</td>\n",
       "      <td>0</td>\n",
       "      <td>0</td>\n",
       "      <td>0</td>\n",
       "      <td>0</td>\n",
       "    </tr>\n",
       "    <tr>\n",
       "      <th>1</th>\n",
       "      <td>17</td>\n",
       "      <td>2010</td>\n",
       "      <td>545852</td>\n",
       "      <td>0</td>\n",
       "      <td>1</td>\n",
       "      <td>0</td>\n",
       "      <td>0</td>\n",
       "      <td>1</td>\n",
       "      <td>0</td>\n",
       "      <td>0</td>\n",
       "      <td>...</td>\n",
       "      <td>1</td>\n",
       "      <td>0</td>\n",
       "      <td>0</td>\n",
       "      <td>0</td>\n",
       "      <td>0</td>\n",
       "      <td>0</td>\n",
       "      <td>0</td>\n",
       "      <td>0</td>\n",
       "      <td>0</td>\n",
       "      <td>0</td>\n",
       "    </tr>\n",
       "    <tr>\n",
       "      <th>2</th>\n",
       "      <td>15</td>\n",
       "      <td>2010</td>\n",
       "      <td>545852</td>\n",
       "      <td>1</td>\n",
       "      <td>0</td>\n",
       "      <td>0</td>\n",
       "      <td>0</td>\n",
       "      <td>0</td>\n",
       "      <td>0</td>\n",
       "      <td>1</td>\n",
       "      <td>...</td>\n",
       "      <td>1</td>\n",
       "      <td>0</td>\n",
       "      <td>0</td>\n",
       "      <td>0</td>\n",
       "      <td>0</td>\n",
       "      <td>0</td>\n",
       "      <td>0</td>\n",
       "      <td>0</td>\n",
       "      <td>0</td>\n",
       "      <td>0</td>\n",
       "    </tr>\n",
       "    <tr>\n",
       "      <th>3</th>\n",
       "      <td>32</td>\n",
       "      <td>2010</td>\n",
       "      <td>545852</td>\n",
       "      <td>0</td>\n",
       "      <td>1</td>\n",
       "      <td>0</td>\n",
       "      <td>0</td>\n",
       "      <td>1</td>\n",
       "      <td>0</td>\n",
       "      <td>0</td>\n",
       "      <td>...</td>\n",
       "      <td>1</td>\n",
       "      <td>0</td>\n",
       "      <td>0</td>\n",
       "      <td>0</td>\n",
       "      <td>0</td>\n",
       "      <td>0</td>\n",
       "      <td>0</td>\n",
       "      <td>0</td>\n",
       "      <td>0</td>\n",
       "      <td>0</td>\n",
       "    </tr>\n",
       "    <tr>\n",
       "      <th>4</th>\n",
       "      <td>72</td>\n",
       "      <td>2010</td>\n",
       "      <td>545852</td>\n",
       "      <td>1</td>\n",
       "      <td>0</td>\n",
       "      <td>0</td>\n",
       "      <td>0</td>\n",
       "      <td>0</td>\n",
       "      <td>0</td>\n",
       "      <td>1</td>\n",
       "      <td>...</td>\n",
       "      <td>1</td>\n",
       "      <td>0</td>\n",
       "      <td>0</td>\n",
       "      <td>0</td>\n",
       "      <td>0</td>\n",
       "      <td>0</td>\n",
       "      <td>0</td>\n",
       "      <td>0</td>\n",
       "      <td>0</td>\n",
       "      <td>0</td>\n",
       "    </tr>\n",
       "    <tr>\n",
       "      <th>...</th>\n",
       "      <td>...</td>\n",
       "      <td>...</td>\n",
       "      <td>...</td>\n",
       "      <td>...</td>\n",
       "      <td>...</td>\n",
       "      <td>...</td>\n",
       "      <td>...</td>\n",
       "      <td>...</td>\n",
       "      <td>...</td>\n",
       "      <td>...</td>\n",
       "      <td>...</td>\n",
       "      <td>...</td>\n",
       "      <td>...</td>\n",
       "      <td>...</td>\n",
       "      <td>...</td>\n",
       "      <td>...</td>\n",
       "      <td>...</td>\n",
       "      <td>...</td>\n",
       "      <td>...</td>\n",
       "      <td>...</td>\n",
       "      <td>...</td>\n",
       "    </tr>\n",
       "    <tr>\n",
       "      <th>47473</th>\n",
       "      <td>29</td>\n",
       "      <td>2016</td>\n",
       "      <td>687576</td>\n",
       "      <td>0</td>\n",
       "      <td>1</td>\n",
       "      <td>0</td>\n",
       "      <td>1</td>\n",
       "      <td>0</td>\n",
       "      <td>0</td>\n",
       "      <td>0</td>\n",
       "      <td>...</td>\n",
       "      <td>0</td>\n",
       "      <td>0</td>\n",
       "      <td>0</td>\n",
       "      <td>0</td>\n",
       "      <td>0</td>\n",
       "      <td>0</td>\n",
       "      <td>0</td>\n",
       "      <td>0</td>\n",
       "      <td>0</td>\n",
       "      <td>0</td>\n",
       "    </tr>\n",
       "    <tr>\n",
       "      <th>47474</th>\n",
       "      <td>19</td>\n",
       "      <td>2016</td>\n",
       "      <td>687576</td>\n",
       "      <td>0</td>\n",
       "      <td>1</td>\n",
       "      <td>0</td>\n",
       "      <td>1</td>\n",
       "      <td>0</td>\n",
       "      <td>0</td>\n",
       "      <td>0</td>\n",
       "      <td>...</td>\n",
       "      <td>0</td>\n",
       "      <td>0</td>\n",
       "      <td>0</td>\n",
       "      <td>0</td>\n",
       "      <td>0</td>\n",
       "      <td>0</td>\n",
       "      <td>0</td>\n",
       "      <td>0</td>\n",
       "      <td>0</td>\n",
       "      <td>0</td>\n",
       "    </tr>\n",
       "    <tr>\n",
       "      <th>47475</th>\n",
       "      <td>23</td>\n",
       "      <td>2016</td>\n",
       "      <td>687576</td>\n",
       "      <td>0</td>\n",
       "      <td>1</td>\n",
       "      <td>0</td>\n",
       "      <td>1</td>\n",
       "      <td>0</td>\n",
       "      <td>0</td>\n",
       "      <td>0</td>\n",
       "      <td>...</td>\n",
       "      <td>0</td>\n",
       "      <td>0</td>\n",
       "      <td>0</td>\n",
       "      <td>0</td>\n",
       "      <td>0</td>\n",
       "      <td>0</td>\n",
       "      <td>0</td>\n",
       "      <td>0</td>\n",
       "      <td>0</td>\n",
       "      <td>0</td>\n",
       "    </tr>\n",
       "    <tr>\n",
       "      <th>47476</th>\n",
       "      <td>24</td>\n",
       "      <td>2016</td>\n",
       "      <td>687576</td>\n",
       "      <td>0</td>\n",
       "      <td>1</td>\n",
       "      <td>0</td>\n",
       "      <td>1</td>\n",
       "      <td>0</td>\n",
       "      <td>0</td>\n",
       "      <td>0</td>\n",
       "      <td>...</td>\n",
       "      <td>0</td>\n",
       "      <td>0</td>\n",
       "      <td>0</td>\n",
       "      <td>0</td>\n",
       "      <td>0</td>\n",
       "      <td>0</td>\n",
       "      <td>0</td>\n",
       "      <td>0</td>\n",
       "      <td>0</td>\n",
       "      <td>0</td>\n",
       "    </tr>\n",
       "    <tr>\n",
       "      <th>47477</th>\n",
       "      <td>17</td>\n",
       "      <td>2016</td>\n",
       "      <td>687576</td>\n",
       "      <td>0</td>\n",
       "      <td>1</td>\n",
       "      <td>0</td>\n",
       "      <td>1</td>\n",
       "      <td>0</td>\n",
       "      <td>0</td>\n",
       "      <td>0</td>\n",
       "      <td>...</td>\n",
       "      <td>0</td>\n",
       "      <td>0</td>\n",
       "      <td>0</td>\n",
       "      <td>0</td>\n",
       "      <td>0</td>\n",
       "      <td>0</td>\n",
       "      <td>0</td>\n",
       "      <td>0</td>\n",
       "      <td>0</td>\n",
       "      <td>0</td>\n",
       "    </tr>\n",
       "  </tbody>\n",
       "</table>\n",
       "<p>47478 rows × 107 columns</p>\n",
       "</div>"
      ],
      "text/plain": [
       "       victim_age  reported_year  POPULATION  victim_sex_Female  \\\n",
       "0              78           2010      545852                  0   \n",
       "1              17           2010      545852                  0   \n",
       "2              15           2010      545852                  1   \n",
       "3              32           2010      545852                  0   \n",
       "4              72           2010      545852                  1   \n",
       "...           ...            ...         ...                ...   \n",
       "47473          29           2016      687576                  0   \n",
       "47474          19           2016      687576                  0   \n",
       "47475          23           2016      687576                  0   \n",
       "47476          24           2016      687576                  0   \n",
       "47477          17           2016      687576                  0   \n",
       "\n",
       "       victim_sex_Male  victim_race_Asian  victim_race_Black  \\\n",
       "0                    1                  0                  0   \n",
       "1                    1                  0                  0   \n",
       "2                    0                  0                  0   \n",
       "3                    1                  0                  0   \n",
       "4                    0                  0                  0   \n",
       "...                ...                ...                ...   \n",
       "47473                1                  0                  1   \n",
       "47474                1                  0                  1   \n",
       "47475                1                  0                  1   \n",
       "47476                1                  0                  1   \n",
       "47477                1                  0                  1   \n",
       "\n",
       "       victim_race_Hispanic  victim_race_Other  victim_race_White  ...  \\\n",
       "0                         1                  0                  0  ...   \n",
       "1                         1                  0                  0  ...   \n",
       "2                         0                  0                  1  ...   \n",
       "3                         1                  0                  0  ...   \n",
       "4                         0                  0                  1  ...   \n",
       "...                     ...                ...                ...  ...   \n",
       "47473                     0                  0                  0  ...   \n",
       "47474                     0                  0                  0  ...   \n",
       "47475                     0                  0                  0  ...   \n",
       "47476                     0                  0                  0  ...   \n",
       "47477                     0                  0                  0  ...   \n",
       "\n",
       "       state_NM  state_NV  state_NY  state_OH  state_OK  state_PA  state_TN  \\\n",
       "0             1         0         0         0         0         0         0   \n",
       "1             1         0         0         0         0         0         0   \n",
       "2             1         0         0         0         0         0         0   \n",
       "3             1         0         0         0         0         0         0   \n",
       "4             1         0         0         0         0         0         0   \n",
       "...         ...       ...       ...       ...       ...       ...       ...   \n",
       "47473         0         0         0         0         0         0         0   \n",
       "47474         0         0         0         0         0         0         0   \n",
       "47475         0         0         0         0         0         0         0   \n",
       "47476         0         0         0         0         0         0         0   \n",
       "47477         0         0         0         0         0         0         0   \n",
       "\n",
       "       state_TX  state_VA  state_WI  \n",
       "0             0         0         0  \n",
       "1             0         0         0  \n",
       "2             0         0         0  \n",
       "3             0         0         0  \n",
       "4             0         0         0  \n",
       "...         ...       ...       ...  \n",
       "47473         0         0         0  \n",
       "47474         0         0         0  \n",
       "47475         0         0         0  \n",
       "47476         0         0         0  \n",
       "47477         0         0         0  \n",
       "\n",
       "[47478 rows x 107 columns]"
      ]
     },
     "execution_count": 524,
     "metadata": {},
     "output_type": "execute_result"
    }
   ],
   "source": [
    "X"
   ]
  },
  {
   "cell_type": "code",
   "execution_count": 525,
   "id": "c43ae853",
   "metadata": {},
   "outputs": [
    {
     "data": {
      "text/plain": [
       "array([0.1, 0.2, 0.3, 0.4, 0.5, 0.6, 0.7, 0.8, 0.9, 1. ])"
      ]
     },
     "execution_count": 525,
     "metadata": {},
     "output_type": "execute_result"
    }
   ],
   "source": [
    "y"
   ]
  },
  {
   "cell_type": "code",
   "execution_count": 526,
   "id": "4cb88fa6",
   "metadata": {},
   "outputs": [
    {
     "name": "stdout",
     "output_type": "stream",
     "text": [
      "[LightGBM] [Warning] Found whitespace in feature_names, replace with underlines\n",
      "[LightGBM] [Info] Number of positive: 16718, number of negative: 17465\n",
      "[LightGBM] [Warning] Auto-choosing col-wise multi-threading, the overhead of testing was 0.002519 seconds.\n",
      "You can set `force_col_wise=true` to remove the overhead.\n",
      "[LightGBM] [Info] Total Bins 564\n",
      "[LightGBM] [Info] Number of data points in the train set: 34183, number of used features: 107\n",
      "[LightGBM] [Info] [binary:BoostFromScore]: pavg=0.489074 -> initscore=-0.043713\n",
      "[LightGBM] [Info] Start training from score -0.043713\n",
      "[LightGBM] [Warning] Found whitespace in feature_names, replace with underlines\n",
      "[LightGBM] [Info] Number of positive: 16718, number of negative: 17465\n",
      "[LightGBM] [Warning] Auto-choosing row-wise multi-threading, the overhead of testing was 0.002475 seconds.\n",
      "You can set `force_row_wise=true` to remove the overhead.\n",
      "And if memory is not enough, you can set `force_col_wise=true`.\n",
      "[LightGBM] [Info] Total Bins 564\n",
      "[LightGBM] [Info] Number of data points in the train set: 34183, number of used features: 107\n",
      "[LightGBM] [Info] [binary:BoostFromScore]: pavg=0.489074 -> initscore=-0.043713\n",
      "[LightGBM] [Info] Start training from score -0.043713\n",
      "[LightGBM] [Warning] Found whitespace in feature_names, replace with underlines\n",
      "[LightGBM] [Info] Number of positive: 16718, number of negative: 17466\n",
      "[LightGBM] [Warning] Auto-choosing row-wise multi-threading, the overhead of testing was 0.002008 seconds.\n",
      "You can set `force_row_wise=true` to remove the overhead.\n",
      "And if memory is not enough, you can set `force_col_wise=true`.\n",
      "[LightGBM] [Info] Total Bins 564\n",
      "[LightGBM] [Info] Number of data points in the train set: 34184, number of used features: 107\n",
      "[LightGBM] [Info] [binary:BoostFromScore]: pavg=0.489059 -> initscore=-0.043770\n",
      "[LightGBM] [Info] Start training from score -0.043770\n",
      "[LightGBM] [Warning] Found whitespace in feature_names, replace with underlines\n",
      "[LightGBM] [Info] Number of positive: 16718, number of negative: 17466\n",
      "[LightGBM] [Warning] Auto-choosing col-wise multi-threading, the overhead of testing was 0.002671 seconds.\n",
      "You can set `force_col_wise=true` to remove the overhead.\n",
      "[LightGBM] [Info] Total Bins 563\n",
      "[LightGBM] [Info] Number of data points in the train set: 34184, number of used features: 107\n",
      "[LightGBM] [Info] [binary:BoostFromScore]: pavg=0.489059 -> initscore=-0.043770\n",
      "[LightGBM] [Info] Start training from score -0.043770\n",
      "[LightGBM] [Warning] Found whitespace in feature_names, replace with underlines\n",
      "[LightGBM] [Info] Number of positive: 16718, number of negative: 17466\n",
      "[LightGBM] [Warning] Auto-choosing row-wise multi-threading, the overhead of testing was 0.001637 seconds.\n",
      "You can set `force_row_wise=true` to remove the overhead.\n",
      "And if memory is not enough, you can set `force_col_wise=true`.\n",
      "[LightGBM] [Info] Total Bins 564\n",
      "[LightGBM] [Info] Number of data points in the train set: 34184, number of used features: 107\n",
      "[LightGBM] [Info] [binary:BoostFromScore]: pavg=0.489059 -> initscore=-0.043770\n",
      "[LightGBM] [Info] Start training from score -0.043770\n",
      "[LightGBM] [Warning] Found whitespace in feature_names, replace with underlines\n",
      "[LightGBM] [Info] Number of positive: 16718, number of negative: 17466\n",
      "[LightGBM] [Warning] Auto-choosing row-wise multi-threading, the overhead of testing was 0.001720 seconds.\n",
      "You can set `force_row_wise=true` to remove the overhead.\n",
      "And if memory is not enough, you can set `force_col_wise=true`.\n",
      "[LightGBM] [Info] Total Bins 564\n",
      "[LightGBM] [Info] Number of data points in the train set: 34184, number of used features: 107\n",
      "[LightGBM] [Info] [binary:BoostFromScore]: pavg=0.489059 -> initscore=-0.043770\n",
      "[LightGBM] [Info] Start training from score -0.043770\n",
      "[LightGBM] [Warning] Found whitespace in feature_names, replace with underlines\n",
      "[LightGBM] [Info] Number of positive: 16719, number of negative: 17465\n",
      "[LightGBM] [Warning] Auto-choosing col-wise multi-threading, the overhead of testing was 0.002627 seconds.\n",
      "You can set `force_col_wise=true` to remove the overhead.\n",
      "[LightGBM] [Info] Total Bins 562\n",
      "[LightGBM] [Info] Number of data points in the train set: 34184, number of used features: 107\n",
      "[LightGBM] [Info] [binary:BoostFromScore]: pavg=0.489088 -> initscore=-0.043653\n",
      "[LightGBM] [Info] Start training from score -0.043653\n",
      "[LightGBM] [Warning] Found whitespace in feature_names, replace with underlines\n",
      "[LightGBM] [Info] Number of positive: 16719, number of negative: 17465\n",
      "[LightGBM] [Warning] Auto-choosing row-wise multi-threading, the overhead of testing was 0.001597 seconds.\n",
      "You can set `force_row_wise=true` to remove the overhead.\n",
      "And if memory is not enough, you can set `force_col_wise=true`.\n",
      "[LightGBM] [Info] Total Bins 561\n",
      "[LightGBM] [Info] Number of data points in the train set: 34184, number of used features: 107\n",
      "[LightGBM] [Info] [binary:BoostFromScore]: pavg=0.489088 -> initscore=-0.043653\n",
      "[LightGBM] [Info] Start training from score -0.043653\n",
      "[LightGBM] [Warning] Found whitespace in feature_names, replace with underlines\n",
      "[LightGBM] [Info] Number of positive: 16719, number of negative: 17465\n",
      "[LightGBM] [Warning] Auto-choosing col-wise multi-threading, the overhead of testing was 0.004458 seconds.\n",
      "You can set `force_col_wise=true` to remove the overhead.\n",
      "[LightGBM] [Info] Total Bins 563\n",
      "[LightGBM] [Info] Number of data points in the train set: 34184, number of used features: 107\n",
      "[LightGBM] [Info] [binary:BoostFromScore]: pavg=0.489088 -> initscore=-0.043653\n",
      "[LightGBM] [Info] Start training from score -0.043653\n",
      "[LightGBM] [Warning] Found whitespace in feature_names, replace with underlines\n",
      "[LightGBM] [Info] Number of positive: 16719, number of negative: 17465\n",
      "[LightGBM] [Warning] Auto-choosing col-wise multi-threading, the overhead of testing was 0.003502 seconds.\n",
      "You can set `force_col_wise=true` to remove the overhead.\n",
      "[LightGBM] [Info] Total Bins 564\n",
      "[LightGBM] [Info] Number of data points in the train set: 34184, number of used features: 107\n",
      "[LightGBM] [Info] [binary:BoostFromScore]: pavg=0.489088 -> initscore=-0.043653\n",
      "[LightGBM] [Info] Start training from score -0.043653\n"
     ]
    },
    {
     "data": {
      "text/plain": [
       "array([-0.48004313, -0.45476126, -0.49622141, -0.51202657, -0.53099275,\n",
       "       -0.47304052, -0.5257595 , -0.48150405, -0.47096703, -0.51943729])"
      ]
     },
     "execution_count": 526,
     "metadata": {},
     "output_type": "execute_result"
    }
   ],
   "source": [
    "from sklearn.model_selection import cross_val_score\n",
    "\n",
    "# 10 fold cv\n",
    "scores = cross_val_score(lgbm, X_train, y_train, scoring='r2', cv=10)\n",
    "scores"
   ]
  },
  {
   "cell_type": "code",
   "execution_count": 527,
   "id": "712703c7",
   "metadata": {},
   "outputs": [
    {
     "name": "stdout",
     "output_type": "stream",
     "text": [
      "-0.4944753514995047\n"
     ]
    }
   ],
   "source": [
    "print(np.mean(scores))"
   ]
  },
  {
   "cell_type": "code",
   "execution_count": 528,
   "id": "647d6d86",
   "metadata": {},
   "outputs": [
    {
     "name": "stdout",
     "output_type": "stream",
     "text": [
      "[LightGBM] [Warning] Found whitespace in feature_names, replace with underlines\n",
      "[LightGBM] [Info] Number of positive: 3715, number of negative: 3881\n",
      "[LightGBM] [Warning] Auto-choosing col-wise multi-threading, the overhead of testing was 0.000800 seconds.\n",
      "You can set `force_col_wise=true` to remove the overhead.\n",
      "[LightGBM] [Info] Total Bins 557\n",
      "[LightGBM] [Info] Number of data points in the train set: 7596, number of used features: 107\n",
      "[LightGBM] [Info] [binary:BoostFromScore]: pavg=0.489073 -> initscore=-0.043714\n",
      "[LightGBM] [Info] Start training from score -0.043714\n",
      "[LightGBM] [Warning] Found whitespace in feature_names, replace with underlines\n",
      "[LightGBM] [Info] Number of positive: 3716, number of negative: 3881\n",
      "[LightGBM] [Warning] Auto-choosing row-wise multi-threading, the overhead of testing was 0.000428 seconds.\n",
      "You can set `force_row_wise=true` to remove the overhead.\n",
      "And if memory is not enough, you can set `force_col_wise=true`.\n",
      "[LightGBM] [Info] Total Bins 551\n",
      "[LightGBM] [Info] Number of data points in the train set: 7597, number of used features: 107\n",
      "[LightGBM] [Info] [binary:BoostFromScore]: pavg=0.489140 -> initscore=-0.043445\n",
      "[LightGBM] [Info] Start training from score -0.043445\n",
      "[LightGBM] [Warning] Found whitespace in feature_names, replace with underlines\n",
      "[LightGBM] [Info] Number of positive: 3715, number of negative: 3882\n",
      "[LightGBM] [Warning] Auto-choosing row-wise multi-threading, the overhead of testing was 0.000239 seconds.\n",
      "You can set `force_row_wise=true` to remove the overhead.\n",
      "And if memory is not enough, you can set `force_col_wise=true`.\n",
      "[LightGBM] [Info] Total Bins 556\n",
      "[LightGBM] [Info] Number of data points in the train set: 7597, number of used features: 107\n",
      "[LightGBM] [Info] [binary:BoostFromScore]: pavg=0.489009 -> initscore=-0.043972\n",
      "[LightGBM] [Info] Start training from score -0.043972\n",
      "[LightGBM] [Warning] Found whitespace in feature_names, replace with underlines\n",
      "[LightGBM] [Info] Number of positive: 3715, number of negative: 3882\n",
      "[LightGBM] [Warning] Auto-choosing col-wise multi-threading, the overhead of testing was 0.000684 seconds.\n",
      "You can set `force_col_wise=true` to remove the overhead.\n",
      "[LightGBM] [Info] Total Bins 551\n",
      "[LightGBM] [Info] Number of data points in the train set: 7597, number of used features: 107\n",
      "[LightGBM] [Info] [binary:BoostFromScore]: pavg=0.489009 -> initscore=-0.043972\n",
      "[LightGBM] [Info] Start training from score -0.043972\n",
      "[LightGBM] [Warning] Found whitespace in feature_names, replace with underlines\n",
      "[LightGBM] [Info] Number of positive: 3715, number of negative: 3882\n",
      "[LightGBM] [Warning] Auto-choosing row-wise multi-threading, the overhead of testing was 0.000442 seconds.\n",
      "You can set `force_row_wise=true` to remove the overhead.\n",
      "And if memory is not enough, you can set `force_col_wise=true`.\n",
      "[LightGBM] [Info] Total Bins 554\n",
      "[LightGBM] [Info] Number of data points in the train set: 7597, number of used features: 107\n",
      "[LightGBM] [Info] [binary:BoostFromScore]: pavg=0.489009 -> initscore=-0.043972\n",
      "[LightGBM] [Info] Start training from score -0.043972\n"
     ]
    },
    {
     "data": {
      "text/plain": [
       "array([1, 0, 1, ..., 0, 1, 0], dtype=int64)"
      ]
     },
     "execution_count": 528,
     "metadata": {},
     "output_type": "execute_result"
    }
   ],
   "source": [
    "#printing the scores on test dataset \n",
    "# first : prediction \n",
    "from sklearn.model_selection import cross_val_predict \n",
    "pred = cross_val_predict(lgbm, X_test, y_test)\n",
    "pred"
   ]
  },
  {
   "cell_type": "code",
   "execution_count": 529,
   "id": "f7f21234",
   "metadata": {},
   "outputs": [
    {
     "name": "stdout",
     "output_type": "stream",
     "text": [
      "[LightGBM] [Warning] Found whitespace in feature_names, replace with underlines\n",
      "[LightGBM] [Info] Number of positive: 4180, number of negative: 4366\n",
      "[LightGBM] [Warning] Auto-choosing col-wise multi-threading, the overhead of testing was 0.000565 seconds.\n",
      "You can set `force_col_wise=true` to remove the overhead.\n",
      "[LightGBM] [Info] Total Bins 556\n",
      "[LightGBM] [Info] Number of data points in the train set: 8546, number of used features: 107\n",
      "[LightGBM] [Info] [binary:BoostFromScore]: pavg=0.489118 -> initscore=-0.043536\n",
      "[LightGBM] [Info] Start training from score -0.043536\n",
      "[LightGBM] [Warning] Found whitespace in feature_names, replace with underlines\n",
      "[LightGBM] [Info] Number of positive: 4180, number of negative: 4366\n",
      "[LightGBM] [Warning] Auto-choosing col-wise multi-threading, the overhead of testing was 0.000776 seconds.\n",
      "You can set `force_col_wise=true` to remove the overhead.\n",
      "[LightGBM] [Info] Total Bins 556\n",
      "[LightGBM] [Info] Number of data points in the train set: 8546, number of used features: 107\n",
      "[LightGBM] [Info] [binary:BoostFromScore]: pavg=0.489118 -> initscore=-0.043536\n",
      "[LightGBM] [Info] Start training from score -0.043536\n",
      "[LightGBM] [Warning] Found whitespace in feature_names, replace with underlines\n",
      "[LightGBM] [Info] Number of positive: 4179, number of negative: 4367\n",
      "[LightGBM] [Warning] Auto-choosing col-wise multi-threading, the overhead of testing was 0.000748 seconds.\n",
      "You can set `force_col_wise=true` to remove the overhead.\n",
      "[LightGBM] [Info] Total Bins 556\n",
      "[LightGBM] [Info] Number of data points in the train set: 8546, number of used features: 107\n",
      "[LightGBM] [Info] [binary:BoostFromScore]: pavg=0.489001 -> initscore=-0.044004\n",
      "[LightGBM] [Info] Start training from score -0.044004\n",
      "[LightGBM] [Warning] Found whitespace in feature_names, replace with underlines\n",
      "[LightGBM] [Info] Number of positive: 4179, number of negative: 4367\n",
      "[LightGBM] [Warning] Auto-choosing col-wise multi-threading, the overhead of testing was 0.000644 seconds.\n",
      "You can set `force_col_wise=true` to remove the overhead.\n",
      "[LightGBM] [Info] Total Bins 552\n",
      "[LightGBM] [Info] Number of data points in the train set: 8546, number of used features: 107\n",
      "[LightGBM] [Info] [binary:BoostFromScore]: pavg=0.489001 -> initscore=-0.044004\n",
      "[LightGBM] [Info] Start training from score -0.044004\n",
      "[LightGBM] [Warning] Found whitespace in feature_names, replace with underlines\n",
      "[LightGBM] [Info] Number of positive: 4179, number of negative: 4367\n",
      "[LightGBM] [Warning] Auto-choosing row-wise multi-threading, the overhead of testing was 0.001368 seconds.\n",
      "You can set `force_row_wise=true` to remove the overhead.\n",
      "And if memory is not enough, you can set `force_col_wise=true`.\n",
      "[LightGBM] [Info] Total Bins 556\n",
      "[LightGBM] [Info] Number of data points in the train set: 8546, number of used features: 107\n",
      "[LightGBM] [Info] [binary:BoostFromScore]: pavg=0.489001 -> initscore=-0.044004\n",
      "[LightGBM] [Info] Start training from score -0.044004\n",
      "[LightGBM] [Warning] Found whitespace in feature_names, replace with underlines\n",
      "[LightGBM] [Info] Number of positive: 4179, number of negative: 4367\n",
      "[LightGBM] [Warning] Auto-choosing col-wise multi-threading, the overhead of testing was 0.000792 seconds.\n",
      "You can set `force_col_wise=true` to remove the overhead.\n",
      "[LightGBM] [Info] Total Bins 557\n",
      "[LightGBM] [Info] Number of data points in the train set: 8546, number of used features: 107\n",
      "[LightGBM] [Info] [binary:BoostFromScore]: pavg=0.489001 -> initscore=-0.044004\n",
      "[LightGBM] [Info] Start training from score -0.044004\n",
      "[LightGBM] [Warning] Found whitespace in feature_names, replace with underlines\n",
      "[LightGBM] [Info] Number of positive: 4180, number of negative: 4367\n",
      "[LightGBM] [Warning] Auto-choosing row-wise multi-threading, the overhead of testing was 0.000456 seconds.\n",
      "You can set `force_row_wise=true` to remove the overhead.\n",
      "And if memory is not enough, you can set `force_col_wise=true`.\n",
      "[LightGBM] [Info] Total Bins 555\n",
      "[LightGBM] [Info] Number of data points in the train set: 8547, number of used features: 107\n",
      "[LightGBM] [Info] [binary:BoostFromScore]: pavg=0.489060 -> initscore=-0.043765\n",
      "[LightGBM] [Info] Start training from score -0.043765\n",
      "[LightGBM] [Warning] Found whitespace in feature_names, replace with underlines\n",
      "[LightGBM] [Info] Number of positive: 4180, number of negative: 4367\n",
      "[LightGBM] [Warning] Auto-choosing col-wise multi-threading, the overhead of testing was 0.000778 seconds.\n",
      "You can set `force_col_wise=true` to remove the overhead.\n",
      "[LightGBM] [Info] Total Bins 554\n",
      "[LightGBM] [Info] Number of data points in the train set: 8547, number of used features: 107\n",
      "[LightGBM] [Info] [binary:BoostFromScore]: pavg=0.489060 -> initscore=-0.043765\n",
      "[LightGBM] [Info] Start training from score -0.043765\n",
      "[LightGBM] [Warning] Found whitespace in feature_names, replace with underlines\n",
      "[LightGBM] [Info] Number of positive: 4180, number of negative: 4367\n",
      "[LightGBM] [Warning] Auto-choosing row-wise multi-threading, the overhead of testing was 0.000626 seconds.\n",
      "You can set `force_row_wise=true` to remove the overhead.\n",
      "And if memory is not enough, you can set `force_col_wise=true`.\n",
      "[LightGBM] [Info] Total Bins 558\n",
      "[LightGBM] [Info] Number of data points in the train set: 8547, number of used features: 107\n",
      "[LightGBM] [Info] [binary:BoostFromScore]: pavg=0.489060 -> initscore=-0.043765\n",
      "[LightGBM] [Info] Start training from score -0.043765\n",
      "[LightGBM] [Warning] Found whitespace in feature_names, replace with underlines\n",
      "[LightGBM] [Info] Number of positive: 4180, number of negative: 4367\n",
      "[LightGBM] [Warning] Auto-choosing col-wise multi-threading, the overhead of testing was 0.000588 seconds.\n",
      "You can set `force_col_wise=true` to remove the overhead.\n",
      "[LightGBM] [Info] Total Bins 555\n",
      "[LightGBM] [Info] Number of data points in the train set: 8547, number of used features: 107\n",
      "[LightGBM] [Info] [binary:BoostFromScore]: pavg=0.489060 -> initscore=-0.043765\n",
      "[LightGBM] [Info] Start training from score -0.043765\n"
     ]
    },
    {
     "data": {
      "text/plain": [
       "array([0.62631579, 0.59473684, 0.61157895, 0.61789474, 0.59684211,\n",
       "       0.63368421, 0.60168599, 0.61854584, 0.62486828, 0.63540569])"
      ]
     },
     "execution_count": 529,
     "metadata": {},
     "output_type": "execute_result"
    }
   ],
   "source": [
    "#10 fold CV on test data \n",
    "scores_test = cross_val_score (lgbm, X_test, y_test, cv = 10)\n",
    "scores_test"
   ]
  },
  {
   "cell_type": "code",
   "execution_count": 530,
   "id": "29611fe1",
   "metadata": {},
   "outputs": [
    {
     "name": "stdout",
     "output_type": "stream",
     "text": [
      "0.6161558427153236\n"
     ]
    }
   ],
   "source": [
    "# the average of the 10 folds \n",
    "print(np.mean(scores_test))"
   ]
  },
  {
   "cell_type": "code",
   "execution_count": 531,
   "id": "81d2125e",
   "metadata": {},
   "outputs": [
    {
     "name": "stdout",
     "output_type": "stream",
     "text": [
      "[LightGBM] [Warning] Accuracy may be bad since you didn't explicitly set num_leaves OR 2^max_depth > num_leaves. (num_leaves=31).\n",
      "[LightGBM] [Warning] Found whitespace in feature_names, replace with underlines\n",
      "[LightGBM] [Warning] Accuracy may be bad since you didn't explicitly set num_leaves OR 2^max_depth > num_leaves. (num_leaves=31).\n",
      "[LightGBM] [Info] Number of positive: 18576, number of negative: 19406\n",
      "[LightGBM] [Warning] Auto-choosing row-wise multi-threading, the overhead of testing was 0.002164 seconds.\n",
      "You can set `force_row_wise=true` to remove the overhead.\n",
      "And if memory is not enough, you can set `force_col_wise=true`.\n",
      "[LightGBM] [Info] Total Bins 563\n",
      "[LightGBM] [Info] Number of data points in the train set: 37982, number of used features: 107\n",
      "[LightGBM] [Info] [binary:BoostFromScore]: pavg=0.489074 -> initscore=-0.043712\n",
      "[LightGBM] [Info] Start training from score -0.043712\n",
      "[LightGBM] [Warning] Accuracy may be bad since you didn't explicitly set num_leaves OR 2^max_depth > num_leaves. (num_leaves=31).\n",
      "[LightGBM] [Warning] Accuracy may be bad since you didn't explicitly set num_leaves OR 2^max_depth > num_leaves. (num_leaves=31).\n"
     ]
    },
    {
     "data": {
      "text/plain": [
       "(0.6308251276920647, 0.6226832350463353)"
      ]
     },
     "execution_count": 531,
     "metadata": {},
     "output_type": "execute_result"
    }
   ],
   "source": [
    "lgbm = LGBMClassifier(n_estimators = 14, max_depth = 9, num_leaves = 31 ) \n",
    "lgbm.fit(X_train, y_train)\n",
    "lgbm_train_preds = lgbm.predict(X_train) \n",
    "lgbm_val_predicts = lgbm.predict(X_test)\n",
    "accuracy_score(lgbm_train_preds, y_train), accuracy_score(lgbm_val_predicts, y_test)"
   ]
  },
  {
   "cell_type": "code",
   "execution_count": 532,
   "id": "8035906a",
   "metadata": {},
   "outputs": [
    {
     "name": "stdout",
     "output_type": "stream",
     "text": [
      "[LightGBM] [Warning] Accuracy may be bad since you didn't explicitly set num_leaves OR 2^max_depth > num_leaves. (num_leaves=31).\n"
     ]
    },
    {
     "data": {
      "text/plain": [
       "0.6226832350463353"
      ]
     },
     "execution_count": 532,
     "metadata": {},
     "output_type": "execute_result"
    }
   ],
   "source": [
    "lgbm_test_preds = lgbm.predict(X_test)\n",
    "accuracy_score(lgbm_test_preds, y_test)"
   ]
  },
  {
   "cell_type": "code",
   "execution_count": 533,
   "id": "32e0bd26",
   "metadata": {},
   "outputs": [
    {
     "name": "stdout",
     "output_type": "stream",
     "text": [
      "[LightGBM] [Warning] Accuracy may be bad since you didn't explicitly set num_leaves OR 2^max_depth > num_leaves. (num_leaves=31).\n",
      "[LightGBM] [Warning] Found whitespace in feature_names, replace with underlines\n",
      "[LightGBM] [Warning] Accuracy may be bad since you didn't explicitly set num_leaves OR 2^max_depth > num_leaves. (num_leaves=31).\n",
      "[LightGBM] [Info] Number of positive: 15922, number of negative: 16634\n",
      "[LightGBM] [Warning] Auto-choosing col-wise multi-threading, the overhead of testing was 0.002526 seconds.\n",
      "You can set `force_col_wise=true` to remove the overhead.\n",
      "[LightGBM] [Info] Total Bins 564\n",
      "[LightGBM] [Info] Number of data points in the train set: 32556, number of used features: 107\n",
      "[LightGBM] [Info] [binary:BoostFromScore]: pavg=0.489065 -> initscore=-0.043747\n",
      "[LightGBM] [Info] Start training from score -0.043747\n",
      "[LightGBM] [Warning] Accuracy may be bad since you didn't explicitly set num_leaves OR 2^max_depth > num_leaves. (num_leaves=31).\n",
      "[LightGBM] [Warning] Accuracy may be bad since you didn't explicitly set num_leaves OR 2^max_depth > num_leaves. (num_leaves=31).\n",
      "[LightGBM] [Warning] Found whitespace in feature_names, replace with underlines\n",
      "[LightGBM] [Warning] Accuracy may be bad since you didn't explicitly set num_leaves OR 2^max_depth > num_leaves. (num_leaves=31).\n",
      "[LightGBM] [Info] Number of positive: 15922, number of negative: 16634\n",
      "[LightGBM] [Warning] Auto-choosing row-wise multi-threading, the overhead of testing was 0.001118 seconds.\n",
      "You can set `force_row_wise=true` to remove the overhead.\n",
      "And if memory is not enough, you can set `force_col_wise=true`.\n",
      "[LightGBM] [Info] Total Bins 563\n",
      "[LightGBM] [Info] Number of data points in the train set: 32556, number of used features: 107\n",
      "[LightGBM] [Info] [binary:BoostFromScore]: pavg=0.489065 -> initscore=-0.043747\n",
      "[LightGBM] [Info] Start training from score -0.043747\n",
      "[LightGBM] [Warning] Accuracy may be bad since you didn't explicitly set num_leaves OR 2^max_depth > num_leaves. (num_leaves=31).\n",
      "[LightGBM] [Warning] Accuracy may be bad since you didn't explicitly set num_leaves OR 2^max_depth > num_leaves. (num_leaves=31).\n",
      "[LightGBM] [Warning] Found whitespace in feature_names, replace with underlines\n",
      "[LightGBM] [Warning] Accuracy may be bad since you didn't explicitly set num_leaves OR 2^max_depth > num_leaves. (num_leaves=31).\n",
      "[LightGBM] [Info] Number of positive: 15922, number of negative: 16634\n",
      "[LightGBM] [Warning] Auto-choosing col-wise multi-threading, the overhead of testing was 0.002138 seconds.\n",
      "You can set `force_col_wise=true` to remove the overhead.\n",
      "[LightGBM] [Info] Total Bins 563\n",
      "[LightGBM] [Info] Number of data points in the train set: 32556, number of used features: 107\n",
      "[LightGBM] [Info] [binary:BoostFromScore]: pavg=0.489065 -> initscore=-0.043747\n",
      "[LightGBM] [Info] Start training from score -0.043747\n",
      "[LightGBM] [Warning] Accuracy may be bad since you didn't explicitly set num_leaves OR 2^max_depth > num_leaves. (num_leaves=31).\n",
      "[LightGBM] [Warning] Accuracy may be bad since you didn't explicitly set num_leaves OR 2^max_depth > num_leaves. (num_leaves=31).\n",
      "[LightGBM] [Warning] Found whitespace in feature_names, replace with underlines\n",
      "[LightGBM] [Warning] Accuracy may be bad since you didn't explicitly set num_leaves OR 2^max_depth > num_leaves. (num_leaves=31).\n",
      "[LightGBM] [Info] Number of positive: 15922, number of negative: 16634\n",
      "[LightGBM] [Warning] Auto-choosing row-wise multi-threading, the overhead of testing was 0.002567 seconds.\n",
      "You can set `force_row_wise=true` to remove the overhead.\n",
      "And if memory is not enough, you can set `force_col_wise=true`.\n",
      "[LightGBM] [Info] Total Bins 564\n",
      "[LightGBM] [Info] Number of data points in the train set: 32556, number of used features: 107\n",
      "[LightGBM] [Info] [binary:BoostFromScore]: pavg=0.489065 -> initscore=-0.043747\n",
      "[LightGBM] [Info] Start training from score -0.043747\n",
      "[LightGBM] [Warning] Accuracy may be bad since you didn't explicitly set num_leaves OR 2^max_depth > num_leaves. (num_leaves=31).\n",
      "[LightGBM] [Warning] Accuracy may be bad since you didn't explicitly set num_leaves OR 2^max_depth > num_leaves. (num_leaves=31).\n",
      "[LightGBM] [Warning] Found whitespace in feature_names, replace with underlines\n",
      "[LightGBM] [Warning] Accuracy may be bad since you didn't explicitly set num_leaves OR 2^max_depth > num_leaves. (num_leaves=31).\n",
      "[LightGBM] [Info] Number of positive: 15922, number of negative: 16634\n",
      "[LightGBM] [Warning] Auto-choosing col-wise multi-threading, the overhead of testing was 0.002290 seconds.\n",
      "You can set `force_col_wise=true` to remove the overhead.\n",
      "[LightGBM] [Info] Total Bins 562\n",
      "[LightGBM] [Info] Number of data points in the train set: 32556, number of used features: 107\n",
      "[LightGBM] [Info] [binary:BoostFromScore]: pavg=0.489065 -> initscore=-0.043747\n",
      "[LightGBM] [Info] Start training from score -0.043747\n",
      "[LightGBM] [Warning] Accuracy may be bad since you didn't explicitly set num_leaves OR 2^max_depth > num_leaves. (num_leaves=31).\n",
      "[LightGBM] [Warning] Accuracy may be bad since you didn't explicitly set num_leaves OR 2^max_depth > num_leaves. (num_leaves=31).\n",
      "[LightGBM] [Warning] Found whitespace in feature_names, replace with underlines\n",
      "[LightGBM] [Warning] Accuracy may be bad since you didn't explicitly set num_leaves OR 2^max_depth > num_leaves. (num_leaves=31).\n",
      "[LightGBM] [Info] Number of positive: 15923, number of negative: 16633\n",
      "[LightGBM] [Warning] Auto-choosing col-wise multi-threading, the overhead of testing was 0.003261 seconds.\n",
      "You can set `force_col_wise=true` to remove the overhead.\n",
      "[LightGBM] [Info] Total Bins 562\n",
      "[LightGBM] [Info] Number of data points in the train set: 32556, number of used features: 107\n",
      "[LightGBM] [Info] [binary:BoostFromScore]: pavg=0.489096 -> initscore=-0.043624\n",
      "[LightGBM] [Info] Start training from score -0.043624\n",
      "[LightGBM] [Warning] Accuracy may be bad since you didn't explicitly set num_leaves OR 2^max_depth > num_leaves. (num_leaves=31).\n",
      "[LightGBM] [Warning] Accuracy may be bad since you didn't explicitly set num_leaves OR 2^max_depth > num_leaves. (num_leaves=31).\n",
      "[LightGBM] [Warning] Found whitespace in feature_names, replace with underlines\n",
      "[LightGBM] [Warning] Accuracy may be bad since you didn't explicitly set num_leaves OR 2^max_depth > num_leaves. (num_leaves=31).\n",
      "[LightGBM] [Info] Number of positive: 15923, number of negative: 16633\n",
      "[LightGBM] [Warning] Auto-choosing row-wise multi-threading, the overhead of testing was 0.001590 seconds.\n",
      "You can set `force_row_wise=true` to remove the overhead.\n",
      "And if memory is not enough, you can set `force_col_wise=true`.\n",
      "[LightGBM] [Info] Total Bins 563\n",
      "[LightGBM] [Info] Number of data points in the train set: 32556, number of used features: 107\n",
      "[LightGBM] [Info] [binary:BoostFromScore]: pavg=0.489096 -> initscore=-0.043624\n",
      "[LightGBM] [Info] Start training from score -0.043624\n",
      "[LightGBM] [Warning] Accuracy may be bad since you didn't explicitly set num_leaves OR 2^max_depth > num_leaves. (num_leaves=31).\n"
     ]
    }
   ],
   "source": [
    "score1 = cross_val_score(lgbm, X_train, y_train, cv = 7)"
   ]
  },
  {
   "cell_type": "code",
   "execution_count": 534,
   "id": "a87bc39e",
   "metadata": {},
   "outputs": [
    {
     "name": "stdout",
     "output_type": "stream",
     "text": [
      "0.6198725712179453\n"
     ]
    }
   ],
   "source": [
    "print(np.mean(score1))"
   ]
  },
  {
   "cell_type": "code",
   "execution_count": null,
   "id": "e1261e7c",
   "metadata": {},
   "outputs": [],
   "source": []
  },
  {
   "cell_type": "code",
   "execution_count": null,
   "id": "f3fce052",
   "metadata": {},
   "outputs": [],
   "source": []
  },
  {
   "cell_type": "code",
   "execution_count": null,
   "id": "8bfead36",
   "metadata": {},
   "outputs": [],
   "source": []
  }
 ],
 "metadata": {
  "kernelspec": {
   "display_name": "Python 3 (ipykernel)",
   "language": "python",
   "name": "python3"
  },
  "language_info": {
   "codemirror_mode": {
    "name": "ipython",
    "version": 3
   },
   "file_extension": ".py",
   "mimetype": "text/x-python",
   "name": "python",
   "nbconvert_exporter": "python",
   "pygments_lexer": "ipython3",
   "version": "3.10.9"
  }
 },
 "nbformat": 4,
 "nbformat_minor": 5
}
