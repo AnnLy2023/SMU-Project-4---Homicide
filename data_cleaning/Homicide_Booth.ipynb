{
 "cells": [
  {
   "cell_type": "code",
   "execution_count": 1,
   "id": "4e71a2b9",
   "metadata": {},
   "outputs": [],
   "source": [
    "import pandas as pd\n",
    "from pathlib import Path\n",
    "import numpy as np\n",
    "\n",
    "# File to Load\n",
    "homicide_csv = Path(\"data/homicide_data.csv\")\n",
    "\n",
    "# Read homicide data file and store into Pandas DataFrame\n",
    "homicide_data = pd.read_csv(homicide_csv, encoding='latin1')"
   ]
  },
  {
   "cell_type": "code",
   "execution_count": 2,
   "id": "abd32dea",
   "metadata": {},
   "outputs": [
    {
     "data": {
      "text/html": [
       "<div>\n",
       "<style scoped>\n",
       "    .dataframe tbody tr th:only-of-type {\n",
       "        vertical-align: middle;\n",
       "    }\n",
       "\n",
       "    .dataframe tbody tr th {\n",
       "        vertical-align: top;\n",
       "    }\n",
       "\n",
       "    .dataframe thead th {\n",
       "        text-align: right;\n",
       "    }\n",
       "</style>\n",
       "<table border=\"1\" class=\"dataframe\">\n",
       "  <thead>\n",
       "    <tr style=\"text-align: right;\">\n",
       "      <th></th>\n",
       "      <th>uid</th>\n",
       "      <th>reported_date</th>\n",
       "      <th>victim_last</th>\n",
       "      <th>victim_first</th>\n",
       "      <th>victim_race</th>\n",
       "      <th>victim_age</th>\n",
       "      <th>victim_sex</th>\n",
       "      <th>city</th>\n",
       "      <th>state</th>\n",
       "      <th>lat</th>\n",
       "      <th>lon</th>\n",
       "      <th>disposition</th>\n",
       "    </tr>\n",
       "  </thead>\n",
       "  <tbody>\n",
       "    <tr>\n",
       "      <th>0</th>\n",
       "      <td>Alb-000001</td>\n",
       "      <td>20100504</td>\n",
       "      <td>GARCIA</td>\n",
       "      <td>JUAN</td>\n",
       "      <td>Hispanic</td>\n",
       "      <td>78</td>\n",
       "      <td>Male</td>\n",
       "      <td>Albuquerque</td>\n",
       "      <td>NM</td>\n",
       "      <td>35.095788</td>\n",
       "      <td>-106.538555</td>\n",
       "      <td>Closed without arrest</td>\n",
       "    </tr>\n",
       "    <tr>\n",
       "      <th>1</th>\n",
       "      <td>Alb-000002</td>\n",
       "      <td>20100216</td>\n",
       "      <td>MONTOYA</td>\n",
       "      <td>CAMERON</td>\n",
       "      <td>Hispanic</td>\n",
       "      <td>17</td>\n",
       "      <td>Male</td>\n",
       "      <td>Albuquerque</td>\n",
       "      <td>NM</td>\n",
       "      <td>35.056810</td>\n",
       "      <td>-106.715321</td>\n",
       "      <td>Closed by arrest</td>\n",
       "    </tr>\n",
       "    <tr>\n",
       "      <th>2</th>\n",
       "      <td>Alb-000003</td>\n",
       "      <td>20100601</td>\n",
       "      <td>SATTERFIELD</td>\n",
       "      <td>VIVIANA</td>\n",
       "      <td>White</td>\n",
       "      <td>15</td>\n",
       "      <td>Female</td>\n",
       "      <td>Albuquerque</td>\n",
       "      <td>NM</td>\n",
       "      <td>35.086092</td>\n",
       "      <td>-106.695568</td>\n",
       "      <td>Closed without arrest</td>\n",
       "    </tr>\n",
       "    <tr>\n",
       "      <th>3</th>\n",
       "      <td>Alb-000004</td>\n",
       "      <td>20100101</td>\n",
       "      <td>MENDIOLA</td>\n",
       "      <td>CARLOS</td>\n",
       "      <td>Hispanic</td>\n",
       "      <td>32</td>\n",
       "      <td>Male</td>\n",
       "      <td>Albuquerque</td>\n",
       "      <td>NM</td>\n",
       "      <td>35.078493</td>\n",
       "      <td>-106.556094</td>\n",
       "      <td>Closed by arrest</td>\n",
       "    </tr>\n",
       "    <tr>\n",
       "      <th>4</th>\n",
       "      <td>Alb-000005</td>\n",
       "      <td>20100102</td>\n",
       "      <td>MULA</td>\n",
       "      <td>VIVIAN</td>\n",
       "      <td>White</td>\n",
       "      <td>72</td>\n",
       "      <td>Female</td>\n",
       "      <td>Albuquerque</td>\n",
       "      <td>NM</td>\n",
       "      <td>35.130357</td>\n",
       "      <td>-106.580986</td>\n",
       "      <td>Closed without arrest</td>\n",
       "    </tr>\n",
       "  </tbody>\n",
       "</table>\n",
       "</div>"
      ],
      "text/plain": [
       "          uid  reported_date  victim_last victim_first victim_race victim_age  \\\n",
       "0  Alb-000001       20100504       GARCIA         JUAN    Hispanic         78   \n",
       "1  Alb-000002       20100216      MONTOYA      CAMERON    Hispanic         17   \n",
       "2  Alb-000003       20100601  SATTERFIELD      VIVIANA       White         15   \n",
       "3  Alb-000004       20100101     MENDIOLA       CARLOS    Hispanic         32   \n",
       "4  Alb-000005       20100102         MULA       VIVIAN       White         72   \n",
       "\n",
       "  victim_sex         city state        lat         lon            disposition  \n",
       "0       Male  Albuquerque    NM  35.095788 -106.538555  Closed without arrest  \n",
       "1       Male  Albuquerque    NM  35.056810 -106.715321       Closed by arrest  \n",
       "2     Female  Albuquerque    NM  35.086092 -106.695568  Closed without arrest  \n",
       "3       Male  Albuquerque    NM  35.078493 -106.556094       Closed by arrest  \n",
       "4     Female  Albuquerque    NM  35.130357 -106.580986  Closed without arrest  "
      ]
     },
     "execution_count": 2,
     "metadata": {},
     "output_type": "execute_result"
    }
   ],
   "source": [
    "homicide_data.head()"
   ]
  },
  {
   "cell_type": "code",
   "execution_count": 3,
   "id": "83c632e8",
   "metadata": {},
   "outputs": [
    {
     "data": {
      "text/html": [
       "<div>\n",
       "<style scoped>\n",
       "    .dataframe tbody tr th:only-of-type {\n",
       "        vertical-align: middle;\n",
       "    }\n",
       "\n",
       "    .dataframe tbody tr th {\n",
       "        vertical-align: top;\n",
       "    }\n",
       "\n",
       "    .dataframe thead th {\n",
       "        text-align: right;\n",
       "    }\n",
       "</style>\n",
       "<table border=\"1\" class=\"dataframe\">\n",
       "  <thead>\n",
       "    <tr style=\"text-align: right;\">\n",
       "      <th></th>\n",
       "      <th>uid</th>\n",
       "      <th>reported_date</th>\n",
       "      <th>victim_last</th>\n",
       "      <th>victim_first</th>\n",
       "      <th>victim_race</th>\n",
       "      <th>victim_age</th>\n",
       "      <th>victim_sex</th>\n",
       "      <th>city</th>\n",
       "      <th>state</th>\n",
       "      <th>lat</th>\n",
       "      <th>lon</th>\n",
       "      <th>disposition</th>\n",
       "    </tr>\n",
       "  </thead>\n",
       "  <tbody>\n",
       "    <tr>\n",
       "      <th>33584</th>\n",
       "      <td>Mia-000649</td>\n",
       "      <td>201511018</td>\n",
       "      <td>SALAS</td>\n",
       "      <td>LUIS</td>\n",
       "      <td>Hispanic</td>\n",
       "      <td>Unknown</td>\n",
       "      <td>Male</td>\n",
       "      <td>Miami</td>\n",
       "      <td>FL</td>\n",
       "      <td>25.7699</td>\n",
       "      <td>-80.217186</td>\n",
       "      <td>Closed by arrest</td>\n",
       "    </tr>\n",
       "  </tbody>\n",
       "</table>\n",
       "</div>"
      ],
      "text/plain": [
       "              uid  reported_date victim_last victim_first victim_race  \\\n",
       "33584  Mia-000649      201511018       SALAS         LUIS    Hispanic   \n",
       "\n",
       "      victim_age victim_sex   city state      lat        lon       disposition  \n",
       "33584    Unknown       Male  Miami    FL  25.7699 -80.217186  Closed by arrest  "
      ]
     },
     "execution_count": 3,
     "metadata": {},
     "output_type": "execute_result"
    }
   ],
   "source": [
    "specific_uid1 = homicide_data.loc[homicide_data['uid'] == 'Mia-000649']\n",
    "specific_uid1"
   ]
  },
  {
   "cell_type": "code",
   "execution_count": 4,
   "id": "1877ea37",
   "metadata": {},
   "outputs": [
    {
     "data": {
      "text/html": [
       "<div>\n",
       "<style scoped>\n",
       "    .dataframe tbody tr th:only-of-type {\n",
       "        vertical-align: middle;\n",
       "    }\n",
       "\n",
       "    .dataframe tbody tr th {\n",
       "        vertical-align: top;\n",
       "    }\n",
       "\n",
       "    .dataframe thead th {\n",
       "        text-align: right;\n",
       "    }\n",
       "</style>\n",
       "<table border=\"1\" class=\"dataframe\">\n",
       "  <thead>\n",
       "    <tr style=\"text-align: right;\">\n",
       "      <th></th>\n",
       "      <th>uid</th>\n",
       "      <th>reported_date</th>\n",
       "      <th>victim_last</th>\n",
       "      <th>victim_first</th>\n",
       "      <th>victim_race</th>\n",
       "      <th>victim_age</th>\n",
       "      <th>victim_sex</th>\n",
       "      <th>city</th>\n",
       "      <th>state</th>\n",
       "      <th>lat</th>\n",
       "      <th>lon</th>\n",
       "      <th>disposition</th>\n",
       "    </tr>\n",
       "  </thead>\n",
       "  <tbody>\n",
       "    <tr>\n",
       "      <th>33587</th>\n",
       "      <td>Mia-000652</td>\n",
       "      <td>201511105</td>\n",
       "      <td>BUNCH</td>\n",
       "      <td>GERALD A.</td>\n",
       "      <td>Black</td>\n",
       "      <td>Unknown</td>\n",
       "      <td>Male</td>\n",
       "      <td>Miami</td>\n",
       "      <td>FL</td>\n",
       "      <td>25.826947</td>\n",
       "      <td>-80.202117</td>\n",
       "      <td>Open/No arrest</td>\n",
       "    </tr>\n",
       "  </tbody>\n",
       "</table>\n",
       "</div>"
      ],
      "text/plain": [
       "              uid  reported_date victim_last victim_first victim_race  \\\n",
       "33587  Mia-000652      201511105       BUNCH    GERALD A.       Black   \n",
       "\n",
       "      victim_age victim_sex   city state        lat        lon     disposition  \n",
       "33587    Unknown       Male  Miami    FL  25.826947 -80.202117  Open/No arrest  "
      ]
     },
     "execution_count": 4,
     "metadata": {},
     "output_type": "execute_result"
    }
   ],
   "source": [
    "specific_uid2 = homicide_data.loc[homicide_data['uid'] == 'Mia-000652']\n",
    "specific_uid2"
   ]
  },
  {
   "cell_type": "code",
   "execution_count": 5,
   "id": "f52f375e",
   "metadata": {},
   "outputs": [],
   "source": [
    "# Assuming 'uid' is a unique identifier in your DataFrame\n",
    "chosen_uid1 = 'Mia-000649'\n",
    "new_reported_date1 = '20151118'\n",
    "\n",
    "# Locate the specific row with the given 'uid' value and update the 'reported_date'\n",
    "homicide_data.loc[homicide_data['uid'] == chosen_uid1, 'reported_date'] = new_reported_date1"
   ]
  },
  {
   "cell_type": "code",
   "execution_count": 6,
   "id": "7c7312af",
   "metadata": {},
   "outputs": [],
   "source": [
    "# Assuming 'uid' is a unique identifier in your DataFrame\n",
    "chosen_uid2 = 'Mia-000652'\n",
    "new_reported_date2 = '20151105'\n",
    "\n",
    "# Locate the specific row with the given 'uid' value and update the 'reported_date'\n",
    "homicide_data.loc[homicide_data['uid'] == chosen_uid2, 'reported_date'] = new_reported_date2"
   ]
  },
  {
   "cell_type": "code",
   "execution_count": 7,
   "id": "cff51fe6",
   "metadata": {},
   "outputs": [
    {
     "data": {
      "text/plain": [
       "array(['NM', 'GA', 'MD', 'LA', 'AL', 'MA', 'NY', 'NC', 'IL', 'OH', 'TX',\n",
       "       'CO', 'MI', 'CA', 'IN', 'FL', 'MO', 'NV', 'KY', 'TN', 'wI', 'MN',\n",
       "       'OK', 'NE', 'PA', 'AZ', 'VA', 'DC'], dtype=object)"
      ]
     },
     "execution_count": 7,
     "metadata": {},
     "output_type": "execute_result"
    }
   ],
   "source": [
    "homicide_data['state'].unique()"
   ]
  },
  {
   "cell_type": "code",
   "execution_count": 8,
   "id": "d9606fab",
   "metadata": {},
   "outputs": [],
   "source": [
    "#Wisconsin is WI no wI\n",
    "homicide_data['state'] = homicide_data['state'].replace('wI', 'WI')"
   ]
  },
  {
   "cell_type": "code",
   "execution_count": 9,
   "id": "cbde6388",
   "metadata": {},
   "outputs": [],
   "source": [
    "# Replace \"unknown\" values with NaN\n",
    "homicide_data.replace('Unknown', pd.NA, inplace=True)"
   ]
  },
  {
   "cell_type": "code",
   "execution_count": 10,
   "id": "e84ee45d",
   "metadata": {},
   "outputs": [],
   "source": [
    "#Some states/cities did not disclose victim names\n",
    "homicide_data =  homicide_data.drop(columns = [\"victim_last\", \"victim_first\"])"
   ]
  },
  {
   "cell_type": "code",
   "execution_count": 11,
   "id": "b515d084",
   "metadata": {},
   "outputs": [
    {
     "name": "stdout",
     "output_type": "stream",
     "text": [
      "<class 'pandas.core.frame.DataFrame'>\n",
      "RangeIndex: 52179 entries, 0 to 52178\n",
      "Data columns (total 10 columns):\n",
      " #   Column         Non-Null Count  Dtype  \n",
      "---  ------         --------------  -----  \n",
      " 0   uid            52179 non-null  object \n",
      " 1   reported_date  52179 non-null  object \n",
      " 2   victim_race    47980 non-null  object \n",
      " 3   victim_age     49180 non-null  object \n",
      " 4   victim_sex     47948 non-null  object \n",
      " 5   city           52179 non-null  object \n",
      " 6   state          52179 non-null  object \n",
      " 7   lat            52119 non-null  float64\n",
      " 8   lon            52119 non-null  float64\n",
      " 9   disposition    52179 non-null  object \n",
      "dtypes: float64(2), object(8)\n",
      "memory usage: 4.0+ MB\n"
     ]
    }
   ],
   "source": [
    "homicide_data.info()"
   ]
  },
  {
   "cell_type": "code",
   "execution_count": 12,
   "id": "5b6aac93",
   "metadata": {},
   "outputs": [],
   "source": [
    "homicide_data.disposition = homicide_data.disposition.replace(\"Closed without arrest\", \"No Arrest\")\n",
    "homicide_data.disposition = homicide_data.disposition.replace(\"Open/No arrest\", \"No Arrest\")\n",
    "homicide_data.disposition = homicide_data.disposition.replace(\"Closed by arrest\", \"Arrest Made\")"
   ]
  },
  {
   "cell_type": "code",
   "execution_count": 13,
   "id": "ce201caa",
   "metadata": {},
   "outputs": [
    {
     "data": {
      "text/plain": [
       "0        20100504\n",
       "1        20100216\n",
       "2        20100601\n",
       "3        20100101\n",
       "4        20100102\n",
       "           ...   \n",
       "52174    20160908\n",
       "52175    20160913\n",
       "52176    20161114\n",
       "52177    20161130\n",
       "52178    20160901\n",
       "Name: reported_date, Length: 52179, dtype: object"
      ]
     },
     "execution_count": 13,
     "metadata": {},
     "output_type": "execute_result"
    }
   ],
   "source": [
    "homicide_data['reported_date']"
   ]
  },
  {
   "cell_type": "code",
   "execution_count": 14,
   "id": "c8034c9f",
   "metadata": {},
   "outputs": [],
   "source": [
    "# Convert the 'reported_date' column to datetime\n",
    "homicide_data['reported_date'] = pd.to_datetime(homicide_data['reported_date'], format='%Y%m%d')"
   ]
  },
  {
   "cell_type": "code",
   "execution_count": 15,
   "id": "f6a54d1e",
   "metadata": {},
   "outputs": [],
   "source": [
    "homicide_data['reported_year'] = homicide_data['reported_date'].dt.year\n",
    "homicide_data['reported_month'] = homicide_data['reported_date'].dt.month\n",
    "homicide_data['reported_weekday'] = homicide_data['reported_date'].dt.dayofweek"
   ]
  },
  {
   "cell_type": "code",
   "execution_count": 16,
   "id": "5afc6b0c",
   "metadata": {},
   "outputs": [
    {
     "data": {
      "text/plain": [
       "6    8605\n",
       "5    8348\n",
       "0    7564\n",
       "4    7095\n",
       "1    6972\n",
       "2    6872\n",
       "3    6723\n",
       "Name: reported_weekday, dtype: int64"
      ]
     },
     "execution_count": 16,
     "metadata": {},
     "output_type": "execute_result"
    }
   ],
   "source": [
    "homicide_data['reported_weekday'].value_counts()"
   ]
  },
  {
   "cell_type": "code",
   "execution_count": 17,
   "id": "33410157",
   "metadata": {},
   "outputs": [],
   "source": [
    "# Convert 'victim_age' to numeric\n",
    "homicide_data['victim_age'] = pd.to_numeric(homicide_data['victim_age'], errors='coerce')\n",
    "\n",
    "# Define the age bins and labels\n",
    "age_bins = [0, 18, 30, 45, 64, float('inf')]\n",
    "age_labels = ['0-17', '18-29', '30-44', '45-64', '65+']\n",
    "\n",
    "# Bin the 'victim_age' column and create a new column 'age_range'\n",
    "homicide_data['age_range'] = pd.cut(homicide_data['victim_age'], bins=age_bins, labels=age_labels, right=False)"
   ]
  },
  {
   "cell_type": "code",
   "execution_count": 18,
   "id": "fbfb7166",
   "metadata": {},
   "outputs": [
    {
     "data": {
      "text/plain": [
       "18-29    22181\n",
       "30-44    13939\n",
       "45-64     7415\n",
       "0-17      4060\n",
       "65+       1585\n",
       "Name: age_range, dtype: int64"
      ]
     },
     "execution_count": 18,
     "metadata": {},
     "output_type": "execute_result"
    }
   ],
   "source": [
    "homicide_data.age_range.value_counts()"
   ]
  },
  {
   "cell_type": "code",
   "execution_count": 19,
   "id": "65ea5962",
   "metadata": {},
   "outputs": [
    {
     "name": "stdout",
     "output_type": "stream",
     "text": [
      "<class 'pandas.core.frame.DataFrame'>\n",
      "RangeIndex: 52179 entries, 0 to 52178\n",
      "Data columns (total 14 columns):\n",
      " #   Column            Non-Null Count  Dtype         \n",
      "---  ------            --------------  -----         \n",
      " 0   uid               52179 non-null  object        \n",
      " 1   reported_date     52179 non-null  datetime64[ns]\n",
      " 2   victim_race       47980 non-null  object        \n",
      " 3   victim_age        49180 non-null  float64       \n",
      " 4   victim_sex        47948 non-null  object        \n",
      " 5   city              52179 non-null  object        \n",
      " 6   state             52179 non-null  object        \n",
      " 7   lat               52119 non-null  float64       \n",
      " 8   lon               52119 non-null  float64       \n",
      " 9   disposition       52179 non-null  object        \n",
      " 10  reported_year     52179 non-null  int64         \n",
      " 11  reported_month    52179 non-null  int64         \n",
      " 12  reported_weekday  52179 non-null  int64         \n",
      " 13  age_range         49180 non-null  category      \n",
      "dtypes: category(1), datetime64[ns](1), float64(3), int64(3), object(6)\n",
      "memory usage: 5.2+ MB\n"
     ]
    }
   ],
   "source": [
    "homicide_data.info()"
   ]
  },
  {
   "cell_type": "code",
   "execution_count": 20,
   "id": "54dfd77a",
   "metadata": {},
   "outputs": [],
   "source": [
    "# Define a function to map month values to seasons\n",
    "def get_season(reported_month):\n",
    "    if reported_month in [12,1,2]:\n",
    "        return 'Winter'\n",
    "    elif reported_month in [3, 4, 5]:\n",
    "        return 'Spring'\n",
    "    elif reported_month in [6, 7, 8]:\n",
    "        return 'Summer'\n",
    "    elif reported_month in [9, 10, 11]:\n",
    "        return 'Fall'\n",
    "    else:\n",
    "        return 'Unknown'  # Handle invalid month values if any\n",
    "\n",
    "# Apply the function to create a new \"season\" column\n",
    "homicide_data['season'] = homicide_data['reported_month'].apply(get_season)"
   ]
  },
  {
   "cell_type": "code",
   "execution_count": 21,
   "id": "22c037ec",
   "metadata": {},
   "outputs": [
    {
     "data": {
      "text/html": [
       "<div>\n",
       "<style scoped>\n",
       "    .dataframe tbody tr th:only-of-type {\n",
       "        vertical-align: middle;\n",
       "    }\n",
       "\n",
       "    .dataframe tbody tr th {\n",
       "        vertical-align: top;\n",
       "    }\n",
       "\n",
       "    .dataframe thead th {\n",
       "        text-align: right;\n",
       "    }\n",
       "</style>\n",
       "<table border=\"1\" class=\"dataframe\">\n",
       "  <thead>\n",
       "    <tr style=\"text-align: right;\">\n",
       "      <th></th>\n",
       "      <th>uid</th>\n",
       "      <th>reported_date</th>\n",
       "      <th>victim_race</th>\n",
       "      <th>victim_age</th>\n",
       "      <th>victim_sex</th>\n",
       "      <th>city</th>\n",
       "      <th>state</th>\n",
       "      <th>lat</th>\n",
       "      <th>lon</th>\n",
       "      <th>disposition</th>\n",
       "      <th>reported_year</th>\n",
       "      <th>reported_month</th>\n",
       "      <th>reported_weekday</th>\n",
       "      <th>age_range</th>\n",
       "      <th>season</th>\n",
       "    </tr>\n",
       "  </thead>\n",
       "  <tbody>\n",
       "    <tr>\n",
       "      <th>0</th>\n",
       "      <td>Alb-000001</td>\n",
       "      <td>2010-05-04</td>\n",
       "      <td>Hispanic</td>\n",
       "      <td>78.0</td>\n",
       "      <td>Male</td>\n",
       "      <td>Albuquerque</td>\n",
       "      <td>NM</td>\n",
       "      <td>35.095788</td>\n",
       "      <td>-106.538555</td>\n",
       "      <td>No Arrest</td>\n",
       "      <td>2010</td>\n",
       "      <td>5</td>\n",
       "      <td>1</td>\n",
       "      <td>65+</td>\n",
       "      <td>Spring</td>\n",
       "    </tr>\n",
       "    <tr>\n",
       "      <th>1</th>\n",
       "      <td>Alb-000002</td>\n",
       "      <td>2010-02-16</td>\n",
       "      <td>Hispanic</td>\n",
       "      <td>17.0</td>\n",
       "      <td>Male</td>\n",
       "      <td>Albuquerque</td>\n",
       "      <td>NM</td>\n",
       "      <td>35.056810</td>\n",
       "      <td>-106.715321</td>\n",
       "      <td>Arrest Made</td>\n",
       "      <td>2010</td>\n",
       "      <td>2</td>\n",
       "      <td>1</td>\n",
       "      <td>0-17</td>\n",
       "      <td>Winter</td>\n",
       "    </tr>\n",
       "    <tr>\n",
       "      <th>2</th>\n",
       "      <td>Alb-000003</td>\n",
       "      <td>2010-06-01</td>\n",
       "      <td>White</td>\n",
       "      <td>15.0</td>\n",
       "      <td>Female</td>\n",
       "      <td>Albuquerque</td>\n",
       "      <td>NM</td>\n",
       "      <td>35.086092</td>\n",
       "      <td>-106.695568</td>\n",
       "      <td>No Arrest</td>\n",
       "      <td>2010</td>\n",
       "      <td>6</td>\n",
       "      <td>1</td>\n",
       "      <td>0-17</td>\n",
       "      <td>Summer</td>\n",
       "    </tr>\n",
       "    <tr>\n",
       "      <th>3</th>\n",
       "      <td>Alb-000004</td>\n",
       "      <td>2010-01-01</td>\n",
       "      <td>Hispanic</td>\n",
       "      <td>32.0</td>\n",
       "      <td>Male</td>\n",
       "      <td>Albuquerque</td>\n",
       "      <td>NM</td>\n",
       "      <td>35.078493</td>\n",
       "      <td>-106.556094</td>\n",
       "      <td>Arrest Made</td>\n",
       "      <td>2010</td>\n",
       "      <td>1</td>\n",
       "      <td>4</td>\n",
       "      <td>30-44</td>\n",
       "      <td>Winter</td>\n",
       "    </tr>\n",
       "    <tr>\n",
       "      <th>4</th>\n",
       "      <td>Alb-000005</td>\n",
       "      <td>2010-01-02</td>\n",
       "      <td>White</td>\n",
       "      <td>72.0</td>\n",
       "      <td>Female</td>\n",
       "      <td>Albuquerque</td>\n",
       "      <td>NM</td>\n",
       "      <td>35.130357</td>\n",
       "      <td>-106.580986</td>\n",
       "      <td>No Arrest</td>\n",
       "      <td>2010</td>\n",
       "      <td>1</td>\n",
       "      <td>5</td>\n",
       "      <td>65+</td>\n",
       "      <td>Winter</td>\n",
       "    </tr>\n",
       "  </tbody>\n",
       "</table>\n",
       "</div>"
      ],
      "text/plain": [
       "          uid reported_date victim_race  victim_age victim_sex         city  \\\n",
       "0  Alb-000001    2010-05-04    Hispanic        78.0       Male  Albuquerque   \n",
       "1  Alb-000002    2010-02-16    Hispanic        17.0       Male  Albuquerque   \n",
       "2  Alb-000003    2010-06-01       White        15.0     Female  Albuquerque   \n",
       "3  Alb-000004    2010-01-01    Hispanic        32.0       Male  Albuquerque   \n",
       "4  Alb-000005    2010-01-02       White        72.0     Female  Albuquerque   \n",
       "\n",
       "  state        lat         lon  disposition  reported_year  reported_month  \\\n",
       "0    NM  35.095788 -106.538555    No Arrest           2010               5   \n",
       "1    NM  35.056810 -106.715321  Arrest Made           2010               2   \n",
       "2    NM  35.086092 -106.695568    No Arrest           2010               6   \n",
       "3    NM  35.078493 -106.556094  Arrest Made           2010               1   \n",
       "4    NM  35.130357 -106.580986    No Arrest           2010               1   \n",
       "\n",
       "   reported_weekday age_range  season  \n",
       "0                 1       65+  Spring  \n",
       "1                 1      0-17  Winter  \n",
       "2                 1      0-17  Summer  \n",
       "3                 4     30-44  Winter  \n",
       "4                 5       65+  Winter  "
      ]
     },
     "execution_count": 21,
     "metadata": {},
     "output_type": "execute_result"
    }
   ],
   "source": [
    "homicide_data.head()"
   ]
  },
  {
   "cell_type": "code",
   "execution_count": 22,
   "id": "83fbabbf",
   "metadata": {},
   "outputs": [],
   "source": [
    "# Create a new column 'LOCATION' by concatenating 'city' and 'state' with a comma separator\n",
    "homicide_data['LOCATION'] = homicide_data['city'] + ', ' + homicide_data['state']"
   ]
  },
  {
   "cell_type": "code",
   "execution_count": 23,
   "id": "eb75e5c8",
   "metadata": {},
   "outputs": [
    {
     "data": {
      "text/plain": [
       "array(['Albuquerque, NM', 'Atlanta, GA', 'Baltimore, MD',\n",
       "       'Baton Rouge, LA', 'Birmingham, AL', 'Boston, MA', 'Buffalo, NY',\n",
       "       'Charlotte, NC', 'Chicago, IL', 'Cincinnati, OH', 'Columbus, OH',\n",
       "       'Dallas, TX', 'Denver, CO', 'Detroit, MI', 'Durham, NC',\n",
       "       'Fort Worth, TX', 'Fresno, CA', 'Houston, TX', 'Indianapolis, IN',\n",
       "       'Jacksonville, FL', 'Kansas City, MO', 'Las Vegas, NV',\n",
       "       'Long Beach, CA', 'Los Angeles, CA', 'Louisville, KY',\n",
       "       'Memphis, TN', 'Miami, FL', 'Milwaukee, WI', 'Minneapolis, MN',\n",
       "       'Nashville, TN', 'New Orleans, LA', 'New York, NY', 'Oakland, CA',\n",
       "       'Oklahoma City, OK', 'Omaha, NE', 'Philadelphia, PA',\n",
       "       'Phoenix, AZ', 'Pittsburgh, PA', 'Richmond, VA', 'San Antonio, TX',\n",
       "       'Sacramento, CA', 'Savannah, GA', 'San Bernardino, CA',\n",
       "       'San Diego, CA', 'San Francisco, CA', 'St. Louis, MO',\n",
       "       'Stockton, CA', 'Tampa, FL', 'Tulsa, OK', 'Tulsa, AL',\n",
       "       'Washington, DC'], dtype=object)"
      ]
     },
     "execution_count": 23,
     "metadata": {},
     "output_type": "execute_result"
    }
   ],
   "source": [
    "homicide_data['LOCATION'].unique()"
   ]
  },
  {
   "cell_type": "code",
   "execution_count": 24,
   "id": "dc7c2a34",
   "metadata": {},
   "outputs": [],
   "source": [
    "#There is no Tulsa, AL. The lon and lat indicate Oklahoma.\n",
    "# Replace 'AL' with 'OK' for 'LOCATION' containing 'city' Tulsa.\n",
    "homicide_data['LOCATION'] = homicide_data['LOCATION'].str.replace(r'Tulsa.*, AL$', 'Tulsa, OK', regex=True)"
   ]
  },
  {
   "cell_type": "code",
   "execution_count": 25,
   "id": "101a7472",
   "metadata": {},
   "outputs": [
    {
     "data": {
      "text/plain": [
       "array(['Albuquerque, NM', 'Atlanta, GA', 'Baltimore, MD',\n",
       "       'Baton Rouge, LA', 'Birmingham, AL', 'Boston, MA', 'Buffalo, NY',\n",
       "       'Charlotte, NC', 'Chicago, IL', 'Cincinnati, OH', 'Columbus, OH',\n",
       "       'Dallas, TX', 'Denver, CO', 'Detroit, MI', 'Durham, NC',\n",
       "       'Fort Worth, TX', 'Fresno, CA', 'Houston, TX', 'Indianapolis, IN',\n",
       "       'Jacksonville, FL', 'Kansas City, MO', 'Las Vegas, NV',\n",
       "       'Long Beach, CA', 'Los Angeles, CA', 'Louisville, KY',\n",
       "       'Memphis, TN', 'Miami, FL', 'Milwaukee, WI', 'Minneapolis, MN',\n",
       "       'Nashville, TN', 'New Orleans, LA', 'New York, NY', 'Oakland, CA',\n",
       "       'Oklahoma City, OK', 'Omaha, NE', 'Philadelphia, PA',\n",
       "       'Phoenix, AZ', 'Pittsburgh, PA', 'Richmond, VA', 'San Antonio, TX',\n",
       "       'Sacramento, CA', 'Savannah, GA', 'San Bernardino, CA',\n",
       "       'San Diego, CA', 'San Francisco, CA', 'St. Louis, MO',\n",
       "       'Stockton, CA', 'Tampa, FL', 'Tulsa, OK', 'Washington, DC'],\n",
       "      dtype=object)"
      ]
     },
     "execution_count": 25,
     "metadata": {},
     "output_type": "execute_result"
    }
   ],
   "source": [
    "homicide_data['LOCATION'].unique()"
   ]
  },
  {
   "cell_type": "code",
   "execution_count": 26,
   "id": "c6426eaf",
   "metadata": {},
   "outputs": [],
   "source": [
    "locations_to_keep = homicide_data['LOCATION'].unique()"
   ]
  },
  {
   "cell_type": "code",
   "execution_count": 27,
   "id": "2e1f506b",
   "metadata": {},
   "outputs": [],
   "source": [
    "# Specify the path for the new CSV file where you want to save the filtered data\n",
    "output_csv = Path(\"data/unfiltered_homicide_data.csv\")\n",
    "\n",
    "# Save the filtered DataFrame to the new CSV file\n",
    "homicide_data.to_csv(output_csv, index=False)"
   ]
  },
  {
   "cell_type": "code",
   "execution_count": 28,
   "id": "1f2f8031",
   "metadata": {},
   "outputs": [
    {
     "name": "stdout",
     "output_type": "stream",
     "text": [
      "<class 'pandas.core.frame.DataFrame'>\n",
      "RangeIndex: 52179 entries, 0 to 52178\n",
      "Data columns (total 16 columns):\n",
      " #   Column            Non-Null Count  Dtype         \n",
      "---  ------            --------------  -----         \n",
      " 0   uid               52179 non-null  object        \n",
      " 1   reported_date     52179 non-null  datetime64[ns]\n",
      " 2   victim_race       47980 non-null  object        \n",
      " 3   victim_age        49180 non-null  float64       \n",
      " 4   victim_sex        47948 non-null  object        \n",
      " 5   city              52179 non-null  object        \n",
      " 6   state             52179 non-null  object        \n",
      " 7   lat               52119 non-null  float64       \n",
      " 8   lon               52119 non-null  float64       \n",
      " 9   disposition       52179 non-null  object        \n",
      " 10  reported_year     52179 non-null  int64         \n",
      " 11  reported_month    52179 non-null  int64         \n",
      " 12  reported_weekday  52179 non-null  int64         \n",
      " 13  age_range         49180 non-null  category      \n",
      " 14  season            52179 non-null  object        \n",
      " 15  LOCATION          52179 non-null  object        \n",
      "dtypes: category(1), datetime64[ns](1), float64(3), int64(3), object(8)\n",
      "memory usage: 6.0+ MB\n"
     ]
    }
   ],
   "source": [
    "homicide_data.info()"
   ]
  },
  {
   "cell_type": "markdown",
   "id": "199fd964",
   "metadata": {},
   "source": [
    "***Population Data***"
   ]
  },
  {
   "cell_type": "code",
   "execution_count": 29,
   "id": "2c1fa13b",
   "metadata": {},
   "outputs": [],
   "source": [
    "# Define the file paths using Path\n",
    "all_pop_csv = Path(\"data/all_pop_data.csv\")\n",
    "\n",
    "# Load filtered_pop_data.csv into a DataFrame with the specified encoding\n",
    "all_pop_df = pd.read_csv(all_pop_csv, encoding='latin1')\n"
   ]
  },
  {
   "cell_type": "markdown",
   "id": "ba85d8af",
   "metadata": {},
   "source": [
    "***Create a new table for specific date***"
   ]
  },
  {
   "cell_type": "code",
   "execution_count": 30,
   "id": "e1cea243",
   "metadata": {},
   "outputs": [
    {
     "name": "stdout",
     "output_type": "stream",
     "text": [
      "<class 'pandas.core.frame.DataFrame'>\n",
      "RangeIndex: 39274 entries, 0 to 39273\n",
      "Data columns (total 14 columns):\n",
      " #   Column    Non-Null Count  Dtype \n",
      "---  ------    --------------  ----- \n",
      " 0   NAME      39274 non-null  object\n",
      " 1   STNAME    39274 non-null  object\n",
      " 2   LOCATION  39274 non-null  object\n",
      " 3   2007      39274 non-null  int64 \n",
      " 4   2008      39274 non-null  int64 \n",
      " 5   2009      39274 non-null  int64 \n",
      " 6   2010      39274 non-null  object\n",
      " 7   2011      39274 non-null  int64 \n",
      " 8   2012      39274 non-null  int64 \n",
      " 9   2013      39274 non-null  int64 \n",
      " 10  2014      39274 non-null  int64 \n",
      " 11  2015      39274 non-null  int64 \n",
      " 12  2016      39274 non-null  int64 \n",
      " 13  2017      39274 non-null  int64 \n",
      "dtypes: int64(10), object(4)\n",
      "memory usage: 4.2+ MB\n"
     ]
    }
   ],
   "source": [
    "all_pop_df.info()"
   ]
  },
  {
   "cell_type": "code",
   "execution_count": 31,
   "id": "4cdb4c47",
   "metadata": {},
   "outputs": [
    {
     "ename": "NameError",
     "evalue": "name 'merged_df' is not defined",
     "output_type": "error",
     "traceback": [
      "\u001b[1;31m---------------------------------------------------------------------------\u001b[0m",
      "\u001b[1;31mNameError\u001b[0m                                 Traceback (most recent call last)",
      "Cell \u001b[1;32mIn[31], line 1\u001b[0m\n\u001b[1;32m----> 1\u001b[0m filtered_pop_df \u001b[38;5;241m=\u001b[39m \u001b[43mmerged_df\u001b[49m[merged_df[\u001b[38;5;124m'\u001b[39m\u001b[38;5;124mLOCATION\u001b[39m\u001b[38;5;124m'\u001b[39m]\u001b[38;5;241m.\u001b[39misin(locations_to_keep)]\n\u001b[0;32m      2\u001b[0m filtered_pop_df\u001b[38;5;241m.\u001b[39mhead()\n",
      "\u001b[1;31mNameError\u001b[0m: name 'merged_df' is not defined"
     ]
    }
   ],
   "source": [
    "filtered_pop_df = merged_df[merged_df['LOCATION'].isin(locations_to_keep)]\n",
    "filtered_pop_df.head()"
   ]
  },
  {
   "cell_type": "code",
   "execution_count": null,
   "id": "3d47d7ca",
   "metadata": {},
   "outputs": [],
   "source": [
    "id_vars = ['NAME', 'STNAME', 'LOCATION']\n",
    "value_vars = ['2007', '2008', '2009', '2010', '2011',\n",
    "       '2012', '2013', '2014', '2015', '2016', '2017']"
   ]
  },
  {
   "cell_type": "code",
   "execution_count": null,
   "id": "6a3dd447",
   "metadata": {},
   "outputs": [],
   "source": [
    "df_melt = pd.melt(filtered_pop_df,id_vars=id_vars,value_vars=value_vars,var_name=\"YEAR\", value_name=\"POPULATION\")\n",
    "df_melt['YEAR'] = df_melt.YEAR.astype(int)\n",
    "df_melt['POPULATION'] = df_melt.POPULATION.astype(int)"
   ]
  },
  {
   "cell_type": "code",
   "execution_count": null,
   "id": "fd84445b",
   "metadata": {},
   "outputs": [],
   "source": [
    "df_melt.info()"
   ]
  },
  {
   "cell_type": "code",
   "execution_count": null,
   "id": "82d536c3",
   "metadata": {},
   "outputs": [],
   "source": [
    "df_final = pd.merge(homicide_data, df_melt, left_on = ['LOCATION','reported_year'],\n",
    "                    right_on = ['LOCATION', 'YEAR'], how = 'left')"
   ]
  },
  {
   "cell_type": "code",
   "execution_count": null,
   "id": "f122f25c",
   "metadata": {},
   "outputs": [],
   "source": [
    "df_final['LOCATION'].unique()"
   ]
  },
  {
   "cell_type": "code",
   "execution_count": null,
   "id": "d038a124",
   "metadata": {},
   "outputs": [],
   "source": [
    "df_per = df_final.groupby([\"LOCATION\",\"reported_year\"]).agg({\"uid\":\"size\",\"POPULATION\": 'max'}).reset_index()\n",
    "df_per[\"homicides_per_100000\"] = df_per[\"uid\"]/df_per[\"POPULATION\"]*100000\n",
    "\n",
    "df_per.info()"
   ]
  },
  {
   "cell_type": "code",
   "execution_count": null,
   "id": "310f3e9e",
   "metadata": {},
   "outputs": [],
   "source": [
    "# Specify the path for the new CSV file where you want to save the filtered data\n",
    "output_csv = Path(\"data/unfiltered_per_100000.csv\")\n",
    "\n",
    "# Save the filtered DataFrame to the new CSV file\n",
    "df_per.to_csv(output_csv, index=False, header=True)"
   ]
  },
  {
   "cell_type": "code",
   "execution_count": null,
   "id": "46781f6e",
   "metadata": {},
   "outputs": [],
   "source": []
  },
  {
   "cell_type": "code",
   "execution_count": null,
   "id": "c30aa7b6",
   "metadata": {},
   "outputs": [],
   "source": [
    "# Define List 1 and List 2\n",
    "list1 = locations_to_keep\n",
    "\n",
    "list2 = filtered_pop_df['LOCATION']\n",
    "\n",
    "# Convert both lists to sets for efficient set operations\n",
    "set1 = set(list1)\n",
    "set2 = set(list2)\n",
    "\n",
    "# Find cities in List 1 that are not in List 2\n",
    "cities_not_in_list2 = set1 - set2\n",
    "\n",
    "# Convert the result back to a list if needed\n",
    "cities_not_in_list2_list = list(cities_not_in_list2)\n",
    "\n",
    "# Print the cities not in List 2\n",
    "print(\"Cities in List 1 but not in List 2:\")\n",
    "for city in cities_not_in_list2_list:\n",
    "    print(city)\n"
   ]
  }
 ],
 "metadata": {
  "kernelspec": {
   "display_name": "Python 3 (ipykernel)",
   "language": "python",
   "name": "python3"
  },
  "language_info": {
   "codemirror_mode": {
    "name": "ipython",
    "version": 3
   },
   "file_extension": ".py",
   "mimetype": "text/x-python",
   "name": "python",
   "nbconvert_exporter": "python",
   "pygments_lexer": "ipython3",
   "version": "3.10.9"
  }
 },
 "nbformat": 4,
 "nbformat_minor": 5
}
